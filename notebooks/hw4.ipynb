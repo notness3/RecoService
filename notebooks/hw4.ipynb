{
  "cells": [
    {
      "cell_type": "code",
      "execution_count": 1,
      "id": "a9b20cdc",
      "metadata": {
        "id": "a9b20cdc"
      },
      "outputs": [],
      "source": [
        "%%capture\n",
        "!pip install optuna lightfm rectools==0.4.2"
      ]
    },
    {
      "cell_type": "code",
      "source": [
        "!pip install nmslib implicit rectools[all]"
      ],
      "metadata": {
        "id": "t_1sq2QtPLn6"
      },
      "id": "t_1sq2QtPLn6",
      "execution_count": null,
      "outputs": []
    },
    {
      "cell_type": "code",
      "source": [
        "!pip install -U torch torchvision torchaudio"
      ],
      "metadata": {
        "id": "wf4DV5a1Auhw"
      },
      "id": "wf4DV5a1Auhw",
      "execution_count": null,
      "outputs": []
    },
    {
      "cell_type": "code",
      "execution_count": 1,
      "id": "c522350e",
      "metadata": {
        "id": "c522350e",
        "colab": {
          "base_uri": "https://localhost:8080/"
        },
        "outputId": "fcd47c82-7595-4aeb-d86e-518031838141"
      },
      "outputs": [
        {
          "output_type": "stream",
          "name": "stderr",
          "text": [
            "/usr/local/lib/python3.10/dist-packages/implicit/gpu/__init__.py:13: UserWarning: CUDA extension is built, but disabling GPU support because of 'Cuda Error: CUDA driver version is insufficient for CUDA runtime version (/project/./implicit/gpu/utils.h:71)'\n",
            "  warnings.warn(\n"
          ]
        }
      ],
      "source": [
        "from pathlib import Path\n",
        "from typing import List\n",
        "\n",
        "import matplotlib.pyplot as plt\n",
        "import seaborn as sns\n",
        "\n",
        "import pandas as pd\n",
        "import numpy as np\n",
        "\n",
        "from implicit.als import AlternatingLeastSquares\n",
        "from implicit.bpr import BayesianPersonalizedRanking\n",
        "from implicit.lmf import LogisticMatrixFactorization\n",
        "\n",
        "\n",
        "import optuna\n",
        "from optuna.samplers import TPESampler\n",
        "\n",
        "from rectools.metrics import Precision, Recall, MAP, NDCG, Serendipity, calc_metrics\n",
        "from rectools.models import PopularModel, RandomModel, ImplicitALSWrapperModel\n",
        "from rectools import Columns\n",
        "from rectools.dataset import Dataset\n",
        "from rectools.models import ImplicitALSWrapperModel, LightFMWrapperModel\n",
        "from rectools.model_selection import TimeRangeSplitter, cross_validate\n",
        "from rectools.tools import UserToItemAnnRecommender\n",
        "\n",
        "from tqdm import tqdm\n",
        "\n",
        "from lightfm import LightFM\n"
      ]
    },
    {
      "cell_type": "code",
      "source": [
        "from google.colab import drive\n",
        "drive.mount('/content/drive')"
      ],
      "metadata": {
        "colab": {
          "base_uri": "https://localhost:8080/"
        },
        "id": "wqRYyoOtPyCu",
        "outputId": "bc5f95bd-7586-4e32-9e51-880f1d43f5f3"
      },
      "id": "wqRYyoOtPyCu",
      "execution_count": 2,
      "outputs": [
        {
          "output_type": "stream",
          "name": "stdout",
          "text": [
            "Drive already mounted at /content/drive; to attempt to forcibly remount, call drive.mount(\"/content/drive\", force_remount=True).\n"
          ]
        }
      ]
    },
    {
      "cell_type": "code",
      "source": [
        "prefix = '/content/drive/MyDrive/'"
      ],
      "metadata": {
        "id": "jwoWCssCSjlv"
      },
      "id": "jwoWCssCSjlv",
      "execution_count": 3,
      "outputs": []
    },
    {
      "cell_type": "code",
      "execution_count": 4,
      "id": "e402f60d",
      "metadata": {
        "id": "e402f60d"
      },
      "outputs": [],
      "source": [
        "DATA_PATH = Path(prefix + \"data_original\")"
      ]
    },
    {
      "cell_type": "markdown",
      "id": "dd29d472",
      "metadata": {
        "id": "dd29d472"
      },
      "source": [
        "# LOAD DATA"
      ]
    },
    {
      "cell_type": "code",
      "execution_count": 5,
      "id": "b47c1fc3",
      "metadata": {
        "colab": {
          "base_uri": "https://localhost:8080/"
        },
        "id": "b47c1fc3",
        "outputId": "1a101a1a-bd4d-4b92-d44d-7dcd95ce6bfc"
      },
      "outputs": [
        {
          "output_type": "stream",
          "name": "stdout",
          "text": [
            "CPU times: user 5.51 s, sys: 1.78 s, total: 7.29 s\n",
            "Wall time: 9.57 s\n"
          ]
        }
      ],
      "source": [
        "%%time\n",
        "users = pd.read_csv(DATA_PATH / 'users.csv')\n",
        "items = pd.read_csv(DATA_PATH / 'items.csv')\n",
        "interactions = pd.read_csv(DATA_PATH / 'interactions.csv')"
      ]
    },
    {
      "cell_type": "markdown",
      "id": "c17d1179",
      "metadata": {
        "id": "c17d1179"
      },
      "source": [
        "# Preprocess"
      ]
    },
    {
      "cell_type": "code",
      "execution_count": 6,
      "id": "ae698dfa",
      "metadata": {
        "colab": {
          "base_uri": "https://localhost:8080/"
        },
        "id": "ae698dfa",
        "outputId": "ad40ce76-19c1-4750-aa79-cc4d26bc6656"
      },
      "outputs": [
        {
          "output_type": "stream",
          "name": "stdout",
          "text": [
            "train: (4985269, 6)\n",
            "test: (490982, 6)\n"
          ]
        }
      ],
      "source": [
        "Columns.Datetime = 'last_watch_dt'\n",
        "\n",
        "interactions.drop(interactions[interactions[Columns.Datetime].str.len() != 10].index, inplace=True)\n",
        "\n",
        "interactions[Columns.Datetime] = pd.to_datetime(interactions[Columns.Datetime], format='%Y-%m-%d')\n",
        "\n",
        "max_date = interactions[Columns.Datetime].max()\n",
        "\n",
        "interactions[Columns.Weight] = np.where(interactions['watched_pct'] > 10, 3, 1)\n",
        "\n",
        "train = interactions[interactions[Columns.Datetime] < max_date - pd.Timedelta(days=7)].copy()\n",
        "test = interactions[interactions[Columns.Datetime] >= max_date - pd.Timedelta(days=7)].copy()\n",
        "\n",
        "print(f\"train: {train.shape}\")\n",
        "print(f\"test: {test.shape}\")\n",
        "\n",
        "train.drop(train.query(\"total_dur < 300\").index, inplace=True)\n",
        "\n",
        "# отфильтруем холодных пользователей из теста\n",
        "cold_users = set(test[Columns.User]) - set(train[Columns.User])\n",
        "\n",
        "test.drop(test[test[Columns.User].isin(cold_users)].index, inplace=True)"
      ]
    },
    {
      "cell_type": "markdown",
      "id": "e8377073",
      "metadata": {
        "id": "e8377073"
      },
      "source": [
        "# Prepare features"
      ]
    },
    {
      "cell_type": "code",
      "execution_count": 7,
      "id": "c99e4a79",
      "metadata": {
        "id": "c99e4a79"
      },
      "outputs": [],
      "source": [
        "def get_user_features(users: pd.DataFrame, interactions: pd.DataFrame, features: List[str]):\n",
        "    users = users.fillna(\"Unknown\")\n",
        "    users = users.loc[users[Columns.User].isin(interactions[Columns.User])].copy()\n",
        "    user_features_frames = []\n",
        "\n",
        "    for feature in features:\n",
        "        feature_frame = users.reindex(columns=[Columns.User, feature])\n",
        "        feature_frame.columns = [\"id\", \"value\"]\n",
        "        feature_frame[\"feature\"] = feature\n",
        "        user_features_frames.append(feature_frame)\n",
        "\n",
        "    user_features = pd.concat(user_features_frames)\n",
        "\n",
        "    return user_features"
      ]
    },
    {
      "cell_type": "code",
      "execution_count": 8,
      "id": "22e6c5de",
      "metadata": {
        "id": "22e6c5de"
      },
      "outputs": [],
      "source": [
        "def get_item_features(items: pd.DataFrame, interactions: pd.DataFrame):\n",
        "    items = items.loc[items[Columns.Item].isin(interactions[Columns.Item])].copy()\n",
        "    items[\"genre\"] = items[\"genres\"].str.lower().str.replace(\", \", \",\", regex=False).str.split(\",\")\n",
        "\n",
        "    genre_feature = items[[\"item_id\", \"genre\"]].explode(\"genre\")\n",
        "    genre_feature.columns = [\"id\", \"value\"]\n",
        "    genre_feature[\"feature\"] = \"genre\"\n",
        "\n",
        "    content_feature = items.reindex(columns=[Columns.Item, \"content_type\"])\n",
        "    content_feature.columns = [\"id\", \"value\"]\n",
        "    content_feature[\"feature\"] = \"content_type\"\n",
        "\n",
        "    item_features = pd.concat((genre_feature, content_feature))\n",
        "\n",
        "    return item_features"
      ]
    },
    {
      "cell_type": "code",
      "execution_count": 9,
      "id": "f38973e3",
      "metadata": {
        "id": "f38973e3"
      },
      "outputs": [],
      "source": [
        "user_features = get_user_features(users, train, ['sex', 'age', 'income'])\n",
        "item_features = get_item_features(items, train)"
      ]
    },
    {
      "cell_type": "code",
      "execution_count": 10,
      "id": "a7551622",
      "metadata": {
        "colab": {
          "base_uri": "https://localhost:8080/"
        },
        "id": "a7551622",
        "outputId": "d23a6723-abfc-477b-b85e-f9bb964ec117"
      },
      "outputs": [
        {
          "output_type": "stream",
          "name": "stdout",
          "text": [
            "CPU times: user 1.56 s, sys: 111 ms, total: 1.67 s\n",
            "Wall time: 1.69 s\n"
          ]
        }
      ],
      "source": [
        "%%time\n",
        "dataset = Dataset.construct(\n",
        "    interactions_df=train,\n",
        "    user_features_df=user_features,\n",
        "    cat_user_features=[\"sex\", \"age\", \"income\"],\n",
        "    item_features_df=item_features,\n",
        "    cat_item_features=[\"genre\", \"content_type\"],\n",
        ")"
      ]
    },
    {
      "cell_type": "markdown",
      "id": "2c1df275",
      "metadata": {
        "id": "2c1df275"
      },
      "source": [
        "# Hyperparams search"
      ]
    },
    {
      "cell_type": "code",
      "execution_count": 14,
      "id": "a98aa57e",
      "metadata": {
        "id": "a98aa57e"
      },
      "outputs": [],
      "source": [
        "import os\n",
        "\n",
        "os.environ[\"OPENBLAS_NUM_THREADS\"] = \"1\"  # For implicit ALS\n",
        "\n",
        "optuna.logging.set_verbosity(optuna.logging.INFO)\n",
        "\n",
        "K_RECOS = 10\n",
        "RANDOM_STATE = 42\n",
        "N_EPOCHS = 1"
      ]
    },
    {
      "cell_type": "code",
      "execution_count": 12,
      "id": "44aedada",
      "metadata": {
        "id": "44aedada"
      },
      "outputs": [],
      "source": [
        "def ALS(trial, dataset, train, test):\n",
        "    test_users = test[Columns.User].unique()\n",
        "    metrics = {\"MAP@10\": MAP(k=K_RECOS)}\n",
        "    factors = trial.suggest_categorical(\"n_factors\", [8, 16, 32])\n",
        "    num_threads = trial.suggest_int(\"num_threads\", 1, 3)\n",
        "    fit_features_together = trial.suggest_categorical(\"fit_features_together\", [True, False])\n",
        "\n",
        "    model = ImplicitALSWrapperModel(\n",
        "        model=AlternatingLeastSquares(\n",
        "            factors=factors,\n",
        "            random_state=RANDOM_STATE,\n",
        "            num_threads=num_threads,\n",
        "        ),\n",
        "        fit_features_together=fit_features_together,\n",
        "    )\n",
        "    model.fit(dataset)\n",
        "\n",
        "    recos = model.recommend(\n",
        "        users=test_users,\n",
        "        dataset=dataset,\n",
        "        k=K_RECOS,\n",
        "        filter_viewed=True,\n",
        "    )\n",
        "\n",
        "    metric_values = calc_metrics(metrics, recos, test, train)\n",
        "\n",
        "    return metric_values[\"MAP@10\"]\n",
        "\n",
        "def lightFM(trial, dataset, train, test):\n",
        "    test_users = test[Columns.User].unique()\n",
        "    metrics = {\"MAP@10\": MAP(k=K_RECOS)}\n",
        "    no_components = trial.suggest_categorical(\"n_factors\", [8, 12, 16, 24, 32, 64])\n",
        "    loss = trial.suggest_categorical(\"loss\", [\"logistic\", \"bpr\", \"warp\"])\n",
        "    learning_rate = trial.suggest_float(\"lr\", 1e-3, 1e-1, log=True)\n",
        "    num_threads = trial.suggest_int(\"num_threads\", 1, 3)\n",
        "    user_alpha = trial.suggest_float(\"user_alpha\", 0, 1)\n",
        "    item_alpha = trial.suggest_float(\"item_alpha\", 0, 1)\n",
        "\n",
        "    model = LightFMWrapperModel(\n",
        "        LightFM(\n",
        "            no_components=no_components,\n",
        "            loss=loss,\n",
        "            random_state=RANDOM_STATE,\n",
        "            learning_rate=learning_rate,\n",
        "            user_alpha=user_alpha,\n",
        "            item_alpha=item_alpha,\n",
        "        ),\n",
        "        epochs=N_EPOCHS,\n",
        "        num_threads=num_threads,\n",
        "    )\n",
        "\n",
        "    model.fit(dataset)\n",
        "    recos = model.recommend(\n",
        "        users=test_users,\n",
        "        dataset=dataset,\n",
        "        k=K_RECOS,\n",
        "        filter_viewed=True,\n",
        "    )\n",
        "    metric_values = calc_metrics(metrics, recos, test, train)\n",
        "    return metric_values[\"MAP@10\"]"
      ]
    },
    {
      "cell_type": "code",
      "execution_count": null,
      "id": "38035ca0",
      "metadata": {
        "scrolled": false,
        "colab": {
          "base_uri": "https://localhost:8080/",
          "height": 262,
          "referenced_widgets": [
            "9b3d8e9c6e874cbca172f00f3fb80cc1",
            "1c7831116eaf4e2998357cbeab50e81b",
            "2431363d32604603bd4510748447bf21",
            "933a063c656542ebb5ed44e0b40f1b21",
            "b603f2c298be4dfc915e1a3c8adfd5cf",
            "6ef9a1c3a0da44859a23d3c29b439211",
            "441a22d8181d49b189d422d1053cffb9",
            "aa96b5d3e45d4f449f675aa523675b69",
            "24d92b4755cd433db4602d160e3cb9e5",
            "d11f467d3bb24ef1b028138a22ef21e9",
            "e8485f0331a84316a30a7820afcb2dfb",
            "f8bc8e8ac79b4ec68623b70b1e3561da",
            "f8833327894b423894df518b5ae8e12d",
            "2827593ad34a48b49d8111a3cbc9a118",
            "95ccaed30c2e49719cabee530e7c090f",
            "bd6ded60cc5645aaa18535a2b0aa1cfd",
            "8976e3f4ed6141e199d39f821783d5df",
            "877ce28bfa3342c287585ef820d7d85e",
            "0b9a458d2d214c17b1c2b0e3ea6c61f7",
            "9894222c9a1c49688680b6b6ab8b65e3",
            "04edb337c26f438f826cf9f4b0c423f8",
            "b4957c21078b4849a19204e8cd120da8"
          ]
        },
        "id": "38035ca0",
        "outputId": "445c524d-7db0-4450-d6a1-3740ec046955"
      },
      "outputs": [
        {
          "output_type": "stream",
          "name": "stderr",
          "text": [
            "[I 2023-12-06 06:51:06,659] A new study created in memory with name: ALS\n",
            "/usr/local/lib/python3.10/dist-packages/implicit/cpu/als.py:95: RuntimeWarning: OpenBLAS is configured to use 2 threads. It is highly recommended to disable its internal threadpool by setting the environment variable 'OPENBLAS_NUM_THREADS=1' or by calling 'threadpoolctl.threadpool_limits(1, \"blas\")'. Having OpenBLAS use a threadpool can lead to severe performance issues here.\n",
            "  check_blas_config()\n",
            "/usr/local/lib/python3.10/dist-packages/rectools/dataset/features.py:420: UserWarning: Converting sparse features to dense array may cause MemoryError\n",
            "  warnings.warn(\"Converting sparse features to dense array may cause MemoryError\")\n",
            "[I 2023-12-06 06:57:27,274] Trial 0 finished with value: 0.07484983284482405 and parameters: {'n_factors': 16, 'num_threads': 1, 'fit_features_together': True}. Best is trial 0 with value: 0.07484983284482405.\n",
            "/usr/local/lib/python3.10/dist-packages/rectools/dataset/features.py:420: UserWarning: Converting sparse features to dense array may cause MemoryError\n",
            "  warnings.warn(\"Converting sparse features to dense array may cause MemoryError\")\n"
          ]
        },
        {
          "output_type": "display_data",
          "data": {
            "text/plain": [
              "  0%|          | 0/1 [00:00<?, ?it/s]"
            ],
            "application/vnd.jupyter.widget-view+json": {
              "version_major": 2,
              "version_minor": 0,
              "model_id": "9b3d8e9c6e874cbca172f00f3fb80cc1"
            }
          },
          "metadata": {}
        },
        {
          "output_type": "display_data",
          "data": {
            "text/plain": [
              "  0%|          | 0/1 [00:00<?, ?it/s]"
            ],
            "application/vnd.jupyter.widget-view+json": {
              "version_major": 2,
              "version_minor": 0,
              "model_id": "f8bc8e8ac79b4ec68623b70b1e3561da"
            }
          },
          "metadata": {}
        },
        {
          "output_type": "stream",
          "name": "stderr",
          "text": [
            "[I 2023-12-06 07:06:43,711] Trial 1 finished with value: 0.06258423992984917 and parameters: {'n_factors': 32, 'num_threads': 2, 'fit_features_together': False}. Best is trial 0 with value: 0.07484983284482405.\n"
          ]
        }
      ],
      "source": [
        "sampler = TPESampler(seed=1)\n",
        "study = optuna.create_study(study_name=\"ALS\", direction=\"maximize\", sampler=sampler)\n",
        "study.optimize(lambda trial: ALS(trial, dataset, train, test), n_trials=18)"
      ]
    },
    {
      "cell_type": "code",
      "execution_count": 13,
      "id": "93dd3d68",
      "metadata": {
        "colab": {
          "base_uri": "https://localhost:8080/"
        },
        "id": "93dd3d68",
        "outputId": "bbe1c1e6-217d-42f2-b941-18250709d351"
      },
      "outputs": [
        {
          "output_type": "stream",
          "name": "stderr",
          "text": [
            "[I 2023-12-06 07:30:25,941] A new study created in memory with name: lightFM\n",
            "[I 2023-12-06 07:31:18,598] Trial 0 finished with value: 0.0007024785939432397 and parameters: {'n_factors': 12, 'loss': 'warp', 'lr': 0.011957309429716375, 'num_threads': 2, 'user_alpha': 0.6852195003967595, 'item_alpha': 0.20445224973151743}. Best is trial 0 with value: 0.0007024785939432397.\n",
            "[I 2023-12-06 07:32:07,710] Trial 1 finished with value: 0.07626313222243353 and parameters: {'n_factors': 8, 'loss': 'warp', 'lr': 0.004234950674068092, 'num_threads': 3, 'user_alpha': 0.8763891522960383, 'item_alpha': 0.8946066635038473}. Best is trial 1 with value: 0.07626313222243353.\n",
            "[I 2023-12-06 07:32:57,520] Trial 2 finished with value: 0.00018999999153470148 and parameters: {'n_factors': 24, 'loss': 'logistic', 'lr': 0.004275936647080323, 'num_threads': 3, 'user_alpha': 0.8346256718973729, 'item_alpha': 0.018288277344191806}. Best is trial 1 with value: 0.07626313222243353.\n",
            "[I 2023-12-06 07:33:51,827] Trial 3 finished with value: 0.0 and parameters: {'n_factors': 12, 'loss': 'bpr', 'lr': 0.003763142612534592, 'num_threads': 1, 'user_alpha': 0.019366957870297075, 'item_alpha': 0.678835532939891}. Best is trial 1 with value: 0.07626313222243353.\n",
            "[I 2023-12-06 07:38:10,105] Trial 4 finished with value: 0.0139869659532095 and parameters: {'n_factors': 32, 'loss': 'bpr', 'lr': 0.006731501945399558, 'num_threads': 3, 'user_alpha': 0.41417926952690265, 'item_alpha': 0.04995345894608716}. Best is trial 1 with value: 0.07626313222243353.\n",
            "[I 2023-12-06 07:39:19,484] Trial 5 finished with value: 0.016274806856112715 and parameters: {'n_factors': 24, 'loss': 'warp', 'lr': 0.006242429898192543, 'num_threads': 1, 'user_alpha': 0.9275085803960339, 'item_alpha': 0.34776585974550656}. Best is trial 1 with value: 0.07626313222243353.\n",
            "[I 2023-12-06 07:40:47,137] Trial 6 finished with value: 2.9863588819100316e-06 and parameters: {'n_factors': 16, 'loss': 'bpr', 'lr': 0.08505113121787321, 'num_threads': 2, 'user_alpha': 0.6216957202091218, 'item_alpha': 0.11474597295337519}. Best is trial 1 with value: 0.07626313222243353.\n",
            "[I 2023-12-06 07:41:33,523] Trial 7 finished with value: 0.0003910184559538471 and parameters: {'n_factors': 8, 'loss': 'warp', 'lr': 0.004500800919479376, 'num_threads': 2, 'user_alpha': 0.8859420993107745, 'item_alpha': 0.35726976000249977}. Best is trial 1 with value: 0.07626313222243353.\n",
            "[I 2023-12-06 07:43:18,308] Trial 8 finished with value: 0.0732703695808037 and parameters: {'n_factors': 64, 'loss': 'warp', 'lr': 0.02475348339511637, 'num_threads': 1, 'user_alpha': 0.7554630526024664, 'item_alpha': 0.7538761884612464}. Best is trial 1 with value: 0.07626313222243353.\n",
            "[I 2023-12-06 07:44:03,427] Trial 9 finished with value: 3.148380886673906e-07 and parameters: {'n_factors': 8, 'loss': 'bpr', 'lr': 0.012753927895586664, 'num_threads': 3, 'user_alpha': 0.12417331511991114, 'item_alpha': 0.2791836790111395}. Best is trial 1 with value: 0.07626313222243353.\n",
            "[I 2023-12-06 07:44:42,650] Trial 10 finished with value: 0.0001911143684622971 and parameters: {'n_factors': 8, 'loss': 'logistic', 'lr': 0.0011041207824560285, 'num_threads': 3, 'user_alpha': 0.9441666761301671, 'item_alpha': 0.9841403621463182}. Best is trial 1 with value: 0.07626313222243353.\n",
            "[I 2023-12-06 07:46:39,218] Trial 11 finished with value: 0.016619769578463783 and parameters: {'n_factors': 64, 'loss': 'warp', 'lr': 0.029745047709726493, 'num_threads': 1, 'user_alpha': 0.7393170272734052, 'item_alpha': 0.7929910010618239}. Best is trial 1 with value: 0.07626313222243353.\n",
            "[I 2023-12-06 07:48:29,757] Trial 12 finished with value: 0.07246922054024606 and parameters: {'n_factors': 64, 'loss': 'warp', 'lr': 0.02175143733793577, 'num_threads': 1, 'user_alpha': 0.5319314068992972, 'item_alpha': 0.6339403735136173}. Best is trial 1 with value: 0.07626313222243353.\n",
            "[I 2023-12-06 07:53:11,955] Trial 13 finished with value: 0.037749320566224806 and parameters: {'n_factors': 64, 'loss': 'warp', 'lr': 0.002262032325637042, 'num_threads': 2, 'user_alpha': 0.9825084917938864, 'item_alpha': 0.9164339687045941}. Best is trial 1 with value: 0.07626313222243353.\n",
            "[I 2023-12-06 07:54:30,090] Trial 14 finished with value: 0.07203927109524276 and parameters: {'n_factors': 32, 'loss': 'warp', 'lr': 0.035043171198811604, 'num_threads': 2, 'user_alpha': 0.7583049369298855, 'item_alpha': 0.8397853704152315}. Best is trial 1 with value: 0.07626313222243353.\n",
            "[I 2023-12-06 07:55:34,048] Trial 15 finished with value: 0.06016876161415289 and parameters: {'n_factors': 16, 'loss': 'warp', 'lr': 0.01664496061875809, 'num_threads': 1, 'user_alpha': 0.816361421747157, 'item_alpha': 0.630714110371877}. Best is trial 1 with value: 0.07626313222243353.\n",
            "[I 2023-12-06 07:56:14,877] Trial 16 finished with value: 0.00018927005767911513 and parameters: {'n_factors': 8, 'loss': 'logistic', 'lr': 0.00851176164861452, 'num_threads': 3, 'user_alpha': 0.6411331518047496, 'item_alpha': 0.7618580451288951}. Best is trial 1 with value: 0.07626313222243353.\n",
            "[I 2023-12-06 07:58:32,507] Trial 17 finished with value: 0.00033909159198728604 and parameters: {'n_factors': 64, 'loss': 'warp', 'lr': 0.038921485477592915, 'num_threads': 2, 'user_alpha': 0.831892731067592, 'item_alpha': 0.5090309537706421}. Best is trial 1 with value: 0.07626313222243353.\n",
            "[I 2023-12-06 07:59:20,452] Trial 18 finished with value: 0.06226018260963605 and parameters: {'n_factors': 8, 'loss': 'warp', 'lr': 0.01907021449620206, 'num_threads': 2, 'user_alpha': 0.9763736449767756, 'item_alpha': 0.8919360853845482}. Best is trial 1 with value: 0.07626313222243353.\n",
            "[I 2023-12-06 08:01:30,888] Trial 19 finished with value: 0.00019782130780410904 and parameters: {'n_factors': 64, 'loss': 'logistic', 'lr': 0.010397486766163252, 'num_threads': 3, 'user_alpha': 0.5625336170907256, 'item_alpha': 0.9933674479036978}. Best is trial 1 with value: 0.07626313222243353.\n",
            "[I 2023-12-06 08:02:26,998] Trial 20 finished with value: 0.0033184088023574696 and parameters: {'n_factors': 24, 'loss': 'warp', 'lr': 0.0021329074370857147, 'num_threads': 1, 'user_alpha': 0.4403982602368596, 'item_alpha': 0.7470681960567853}. Best is trial 1 with value: 0.07626313222243353.\n",
            "[I 2023-12-06 08:04:21,445] Trial 21 finished with value: 0.07459554889319973 and parameters: {'n_factors': 64, 'loss': 'warp', 'lr': 0.02359431760326199, 'num_threads': 1, 'user_alpha': 0.5050643846055234, 'item_alpha': 0.6177278485640194}. Best is trial 1 with value: 0.07626313222243353.\n",
            "[I 2023-12-06 08:06:30,547] Trial 22 finished with value: 0.07146876713136222 and parameters: {'n_factors': 64, 'loss': 'warp', 'lr': 0.046804875354224305, 'num_threads': 1, 'user_alpha': 0.7382742674707067, 'item_alpha': 0.697412851569954}. Best is trial 1 with value: 0.07626313222243353.\n",
            "[I 2023-12-06 08:08:23,171] Trial 23 finished with value: 0.0750662675036594 and parameters: {'n_factors': 64, 'loss': 'warp', 'lr': 0.024312007581045833, 'num_threads': 1, 'user_alpha': 0.3767524426819744, 'item_alpha': 0.5404820156309217}. Best is trial 1 with value: 0.07626313222243353.\n",
            "[I 2023-12-06 08:13:19,859] Trial 24 finished with value: 0.07603043426667976 and parameters: {'n_factors': 64, 'loss': 'warp', 'lr': 0.015423382343135067, 'num_threads': 1, 'user_alpha': 0.3350753217884089, 'item_alpha': 0.522416963861509}. Best is trial 1 with value: 0.07626313222243353.\n",
            "[I 2023-12-06 08:14:18,675] Trial 25 finished with value: 0.07613495646105935 and parameters: {'n_factors': 12, 'loss': 'warp', 'lr': 0.01322647290449758, 'num_threads': 1, 'user_alpha': 0.35393532481322226, 'item_alpha': 0.48569727164739346}. Best is trial 1 with value: 0.07626313222243353.\n",
            "[I 2023-12-06 08:15:11,585] Trial 26 finished with value: 0.07315274938174526 and parameters: {'n_factors': 12, 'loss': 'warp', 'lr': 0.014602578693011568, 'num_threads': 2, 'user_alpha': 0.32196957523779235, 'item_alpha': 0.42262577167709914}. Best is trial 1 with value: 0.07626313222243353.\n",
            "[I 2023-12-06 08:16:05,118] Trial 27 finished with value: 0.0004570349650395266 and parameters: {'n_factors': 12, 'loss': 'warp', 'lr': 0.009309501745400418, 'num_threads': 1, 'user_alpha': 0.2810783429846875, 'item_alpha': 0.48677713662338284}. Best is trial 1 with value: 0.07626313222243353.\n",
            "[I 2023-12-06 08:16:55,098] Trial 28 finished with value: 9.979407804592264e-06 and parameters: {'n_factors': 12, 'loss': 'bpr', 'lr': 0.015190568755208958, 'num_threads': 3, 'user_alpha': 0.20747869460586718, 'item_alpha': 0.5713035989056165}. Best is trial 1 with value: 0.07626313222243353.\n",
            "[I 2023-12-06 08:17:45,182] Trial 29 finished with value: 0.0001916690624887469 and parameters: {'n_factors': 12, 'loss': 'logistic', 'lr': 0.011678402058931902, 'num_threads': 2, 'user_alpha': 0.4651490113785854, 'item_alpha': 0.42857851104721684}. Best is trial 1 with value: 0.07626313222243353.\n",
            "[I 2023-12-06 08:19:36,300] Trial 30 finished with value: 0.0036013143318697595 and parameters: {'n_factors': 32, 'loss': 'warp', 'lr': 0.007468679585069812, 'num_threads': 1, 'user_alpha': 0.35419127028789893, 'item_alpha': 0.1905081735398989}. Best is trial 1 with value: 0.07626313222243353.\n",
            "[I 2023-12-06 08:20:41,549] Trial 31 finished with value: 0.0587574977498957 and parameters: {'n_factors': 16, 'loss': 'warp', 'lr': 0.01262040583529368, 'num_threads': 1, 'user_alpha': 0.4269098009102408, 'item_alpha': 0.5489748733089788}. Best is trial 1 with value: 0.07626313222243353.\n"
          ]
        }
      ],
      "source": [
        "sampler = TPESampler(seed=1)\n",
        "study = optuna.create_study(study_name=\"lightFM\", direction=\"maximize\", sampler=sampler)\n",
        "study.optimize(lambda trial: lightFM(trial, dataset, train, test), n_trials=32)"
      ]
    },
    {
      "cell_type": "markdown",
      "id": "29efcdb8",
      "metadata": {
        "id": "29efcdb8"
      },
      "source": [
        "# Cross-validation"
      ]
    },
    {
      "cell_type": "markdown",
      "id": "a0e11a7f",
      "metadata": {
        "id": "a0e11a7f"
      },
      "source": [
        "## Model"
      ]
    },
    {
      "cell_type": "code",
      "execution_count": null,
      "id": "74a0f584",
      "metadata": {
        "id": "74a0f584"
      },
      "outputs": [],
      "source": [
        "models = {\n",
        "    \"popular\": PopularModel(),\n",
        "    \"ALS\": ImplicitALSWrapperModel(\n",
        "        model=AlternatingLeastSquares(\n",
        "            factors=8,\n",
        "            random_state=RANDOM_STATE,\n",
        "            num_threads=3,\n",
        "        ),\n",
        "        fit_features_together=True,\n",
        "    ),\n",
        "    \"LightFM\": LightFMWrapperModel(\n",
        "        LightFM(\n",
        "            no_components=12,\n",
        "            loss=\"warp\",\n",
        "            random_state=RANDOM_STATE,\n",
        "            learning_rate=0.013,\n",
        "            user_alpha=0.35,\n",
        "            item_alpha=0.49,\n",
        "        ),\n",
        "        epochs=N_EPOCHS,\n",
        "        num_threads=1,\n",
        "    ),\n",
        "}\n",
        "\n"
      ]
    },
    {
      "cell_type": "markdown",
      "id": "2d466262",
      "metadata": {
        "id": "2d466262"
      },
      "source": [
        "## Metrics"
      ]
    },
    {
      "cell_type": "code",
      "execution_count": null,
      "id": "973ef028",
      "metadata": {
        "colab": {
          "base_uri": "https://localhost:8080/"
        },
        "id": "973ef028",
        "outputId": "d64f5de4-746e-4fab-ce77-89bda2165fd3"
      },
      "outputs": [
        {
          "output_type": "execute_result",
          "data": {
            "text/plain": [
              "{'precision@1': Precision(k=1),\n",
              " 'precision@3': Precision(k=3),\n",
              " 'precision@5': Precision(k=5),\n",
              " 'precision@10': Precision(k=10),\n",
              " 'recall@1': Recall(k=1),\n",
              " 'recall@3': Recall(k=3),\n",
              " 'recall@5': Recall(k=5),\n",
              " 'recall@10': Recall(k=10),\n",
              " 'MAP@1': MAP(k=1, divide_by_k=False),\n",
              " 'MAP@3': MAP(k=3, divide_by_k=False),\n",
              " 'MAP@5': MAP(k=5, divide_by_k=False),\n",
              " 'MAP@10': MAP(k=10, divide_by_k=False),\n",
              " 'NDCG@1': NDCG(k=1, log_base=2),\n",
              " 'NDCG@3': NDCG(k=3, log_base=2),\n",
              " 'NDCG@5': NDCG(k=5, log_base=2),\n",
              " 'NDCG@10': NDCG(k=10, log_base=2),\n",
              " 'serendipity@1': Serendipity(k=1),\n",
              " 'serendipity@3': Serendipity(k=3),\n",
              " 'serendipity@5': Serendipity(k=5),\n",
              " 'serendipity@10': Serendipity(k=10)}"
            ]
          },
          "metadata": {},
          "execution_count": 25
        }
      ],
      "source": [
        "## Metrics\n",
        "metrics_name = {\n",
        "    \"precision\": Precision,\n",
        "    \"recall\": Recall,\n",
        "    \"MAP\": MAP,\n",
        "    \"NDCG\": NDCG,\n",
        "    \"serendipity\": Serendipity,\n",
        "}\n",
        "\n",
        "metrics = {}\n",
        "for metric_name, metric in metrics_name.items():\n",
        "    for k in [1, 3, 5, 10]:\n",
        "        metrics[f\"{metric_name}@{k}\"] = metric(k=k)\n",
        "\n",
        "metrics"
      ]
    },
    {
      "cell_type": "markdown",
      "id": "99ec2246",
      "metadata": {
        "id": "99ec2246"
      },
      "source": [
        "## Cross validation"
      ]
    },
    {
      "cell_type": "code",
      "execution_count": null,
      "id": "fe2eafc7",
      "metadata": {
        "colab": {
          "base_uri": "https://localhost:8080/"
        },
        "id": "fe2eafc7",
        "outputId": "10f94b0b-0c48-4d30-c1ce-c972bb808fa3"
      },
      "outputs": [
        {
          "output_type": "execute_result",
          "data": {
            "text/plain": [
              "[(Timestamp('2021-07-18 00:00:00', freq='7D'),\n",
              "  Timestamp('2021-07-25 00:00:00', freq='7D')),\n",
              " (Timestamp('2021-07-25 00:00:00', freq='7D'),\n",
              "  Timestamp('2021-08-01 00:00:00', freq='7D')),\n",
              " (Timestamp('2021-08-01 00:00:00', freq='7D'),\n",
              "  Timestamp('2021-08-08 00:00:00', freq='7D')),\n",
              " (Timestamp('2021-08-08 00:00:00', freq='7D'),\n",
              "  Timestamp('2021-08-15 00:00:00', freq='7D'))]"
            ]
          },
          "metadata": {},
          "execution_count": 26
        }
      ],
      "source": [
        "TEST_SIZE = \"7D\"\n",
        "N_SPLITS = 4\n",
        "\n",
        "splitter = TimeRangeSplitter(\n",
        "    test_size=TEST_SIZE,\n",
        "    n_splits=N_SPLITS,\n",
        "    filter_already_seen=True,\n",
        "    filter_cold_items=True,\n",
        "    filter_cold_users=True,\n",
        ")\n",
        "\n",
        "splitter.get_test_fold_borders(dataset.interactions)\n"
      ]
    },
    {
      "cell_type": "code",
      "execution_count": null,
      "id": "513f925c",
      "metadata": {
        "colab": {
          "base_uri": "https://localhost:8080/",
          "height": 839
        },
        "id": "513f925c",
        "outputId": "5d0c5552-0756-49fe-8464-6d89d09cf592"
      },
      "outputs": [
        {
          "output_type": "stream",
          "name": "stderr",
          "text": [
            "/usr/local/lib/python3.10/dist-packages/rectools/dataset/features.py:420: UserWarning: Converting sparse features to dense array may cause MemoryError\n",
            "  warnings.warn(\"Converting sparse features to dense array may cause MemoryError\")\n",
            "/usr/local/lib/python3.10/dist-packages/rectools/dataset/features.py:420: UserWarning: Converting sparse features to dense array may cause MemoryError\n",
            "  warnings.warn(\"Converting sparse features to dense array may cause MemoryError\")\n",
            "/usr/local/lib/python3.10/dist-packages/rectools/dataset/features.py:420: UserWarning: Converting sparse features to dense array may cause MemoryError\n",
            "  warnings.warn(\"Converting sparse features to dense array may cause MemoryError\")\n",
            "/usr/local/lib/python3.10/dist-packages/rectools/dataset/features.py:420: UserWarning: Converting sparse features to dense array may cause MemoryError\n",
            "  warnings.warn(\"Converting sparse features to dense array may cause MemoryError\")\n"
          ]
        },
        {
          "output_type": "execute_result",
          "data": {
            "text/plain": [
              "<pandas.io.formats.style.Styler at 0x7cf7da836410>"
            ],
            "text/html": [
              "<style type=\"text/css\">\n",
              "#T_6a1e6_row0_col0, #T_6a1e6_row1_col0, #T_6a1e6_row2_col2, #T_6a1e6_row3_col2, #T_6a1e6_row4_col2, #T_6a1e6_row5_col2, #T_6a1e6_row6_col2, #T_6a1e6_row7_col2, #T_6a1e6_row8_col0, #T_6a1e6_row9_col0, #T_6a1e6_row10_col2, #T_6a1e6_row11_col2, #T_6a1e6_row12_col0, #T_6a1e6_row13_col0, #T_6a1e6_row14_col2, #T_6a1e6_row15_col2, #T_6a1e6_row16_col0, #T_6a1e6_row17_col0, #T_6a1e6_row18_col0, #T_6a1e6_row19_col0 {\n",
              "  background-color: lightgreen;\n",
              "}\n",
              "</style>\n",
              "<table id=\"T_6a1e6\" class=\"dataframe\">\n",
              "  <thead>\n",
              "    <tr>\n",
              "      <th class=\"index_name level0\" >model</th>\n",
              "      <th id=\"T_6a1e6_level0_col0\" class=\"col_heading level0 col0\" >ALS</th>\n",
              "      <th id=\"T_6a1e6_level0_col1\" class=\"col_heading level0 col1\" >LightFM</th>\n",
              "      <th id=\"T_6a1e6_level0_col2\" class=\"col_heading level0 col2\" >popular</th>\n",
              "    </tr>\n",
              "  </thead>\n",
              "  <tbody>\n",
              "    <tr>\n",
              "      <th id=\"T_6a1e6_level0_row0\" class=\"row_heading level0 row0\" >precision@1</th>\n",
              "      <td id=\"T_6a1e6_row0_col0\" class=\"data row0 col0\" >0.083527</td>\n",
              "      <td id=\"T_6a1e6_row0_col1\" class=\"data row0 col1\" >0.061837</td>\n",
              "      <td id=\"T_6a1e6_row0_col2\" class=\"data row0 col2\" >0.078616</td>\n",
              "    </tr>\n",
              "    <tr>\n",
              "      <th id=\"T_6a1e6_level0_row1\" class=\"row_heading level0 row1\" >recall@1</th>\n",
              "      <td id=\"T_6a1e6_row1_col0\" class=\"data row1 col0\" >0.050882</td>\n",
              "      <td id=\"T_6a1e6_row1_col1\" class=\"data row1 col1\" >0.038990</td>\n",
              "      <td id=\"T_6a1e6_row1_col2\" class=\"data row1 col2\" >0.048866</td>\n",
              "    </tr>\n",
              "    <tr>\n",
              "      <th id=\"T_6a1e6_level0_row2\" class=\"row_heading level0 row2\" >precision@3</th>\n",
              "      <td id=\"T_6a1e6_row2_col0\" class=\"data row2 col0\" >0.061929</td>\n",
              "      <td id=\"T_6a1e6_row2_col1\" class=\"data row2 col1\" >0.047523</td>\n",
              "      <td id=\"T_6a1e6_row2_col2\" class=\"data row2 col2\" >0.062623</td>\n",
              "    </tr>\n",
              "    <tr>\n",
              "      <th id=\"T_6a1e6_level0_row3\" class=\"row_heading level0 row3\" >recall@3</th>\n",
              "      <td id=\"T_6a1e6_row3_col0\" class=\"data row3 col0\" >0.108254</td>\n",
              "      <td id=\"T_6a1e6_row3_col1\" class=\"data row3 col1\" >0.084143</td>\n",
              "      <td id=\"T_6a1e6_row3_col2\" class=\"data row3 col2\" >0.110139</td>\n",
              "    </tr>\n",
              "    <tr>\n",
              "      <th id=\"T_6a1e6_level0_row4\" class=\"row_heading level0 row4\" >precision@5</th>\n",
              "      <td id=\"T_6a1e6_row4_col0\" class=\"data row4 col0\" >0.049636</td>\n",
              "      <td id=\"T_6a1e6_row4_col1\" class=\"data row4 col1\" >0.041174</td>\n",
              "      <td id=\"T_6a1e6_row4_col2\" class=\"data row4 col2\" >0.053626</td>\n",
              "    </tr>\n",
              "    <tr>\n",
              "      <th id=\"T_6a1e6_level0_row5\" class=\"row_heading level0 row5\" >recall@5</th>\n",
              "      <td id=\"T_6a1e6_row5_col0\" class=\"data row5 col0\" >0.141168</td>\n",
              "      <td id=\"T_6a1e6_row5_col1\" class=\"data row5 col1\" >0.118471</td>\n",
              "      <td id=\"T_6a1e6_row5_col2\" class=\"data row5 col2\" >0.153533</td>\n",
              "    </tr>\n",
              "    <tr>\n",
              "      <th id=\"T_6a1e6_level0_row6\" class=\"row_heading level0 row6\" >precision@10</th>\n",
              "      <td id=\"T_6a1e6_row6_col0\" class=\"data row6 col0\" >0.032050</td>\n",
              "      <td id=\"T_6a1e6_row6_col1\" class=\"data row6 col1\" >0.026521</td>\n",
              "      <td id=\"T_6a1e6_row6_col2\" class=\"data row6 col2\" >0.034956</td>\n",
              "    </tr>\n",
              "    <tr>\n",
              "      <th id=\"T_6a1e6_level0_row7\" class=\"row_heading level0 row7\" >recall@10</th>\n",
              "      <td id=\"T_6a1e6_row7_col0\" class=\"data row7 col0\" >0.176651</td>\n",
              "      <td id=\"T_6a1e6_row7_col1\" class=\"data row7 col1\" >0.148874</td>\n",
              "      <td id=\"T_6a1e6_row7_col2\" class=\"data row7 col2\" >0.194422</td>\n",
              "    </tr>\n",
              "    <tr>\n",
              "      <th id=\"T_6a1e6_level0_row8\" class=\"row_heading level0 row8\" >NDCG@1</th>\n",
              "      <td id=\"T_6a1e6_row8_col0\" class=\"data row8 col0\" >0.083527</td>\n",
              "      <td id=\"T_6a1e6_row8_col1\" class=\"data row8 col1\" >0.061837</td>\n",
              "      <td id=\"T_6a1e6_row8_col2\" class=\"data row8 col2\" >0.078616</td>\n",
              "    </tr>\n",
              "    <tr>\n",
              "      <th id=\"T_6a1e6_level0_row9\" class=\"row_heading level0 row9\" >NDCG@3</th>\n",
              "      <td id=\"T_6a1e6_row9_col0\" class=\"data row9 col0\" >0.066697</td>\n",
              "      <td id=\"T_6a1e6_row9_col1\" class=\"data row9 col1\" >0.050412</td>\n",
              "      <td id=\"T_6a1e6_row9_col2\" class=\"data row9 col2\" >0.066014</td>\n",
              "    </tr>\n",
              "    <tr>\n",
              "      <th id=\"T_6a1e6_level0_row10\" class=\"row_heading level0 row10\" >NDCG@5</th>\n",
              "      <td id=\"T_6a1e6_row10_col0\" class=\"data row10 col0\" >0.056921</td>\n",
              "      <td id=\"T_6a1e6_row10_col1\" class=\"data row10 col1\" >0.045281</td>\n",
              "      <td id=\"T_6a1e6_row10_col2\" class=\"data row10 col2\" >0.059021</td>\n",
              "    </tr>\n",
              "    <tr>\n",
              "      <th id=\"T_6a1e6_level0_row11\" class=\"row_heading level0 row11\" >NDCG@10</th>\n",
              "      <td id=\"T_6a1e6_row11_col0\" class=\"data row11 col0\" >0.042082</td>\n",
              "      <td id=\"T_6a1e6_row11_col1\" class=\"data row11 col1\" >0.033671</td>\n",
              "      <td id=\"T_6a1e6_row11_col2\" class=\"data row11 col2\" >0.044154</td>\n",
              "    </tr>\n",
              "    <tr>\n",
              "      <th id=\"T_6a1e6_level0_row12\" class=\"row_heading level0 row12\" >MAP@1</th>\n",
              "      <td id=\"T_6a1e6_row12_col0\" class=\"data row12 col0\" >0.050882</td>\n",
              "      <td id=\"T_6a1e6_row12_col1\" class=\"data row12 col1\" >0.038990</td>\n",
              "      <td id=\"T_6a1e6_row12_col2\" class=\"data row12 col2\" >0.048866</td>\n",
              "    </tr>\n",
              "    <tr>\n",
              "      <th id=\"T_6a1e6_level0_row13\" class=\"row_heading level0 row13\" >MAP@3</th>\n",
              "      <td id=\"T_6a1e6_row13_col0\" class=\"data row13 col0\" >0.076833</td>\n",
              "      <td id=\"T_6a1e6_row13_col1\" class=\"data row13 col1\" >0.058915</td>\n",
              "      <td id=\"T_6a1e6_row13_col2\" class=\"data row13 col2\" >0.076100</td>\n",
              "    </tr>\n",
              "    <tr>\n",
              "      <th id=\"T_6a1e6_level0_row14\" class=\"row_heading level0 row14\" >MAP@5</th>\n",
              "      <td id=\"T_6a1e6_row14_col0\" class=\"data row14 col0\" >0.085268</td>\n",
              "      <td id=\"T_6a1e6_row14_col1\" class=\"data row14 col1\" >0.067708</td>\n",
              "      <td id=\"T_6a1e6_row14_col2\" class=\"data row14 col2\" >0.087435</td>\n",
              "    </tr>\n",
              "    <tr>\n",
              "      <th id=\"T_6a1e6_level0_row15\" class=\"row_heading level0 row15\" >MAP@10</th>\n",
              "      <td id=\"T_6a1e6_row15_col0\" class=\"data row15 col0\" >0.090859</td>\n",
              "      <td id=\"T_6a1e6_row15_col1\" class=\"data row15 col1\" >0.072772</td>\n",
              "      <td id=\"T_6a1e6_row15_col2\" class=\"data row15 col2\" >0.094182</td>\n",
              "    </tr>\n",
              "    <tr>\n",
              "      <th id=\"T_6a1e6_level0_row16\" class=\"row_heading level0 row16\" >serendipity@1</th>\n",
              "      <td id=\"T_6a1e6_row16_col0\" class=\"data row16 col0\" >0.000016</td>\n",
              "      <td id=\"T_6a1e6_row16_col1\" class=\"data row16 col1\" >0.000012</td>\n",
              "      <td id=\"T_6a1e6_row16_col2\" class=\"data row16 col2\" >0.000002</td>\n",
              "    </tr>\n",
              "    <tr>\n",
              "      <th id=\"T_6a1e6_level0_row17\" class=\"row_heading level0 row17\" >serendipity@3</th>\n",
              "      <td id=\"T_6a1e6_row17_col0\" class=\"data row17 col0\" >0.000017</td>\n",
              "      <td id=\"T_6a1e6_row17_col1\" class=\"data row17 col1\" >0.000006</td>\n",
              "      <td id=\"T_6a1e6_row17_col2\" class=\"data row17 col2\" >0.000003</td>\n",
              "    </tr>\n",
              "    <tr>\n",
              "      <th id=\"T_6a1e6_level0_row18\" class=\"row_heading level0 row18\" >serendipity@5</th>\n",
              "      <td id=\"T_6a1e6_row18_col0\" class=\"data row18 col0\" >0.000017</td>\n",
              "      <td id=\"T_6a1e6_row18_col1\" class=\"data row18 col1\" >0.000008</td>\n",
              "      <td id=\"T_6a1e6_row18_col2\" class=\"data row18 col2\" >0.000003</td>\n",
              "    </tr>\n",
              "    <tr>\n",
              "      <th id=\"T_6a1e6_level0_row19\" class=\"row_heading level0 row19\" >serendipity@10</th>\n",
              "      <td id=\"T_6a1e6_row19_col0\" class=\"data row19 col0\" >0.000021</td>\n",
              "      <td id=\"T_6a1e6_row19_col1\" class=\"data row19 col1\" >0.000006</td>\n",
              "      <td id=\"T_6a1e6_row19_col2\" class=\"data row19 col2\" >0.000002</td>\n",
              "    </tr>\n",
              "  </tbody>\n",
              "</table>\n"
            ]
          },
          "metadata": {},
          "execution_count": 27
        }
      ],
      "source": [
        "results = cross_validate(dataset, splitter, metrics, models, k=K_RECOS, filter_viewed=True)\n",
        "\n",
        "df_quality = (\n",
        "    pd.DataFrame.from_dict(results[\"metrics\"]).groupby(\"model\").mean().drop(\"i_split\", axis=1).T\n",
        ")\n",
        "df_quality.style.highlight_max(color=\"lightgreen\", axis=1)"
      ]
    },
    {
      "cell_type": "markdown",
      "source": [
        "# Train and save whole als"
      ],
      "metadata": {
        "id": "6t0SUigQuDJa"
      },
      "id": "6t0SUigQuDJa"
    },
    {
      "cell_type": "code",
      "source": [
        "user_features = get_user_features(users, interactions, [\"sex\", \"age\", \"income\"])\n",
        "item_features = get_item_features(items, interactions)"
      ],
      "metadata": {
        "id": "kDef9QF-FsFj"
      },
      "id": "kDef9QF-FsFj",
      "execution_count": 11,
      "outputs": []
    },
    {
      "cell_type": "code",
      "source": [
        "dataset = Dataset.construct(\n",
        "    interactions_df=interactions,\n",
        "    user_features_df=user_features,\n",
        "    cat_user_features=[\"sex\", \"age\", \"income\"],\n",
        "    item_features_df=item_features,\n",
        "    cat_item_features=[\"genre\", \"content_type\"],\n",
        ")"
      ],
      "metadata": {
        "id": "4W5av6w3FZIB"
      },
      "id": "4W5av6w3FZIB",
      "execution_count": 12,
      "outputs": []
    },
    {
      "cell_type": "code",
      "source": [
        "model = ImplicitALSWrapperModel(\n",
        "        model=AlternatingLeastSquares(\n",
        "            factors=8,\n",
        "            random_state=RANDOM_STATE,\n",
        "            num_threads=3,\n",
        "        ),\n",
        "        fit_features_together=True,\n",
        "    )\n",
        "\n",
        "model.fit(dataset)"
      ],
      "metadata": {
        "colab": {
          "base_uri": "https://localhost:8080/"
        },
        "id": "RERJS-yEtliU",
        "outputId": "75e9b9b5-3193-4315-a08d-e85462ba662e"
      },
      "id": "RERJS-yEtliU",
      "execution_count": null,
      "outputs": [
        {
          "output_type": "stream",
          "name": "stderr",
          "text": [
            "/usr/local/lib/python3.10/dist-packages/rectools/dataset/features.py:420: UserWarning: Converting sparse features to dense array may cause MemoryError\n",
            "  warnings.warn(\"Converting sparse features to dense array may cause MemoryError\")\n"
          ]
        },
        {
          "output_type": "execute_result",
          "data": {
            "text/plain": [
              "<rectools.models.implicit_als.ImplicitALSWrapperModel at 0x7f84886ef940>"
            ]
          },
          "metadata": {},
          "execution_count": 23
        }
      ]
    },
    {
      "cell_type": "code",
      "source": [
        "user_vectors, item_vectors = model.get_vectors()\n",
        "ann_als = UserToItemAnnRecommender(\n",
        "    user_vectors=user_vectors,\n",
        "    item_vectors=item_vectors,\n",
        "    user_id_map=dataset.user_id_map,\n",
        "    item_id_map=dataset.item_id_map,\n",
        ")\n",
        "ann_als.fit()"
      ],
      "metadata": {
        "colab": {
          "base_uri": "https://localhost:8080/"
        },
        "id": "MD6iSW55u5Md",
        "outputId": "c32cff3f-9fa1-4267-8935-7bdca5e04a7b"
      },
      "id": "MD6iSW55u5Md",
      "execution_count": null,
      "outputs": [
        {
          "output_type": "execute_result",
          "data": {
            "text/plain": [
              "<rectools.tools.ann.UserToItemAnnRecommender at 0x7f84886efaf0>"
            ]
          },
          "metadata": {},
          "execution_count": 24
        }
      ]
    },
    {
      "cell_type": "code",
      "source": [
        "ann_als.get_item_list_for_user(666262, top_n=10).tolist()"
      ],
      "metadata": {
        "colab": {
          "base_uri": "https://localhost:8080/"
        },
        "id": "Mv8kE6awJnSk",
        "outputId": "009179f7-66c4-4f8e-cddd-c884559c23ba"
      },
      "id": "Mv8kE6awJnSk",
      "execution_count": null,
      "outputs": [
        {
          "output_type": "execute_result",
          "data": {
            "text/plain": [
              "[10440, 13865, 9728, 4151, 3734, 142, 15297, 4740, 8636, 9996]"
            ]
          },
          "metadata": {},
          "execution_count": 27
        }
      ]
    },
    {
      "cell_type": "code",
      "source": [
        "import pickle\n",
        "\n",
        "path = prefix + \"ann_als.pickle\"\n",
        "pickle.dump(ann_als, open(path, \"wb\"))"
      ],
      "metadata": {
        "id": "UjWjlmgnvAgM"
      },
      "id": "UjWjlmgnvAgM",
      "execution_count": null,
      "outputs": []
    },
    {
      "cell_type": "code",
      "source": [
        "saved_ann_als = pickle.load(open(path, \"rb\"))\n",
        "saved_ann_als.get_item_list_for_user(666262, top_n=10).tolist()"
      ],
      "metadata": {
        "colab": {
          "base_uri": "https://localhost:8080/"
        },
        "id": "4PEIzeHCvGyw",
        "outputId": "27bdca65-d77d-42fe-9909-5f7f51c1f95a"
      },
      "id": "4PEIzeHCvGyw",
      "execution_count": null,
      "outputs": [
        {
          "output_type": "execute_result",
          "data": {
            "text/plain": [
              "[10440, 13865, 9728, 4151, 3734, 142, 15297, 4740, 8636, 9996]"
            ]
          },
          "metadata": {},
          "execution_count": 30
        }
      ]
    },
    {
      "cell_type": "markdown",
      "id": "f6cc313a",
      "metadata": {
        "id": "f6cc313a"
      },
      "source": [
        "## Train and save whole LightFM"
      ]
    },
    {
      "cell_type": "code",
      "source": [
        "user_features = get_user_features(users, interactions, [\"sex\", \"age\", \"income\"])\n",
        "item_features = get_item_features(items, interactions)"
      ],
      "metadata": {
        "id": "WheuOc5WXEt7"
      },
      "execution_count": null,
      "outputs": [],
      "id": "WheuOc5WXEt7"
    },
    {
      "cell_type": "code",
      "source": [
        "dataset = Dataset.construct(\n",
        "    interactions_df=interactions,\n",
        "    user_features_df=user_features,\n",
        "    cat_user_features=[\"sex\", \"age\", \"income\"],\n",
        "    item_features_df=item_features,\n",
        "    cat_item_features=[\"genre\", \"content_type\"],\n",
        ")"
      ],
      "metadata": {
        "id": "LUDG97qTXEt7"
      },
      "execution_count": null,
      "outputs": [],
      "id": "LUDG97qTXEt7"
    },
    {
      "cell_type": "code",
      "execution_count": 15,
      "id": "9981a5da",
      "metadata": {
        "colab": {
          "base_uri": "https://localhost:8080/"
        },
        "id": "9981a5da",
        "outputId": "53b4912e-30a4-4baf-a66f-6862da50d979"
      },
      "outputs": [
        {
          "output_type": "execute_result",
          "data": {
            "text/plain": [
              "<rectools.models.lightfm.LightFMWrapperModel at 0x7e82f84ea5c0>"
            ]
          },
          "metadata": {},
          "execution_count": 15
        }
      ],
      "source": [
        "model = LightFMWrapperModel(\n",
        "          LightFM(\n",
        "              no_components=12,\n",
        "              loss=\"warp\",\n",
        "              random_state=RANDOM_STATE,\n",
        "              learning_rate=0.013,\n",
        "              user_alpha=0.35,\n",
        "              item_alpha=0.49,\n",
        "          ),\n",
        "          epochs=N_EPOCHS,\n",
        "          num_threads=1,\n",
        "    )\n",
        "\n",
        "model.fit(dataset)"
      ]
    },
    {
      "cell_type": "code",
      "execution_count": 16,
      "id": "edb9bdfa",
      "metadata": {
        "colab": {
          "base_uri": "https://localhost:8080/"
        },
        "id": "edb9bdfa",
        "outputId": "bea9ae06-426e-4392-a87e-fae91d18a593"
      },
      "outputs": [
        {
          "output_type": "execute_result",
          "data": {
            "text/plain": [
              "<rectools.tools.ann.UserToItemAnnRecommender at 0x7e8224ebbee0>"
            ]
          },
          "metadata": {},
          "execution_count": 16
        }
      ],
      "source": [
        "user_vectors, item_vectors = model.get_vectors(dataset)\n",
        "ann_lightfm = UserToItemAnnRecommender(\n",
        "    user_vectors=user_vectors,\n",
        "    item_vectors=item_vectors,\n",
        "    user_id_map=dataset.user_id_map,\n",
        "    item_id_map=dataset.item_id_map,\n",
        ")\n",
        "ann_lightfm.fit()"
      ]
    },
    {
      "cell_type": "code",
      "execution_count": 17,
      "id": "b8e10eed",
      "metadata": {
        "id": "b8e10eed"
      },
      "outputs": [],
      "source": [
        "import pickle\n",
        "\n",
        "path = prefix + \"ann_lightfm.pickle\"\n",
        "pickle.dump(ann_lightfm, open(path, \"wb\"))"
      ]
    },
    {
      "cell_type": "code",
      "source": [
        "saved_ann_lightfm = pickle.load(open(path, \"rb\"))\n",
        "saved_ann_lightfm.get_item_list_for_user(666262, top_n=10).tolist()"
      ],
      "metadata": {
        "colab": {
          "base_uri": "https://localhost:8080/"
        },
        "id": "i_B2-YkpLkYe",
        "outputId": "aa6d697b-f1ed-4d24-e3a6-b54dcec97748"
      },
      "id": "i_B2-YkpLkYe",
      "execution_count": 18,
      "outputs": [
        {
          "output_type": "execute_result",
          "data": {
            "text/plain": [
              "[10440, 15297, 13865, 9728, 4151, 3734, 2657, 14317, 12192, 7571]"
            ]
          },
          "metadata": {},
          "execution_count": 18
        }
      ]
    },
    {
      "cell_type": "code",
      "execution_count": 19,
      "id": "a222151b",
      "metadata": {
        "colab": {
          "base_uri": "https://localhost:8080/"
        },
        "id": "a222151b",
        "outputId": "21caffdb-3f96-42fd-d893-e0ae91c335c3"
      },
      "outputs": [
        {
          "output_type": "execute_result",
          "data": {
            "text/plain": [
              "[10440, 15297, 13865, 9728, 4151, 3734, 2657, 14317, 12192, 7571]"
            ]
          },
          "metadata": {},
          "execution_count": 19
        }
      ],
      "source": [
        "saved_ann_lightfm = pickle.load(open(path, \"rb\"))\n",
        "saved_ann_lightfm.get_item_list_for_user(666262, top_n=10).tolist()"
      ]
    },
    {
      "cell_type": "code",
      "source": [],
      "metadata": {
        "id": "8Ow-jy2Nlyj1"
      },
      "id": "8Ow-jy2Nlyj1",
      "execution_count": null,
      "outputs": []
    }
  ],
  "metadata": {
    "kernelspec": {
      "display_name": "Python 3",
      "name": "python3"
    },
    "language_info": {
      "codemirror_mode": {
        "name": "ipython",
        "version": 3
      },
      "file_extension": ".py",
      "mimetype": "text/x-python",
      "name": "python",
      "nbconvert_exporter": "python",
      "pygments_lexer": "ipython3",
      "version": "3.9.12"
    },
    "colab": {
      "provenance": [],
      "gpuType": "T4"
    },
    "accelerator": "GPU",
    "widgets": {
      "application/vnd.jupyter.widget-state+json": {
        "9b3d8e9c6e874cbca172f00f3fb80cc1": {
          "model_module": "@jupyter-widgets/controls",
          "model_name": "HBoxModel",
          "model_module_version": "1.5.0",
          "state": {
            "_dom_classes": [],
            "_model_module": "@jupyter-widgets/controls",
            "_model_module_version": "1.5.0",
            "_model_name": "HBoxModel",
            "_view_count": null,
            "_view_module": "@jupyter-widgets/controls",
            "_view_module_version": "1.5.0",
            "_view_name": "HBoxView",
            "box_style": "",
            "children": [
              "IPY_MODEL_1c7831116eaf4e2998357cbeab50e81b",
              "IPY_MODEL_2431363d32604603bd4510748447bf21",
              "IPY_MODEL_933a063c656542ebb5ed44e0b40f1b21"
            ],
            "layout": "IPY_MODEL_b603f2c298be4dfc915e1a3c8adfd5cf"
          }
        },
        "1c7831116eaf4e2998357cbeab50e81b": {
          "model_module": "@jupyter-widgets/controls",
          "model_name": "HTMLModel",
          "model_module_version": "1.5.0",
          "state": {
            "_dom_classes": [],
            "_model_module": "@jupyter-widgets/controls",
            "_model_module_version": "1.5.0",
            "_model_name": "HTMLModel",
            "_view_count": null,
            "_view_module": "@jupyter-widgets/controls",
            "_view_module_version": "1.5.0",
            "_view_name": "HTMLView",
            "description": "",
            "description_tooltip": null,
            "layout": "IPY_MODEL_6ef9a1c3a0da44859a23d3c29b439211",
            "placeholder": "​",
            "style": "IPY_MODEL_441a22d8181d49b189d422d1053cffb9",
            "value": "100%"
          }
        },
        "2431363d32604603bd4510748447bf21": {
          "model_module": "@jupyter-widgets/controls",
          "model_name": "FloatProgressModel",
          "model_module_version": "1.5.0",
          "state": {
            "_dom_classes": [],
            "_model_module": "@jupyter-widgets/controls",
            "_model_module_version": "1.5.0",
            "_model_name": "FloatProgressModel",
            "_view_count": null,
            "_view_module": "@jupyter-widgets/controls",
            "_view_module_version": "1.5.0",
            "_view_name": "ProgressView",
            "bar_style": "success",
            "description": "",
            "description_tooltip": null,
            "layout": "IPY_MODEL_aa96b5d3e45d4f449f675aa523675b69",
            "max": 1,
            "min": 0,
            "orientation": "horizontal",
            "style": "IPY_MODEL_24d92b4755cd433db4602d160e3cb9e5",
            "value": 1
          }
        },
        "933a063c656542ebb5ed44e0b40f1b21": {
          "model_module": "@jupyter-widgets/controls",
          "model_name": "HTMLModel",
          "model_module_version": "1.5.0",
          "state": {
            "_dom_classes": [],
            "_model_module": "@jupyter-widgets/controls",
            "_model_module_version": "1.5.0",
            "_model_name": "HTMLModel",
            "_view_count": null,
            "_view_module": "@jupyter-widgets/controls",
            "_view_module_version": "1.5.0",
            "_view_name": "HTMLView",
            "description": "",
            "description_tooltip": null,
            "layout": "IPY_MODEL_d11f467d3bb24ef1b028138a22ef21e9",
            "placeholder": "​",
            "style": "IPY_MODEL_e8485f0331a84316a30a7820afcb2dfb",
            "value": " 1/1 [00:26&lt;00:00, 26.32s/it]"
          }
        },
        "b603f2c298be4dfc915e1a3c8adfd5cf": {
          "model_module": "@jupyter-widgets/base",
          "model_name": "LayoutModel",
          "model_module_version": "1.2.0",
          "state": {
            "_model_module": "@jupyter-widgets/base",
            "_model_module_version": "1.2.0",
            "_model_name": "LayoutModel",
            "_view_count": null,
            "_view_module": "@jupyter-widgets/base",
            "_view_module_version": "1.2.0",
            "_view_name": "LayoutView",
            "align_content": null,
            "align_items": null,
            "align_self": null,
            "border": null,
            "bottom": null,
            "display": null,
            "flex": null,
            "flex_flow": null,
            "grid_area": null,
            "grid_auto_columns": null,
            "grid_auto_flow": null,
            "grid_auto_rows": null,
            "grid_column": null,
            "grid_gap": null,
            "grid_row": null,
            "grid_template_areas": null,
            "grid_template_columns": null,
            "grid_template_rows": null,
            "height": null,
            "justify_content": null,
            "justify_items": null,
            "left": null,
            "margin": null,
            "max_height": null,
            "max_width": null,
            "min_height": null,
            "min_width": null,
            "object_fit": null,
            "object_position": null,
            "order": null,
            "overflow": null,
            "overflow_x": null,
            "overflow_y": null,
            "padding": null,
            "right": null,
            "top": null,
            "visibility": null,
            "width": null
          }
        },
        "6ef9a1c3a0da44859a23d3c29b439211": {
          "model_module": "@jupyter-widgets/base",
          "model_name": "LayoutModel",
          "model_module_version": "1.2.0",
          "state": {
            "_model_module": "@jupyter-widgets/base",
            "_model_module_version": "1.2.0",
            "_model_name": "LayoutModel",
            "_view_count": null,
            "_view_module": "@jupyter-widgets/base",
            "_view_module_version": "1.2.0",
            "_view_name": "LayoutView",
            "align_content": null,
            "align_items": null,
            "align_self": null,
            "border": null,
            "bottom": null,
            "display": null,
            "flex": null,
            "flex_flow": null,
            "grid_area": null,
            "grid_auto_columns": null,
            "grid_auto_flow": null,
            "grid_auto_rows": null,
            "grid_column": null,
            "grid_gap": null,
            "grid_row": null,
            "grid_template_areas": null,
            "grid_template_columns": null,
            "grid_template_rows": null,
            "height": null,
            "justify_content": null,
            "justify_items": null,
            "left": null,
            "margin": null,
            "max_height": null,
            "max_width": null,
            "min_height": null,
            "min_width": null,
            "object_fit": null,
            "object_position": null,
            "order": null,
            "overflow": null,
            "overflow_x": null,
            "overflow_y": null,
            "padding": null,
            "right": null,
            "top": null,
            "visibility": null,
            "width": null
          }
        },
        "441a22d8181d49b189d422d1053cffb9": {
          "model_module": "@jupyter-widgets/controls",
          "model_name": "DescriptionStyleModel",
          "model_module_version": "1.5.0",
          "state": {
            "_model_module": "@jupyter-widgets/controls",
            "_model_module_version": "1.5.0",
            "_model_name": "DescriptionStyleModel",
            "_view_count": null,
            "_view_module": "@jupyter-widgets/base",
            "_view_module_version": "1.2.0",
            "_view_name": "StyleView",
            "description_width": ""
          }
        },
        "aa96b5d3e45d4f449f675aa523675b69": {
          "model_module": "@jupyter-widgets/base",
          "model_name": "LayoutModel",
          "model_module_version": "1.2.0",
          "state": {
            "_model_module": "@jupyter-widgets/base",
            "_model_module_version": "1.2.0",
            "_model_name": "LayoutModel",
            "_view_count": null,
            "_view_module": "@jupyter-widgets/base",
            "_view_module_version": "1.2.0",
            "_view_name": "LayoutView",
            "align_content": null,
            "align_items": null,
            "align_self": null,
            "border": null,
            "bottom": null,
            "display": null,
            "flex": null,
            "flex_flow": null,
            "grid_area": null,
            "grid_auto_columns": null,
            "grid_auto_flow": null,
            "grid_auto_rows": null,
            "grid_column": null,
            "grid_gap": null,
            "grid_row": null,
            "grid_template_areas": null,
            "grid_template_columns": null,
            "grid_template_rows": null,
            "height": null,
            "justify_content": null,
            "justify_items": null,
            "left": null,
            "margin": null,
            "max_height": null,
            "max_width": null,
            "min_height": null,
            "min_width": null,
            "object_fit": null,
            "object_position": null,
            "order": null,
            "overflow": null,
            "overflow_x": null,
            "overflow_y": null,
            "padding": null,
            "right": null,
            "top": null,
            "visibility": null,
            "width": null
          }
        },
        "24d92b4755cd433db4602d160e3cb9e5": {
          "model_module": "@jupyter-widgets/controls",
          "model_name": "ProgressStyleModel",
          "model_module_version": "1.5.0",
          "state": {
            "_model_module": "@jupyter-widgets/controls",
            "_model_module_version": "1.5.0",
            "_model_name": "ProgressStyleModel",
            "_view_count": null,
            "_view_module": "@jupyter-widgets/base",
            "_view_module_version": "1.2.0",
            "_view_name": "StyleView",
            "bar_color": null,
            "description_width": ""
          }
        },
        "d11f467d3bb24ef1b028138a22ef21e9": {
          "model_module": "@jupyter-widgets/base",
          "model_name": "LayoutModel",
          "model_module_version": "1.2.0",
          "state": {
            "_model_module": "@jupyter-widgets/base",
            "_model_module_version": "1.2.0",
            "_model_name": "LayoutModel",
            "_view_count": null,
            "_view_module": "@jupyter-widgets/base",
            "_view_module_version": "1.2.0",
            "_view_name": "LayoutView",
            "align_content": null,
            "align_items": null,
            "align_self": null,
            "border": null,
            "bottom": null,
            "display": null,
            "flex": null,
            "flex_flow": null,
            "grid_area": null,
            "grid_auto_columns": null,
            "grid_auto_flow": null,
            "grid_auto_rows": null,
            "grid_column": null,
            "grid_gap": null,
            "grid_row": null,
            "grid_template_areas": null,
            "grid_template_columns": null,
            "grid_template_rows": null,
            "height": null,
            "justify_content": null,
            "justify_items": null,
            "left": null,
            "margin": null,
            "max_height": null,
            "max_width": null,
            "min_height": null,
            "min_width": null,
            "object_fit": null,
            "object_position": null,
            "order": null,
            "overflow": null,
            "overflow_x": null,
            "overflow_y": null,
            "padding": null,
            "right": null,
            "top": null,
            "visibility": null,
            "width": null
          }
        },
        "e8485f0331a84316a30a7820afcb2dfb": {
          "model_module": "@jupyter-widgets/controls",
          "model_name": "DescriptionStyleModel",
          "model_module_version": "1.5.0",
          "state": {
            "_model_module": "@jupyter-widgets/controls",
            "_model_module_version": "1.5.0",
            "_model_name": "DescriptionStyleModel",
            "_view_count": null,
            "_view_module": "@jupyter-widgets/base",
            "_view_module_version": "1.2.0",
            "_view_name": "StyleView",
            "description_width": ""
          }
        },
        "f8bc8e8ac79b4ec68623b70b1e3561da": {
          "model_module": "@jupyter-widgets/controls",
          "model_name": "HBoxModel",
          "model_module_version": "1.5.0",
          "state": {
            "_dom_classes": [],
            "_model_module": "@jupyter-widgets/controls",
            "_model_module_version": "1.5.0",
            "_model_name": "HBoxModel",
            "_view_count": null,
            "_view_module": "@jupyter-widgets/controls",
            "_view_module_version": "1.5.0",
            "_view_name": "HBoxView",
            "box_style": "",
            "children": [
              "IPY_MODEL_f8833327894b423894df518b5ae8e12d",
              "IPY_MODEL_2827593ad34a48b49d8111a3cbc9a118",
              "IPY_MODEL_95ccaed30c2e49719cabee530e7c090f"
            ],
            "layout": "IPY_MODEL_bd6ded60cc5645aaa18535a2b0aa1cfd"
          }
        },
        "f8833327894b423894df518b5ae8e12d": {
          "model_module": "@jupyter-widgets/controls",
          "model_name": "HTMLModel",
          "model_module_version": "1.5.0",
          "state": {
            "_dom_classes": [],
            "_model_module": "@jupyter-widgets/controls",
            "_model_module_version": "1.5.0",
            "_model_name": "HTMLModel",
            "_view_count": null,
            "_view_module": "@jupyter-widgets/controls",
            "_view_module_version": "1.5.0",
            "_view_name": "HTMLView",
            "description": "",
            "description_tooltip": null,
            "layout": "IPY_MODEL_8976e3f4ed6141e199d39f821783d5df",
            "placeholder": "​",
            "style": "IPY_MODEL_877ce28bfa3342c287585ef820d7d85e",
            "value": "100%"
          }
        },
        "2827593ad34a48b49d8111a3cbc9a118": {
          "model_module": "@jupyter-widgets/controls",
          "model_name": "FloatProgressModel",
          "model_module_version": "1.5.0",
          "state": {
            "_dom_classes": [],
            "_model_module": "@jupyter-widgets/controls",
            "_model_module_version": "1.5.0",
            "_model_name": "FloatProgressModel",
            "_view_count": null,
            "_view_module": "@jupyter-widgets/controls",
            "_view_module_version": "1.5.0",
            "_view_name": "ProgressView",
            "bar_style": "success",
            "description": "",
            "description_tooltip": null,
            "layout": "IPY_MODEL_0b9a458d2d214c17b1c2b0e3ea6c61f7",
            "max": 1,
            "min": 0,
            "orientation": "horizontal",
            "style": "IPY_MODEL_9894222c9a1c49688680b6b6ab8b65e3",
            "value": 1
          }
        },
        "95ccaed30c2e49719cabee530e7c090f": {
          "model_module": "@jupyter-widgets/controls",
          "model_name": "HTMLModel",
          "model_module_version": "1.5.0",
          "state": {
            "_dom_classes": [],
            "_model_module": "@jupyter-widgets/controls",
            "_model_module_version": "1.5.0",
            "_model_name": "HTMLModel",
            "_view_count": null,
            "_view_module": "@jupyter-widgets/controls",
            "_view_module_version": "1.5.0",
            "_view_name": "HTMLView",
            "description": "",
            "description_tooltip": null,
            "layout": "IPY_MODEL_04edb337c26f438f826cf9f4b0c423f8",
            "placeholder": "​",
            "style": "IPY_MODEL_b4957c21078b4849a19204e8cd120da8",
            "value": " 1/1 [00:42&lt;00:00, 42.84s/it]"
          }
        },
        "bd6ded60cc5645aaa18535a2b0aa1cfd": {
          "model_module": "@jupyter-widgets/base",
          "model_name": "LayoutModel",
          "model_module_version": "1.2.0",
          "state": {
            "_model_module": "@jupyter-widgets/base",
            "_model_module_version": "1.2.0",
            "_model_name": "LayoutModel",
            "_view_count": null,
            "_view_module": "@jupyter-widgets/base",
            "_view_module_version": "1.2.0",
            "_view_name": "LayoutView",
            "align_content": null,
            "align_items": null,
            "align_self": null,
            "border": null,
            "bottom": null,
            "display": null,
            "flex": null,
            "flex_flow": null,
            "grid_area": null,
            "grid_auto_columns": null,
            "grid_auto_flow": null,
            "grid_auto_rows": null,
            "grid_column": null,
            "grid_gap": null,
            "grid_row": null,
            "grid_template_areas": null,
            "grid_template_columns": null,
            "grid_template_rows": null,
            "height": null,
            "justify_content": null,
            "justify_items": null,
            "left": null,
            "margin": null,
            "max_height": null,
            "max_width": null,
            "min_height": null,
            "min_width": null,
            "object_fit": null,
            "object_position": null,
            "order": null,
            "overflow": null,
            "overflow_x": null,
            "overflow_y": null,
            "padding": null,
            "right": null,
            "top": null,
            "visibility": null,
            "width": null
          }
        },
        "8976e3f4ed6141e199d39f821783d5df": {
          "model_module": "@jupyter-widgets/base",
          "model_name": "LayoutModel",
          "model_module_version": "1.2.0",
          "state": {
            "_model_module": "@jupyter-widgets/base",
            "_model_module_version": "1.2.0",
            "_model_name": "LayoutModel",
            "_view_count": null,
            "_view_module": "@jupyter-widgets/base",
            "_view_module_version": "1.2.0",
            "_view_name": "LayoutView",
            "align_content": null,
            "align_items": null,
            "align_self": null,
            "border": null,
            "bottom": null,
            "display": null,
            "flex": null,
            "flex_flow": null,
            "grid_area": null,
            "grid_auto_columns": null,
            "grid_auto_flow": null,
            "grid_auto_rows": null,
            "grid_column": null,
            "grid_gap": null,
            "grid_row": null,
            "grid_template_areas": null,
            "grid_template_columns": null,
            "grid_template_rows": null,
            "height": null,
            "justify_content": null,
            "justify_items": null,
            "left": null,
            "margin": null,
            "max_height": null,
            "max_width": null,
            "min_height": null,
            "min_width": null,
            "object_fit": null,
            "object_position": null,
            "order": null,
            "overflow": null,
            "overflow_x": null,
            "overflow_y": null,
            "padding": null,
            "right": null,
            "top": null,
            "visibility": null,
            "width": null
          }
        },
        "877ce28bfa3342c287585ef820d7d85e": {
          "model_module": "@jupyter-widgets/controls",
          "model_name": "DescriptionStyleModel",
          "model_module_version": "1.5.0",
          "state": {
            "_model_module": "@jupyter-widgets/controls",
            "_model_module_version": "1.5.0",
            "_model_name": "DescriptionStyleModel",
            "_view_count": null,
            "_view_module": "@jupyter-widgets/base",
            "_view_module_version": "1.2.0",
            "_view_name": "StyleView",
            "description_width": ""
          }
        },
        "0b9a458d2d214c17b1c2b0e3ea6c61f7": {
          "model_module": "@jupyter-widgets/base",
          "model_name": "LayoutModel",
          "model_module_version": "1.2.0",
          "state": {
            "_model_module": "@jupyter-widgets/base",
            "_model_module_version": "1.2.0",
            "_model_name": "LayoutModel",
            "_view_count": null,
            "_view_module": "@jupyter-widgets/base",
            "_view_module_version": "1.2.0",
            "_view_name": "LayoutView",
            "align_content": null,
            "align_items": null,
            "align_self": null,
            "border": null,
            "bottom": null,
            "display": null,
            "flex": null,
            "flex_flow": null,
            "grid_area": null,
            "grid_auto_columns": null,
            "grid_auto_flow": null,
            "grid_auto_rows": null,
            "grid_column": null,
            "grid_gap": null,
            "grid_row": null,
            "grid_template_areas": null,
            "grid_template_columns": null,
            "grid_template_rows": null,
            "height": null,
            "justify_content": null,
            "justify_items": null,
            "left": null,
            "margin": null,
            "max_height": null,
            "max_width": null,
            "min_height": null,
            "min_width": null,
            "object_fit": null,
            "object_position": null,
            "order": null,
            "overflow": null,
            "overflow_x": null,
            "overflow_y": null,
            "padding": null,
            "right": null,
            "top": null,
            "visibility": null,
            "width": null
          }
        },
        "9894222c9a1c49688680b6b6ab8b65e3": {
          "model_module": "@jupyter-widgets/controls",
          "model_name": "ProgressStyleModel",
          "model_module_version": "1.5.0",
          "state": {
            "_model_module": "@jupyter-widgets/controls",
            "_model_module_version": "1.5.0",
            "_model_name": "ProgressStyleModel",
            "_view_count": null,
            "_view_module": "@jupyter-widgets/base",
            "_view_module_version": "1.2.0",
            "_view_name": "StyleView",
            "bar_color": null,
            "description_width": ""
          }
        },
        "04edb337c26f438f826cf9f4b0c423f8": {
          "model_module": "@jupyter-widgets/base",
          "model_name": "LayoutModel",
          "model_module_version": "1.2.0",
          "state": {
            "_model_module": "@jupyter-widgets/base",
            "_model_module_version": "1.2.0",
            "_model_name": "LayoutModel",
            "_view_count": null,
            "_view_module": "@jupyter-widgets/base",
            "_view_module_version": "1.2.0",
            "_view_name": "LayoutView",
            "align_content": null,
            "align_items": null,
            "align_self": null,
            "border": null,
            "bottom": null,
            "display": null,
            "flex": null,
            "flex_flow": null,
            "grid_area": null,
            "grid_auto_columns": null,
            "grid_auto_flow": null,
            "grid_auto_rows": null,
            "grid_column": null,
            "grid_gap": null,
            "grid_row": null,
            "grid_template_areas": null,
            "grid_template_columns": null,
            "grid_template_rows": null,
            "height": null,
            "justify_content": null,
            "justify_items": null,
            "left": null,
            "margin": null,
            "max_height": null,
            "max_width": null,
            "min_height": null,
            "min_width": null,
            "object_fit": null,
            "object_position": null,
            "order": null,
            "overflow": null,
            "overflow_x": null,
            "overflow_y": null,
            "padding": null,
            "right": null,
            "top": null,
            "visibility": null,
            "width": null
          }
        },
        "b4957c21078b4849a19204e8cd120da8": {
          "model_module": "@jupyter-widgets/controls",
          "model_name": "DescriptionStyleModel",
          "model_module_version": "1.5.0",
          "state": {
            "_model_module": "@jupyter-widgets/controls",
            "_model_module_version": "1.5.0",
            "_model_name": "DescriptionStyleModel",
            "_view_count": null,
            "_view_module": "@jupyter-widgets/base",
            "_view_module_version": "1.2.0",
            "_view_name": "StyleView",
            "description_width": ""
          }
        }
      }
    }
  },
  "nbformat": 4,
  "nbformat_minor": 5
}