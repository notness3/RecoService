{
  "cells": [
    {
      "cell_type": "code",
      "execution_count": 1,
      "id": "debc4873",
      "metadata": {
        "id": "debc4873"
      },
      "outputs": [],
      "source": [
        "import json\n",
        "import math\n",
        "import os\n",
        "from pathlib import Path\n",
        "\n",
        "import numpy as np\n",
        "import pandas as pd\n",
        "import torch\n",
        "from google.colab import drive\n",
        "from IPython.display import clear_output, display\n",
        "from sklearn.model_selection import train_test_split\n",
        "from sklearn.preprocessing import StandardScaler\n",
        "from torch import nn\n",
        "from torch.nn import functional as F\n",
        "from torch.utils.data import DataLoader, Dataset\n",
        "from tqdm.notebook import tqdm"
      ]
    },
    {
      "cell_type": "code",
      "execution_count": 2,
      "id": "SPEqJWFXVMkJ",
      "metadata": {
        "colab": {
          "base_uri": "https://localhost:8080/"
        },
        "id": "SPEqJWFXVMkJ",
        "outputId": "c92ebc1c-0565-4372-a987-d1a26472ab65"
      },
      "outputs": [
        {
          "output_type": "stream",
          "name": "stdout",
          "text": [
            "Mounted at /content/drive\n"
          ]
        }
      ],
      "source": [
        "drive.mount(\"/content/drive\")"
      ]
    },
    {
      "cell_type": "markdown",
      "id": "0EIkfyw23T8C",
      "metadata": {
        "id": "0EIkfyw23T8C"
      },
      "source": [
        "## Data"
      ]
    },
    {
      "cell_type": "code",
      "execution_count": 3,
      "id": "843b139a",
      "metadata": {
        "id": "843b139a"
      },
      "outputs": [],
      "source": [
        "interactions_df = pd.read_csv('/content/drive/MyDrive/data_original/interactions_processed_kion.csv')\n",
        "users_df = pd.read_csv('/content/drive/MyDrive/data_original/users_processed_kion.csv')\n",
        "items_df = pd.read_csv('/content/drive/MyDrive/data_original/items_processed_kion.csv')"
      ]
    },
    {
      "cell_type": "markdown",
      "id": "R3xxHP0A2tAX",
      "metadata": {
        "id": "R3xxHP0A2tAX"
      },
      "source": [
        "## Prepare"
      ]
    },
    {
      "cell_type": "code",
      "execution_count": 4,
      "id": "0fbac8ce",
      "metadata": {
        "id": "0fbac8ce"
      },
      "outputs": [],
      "source": [
        "interactions_df = interactions_df[interactions_df[\"last_watch_dt\"] < \"2021-04-01\"]"
      ]
    },
    {
      "cell_type": "code",
      "execution_count": 5,
      "id": "78342a0b",
      "metadata": {
        "colab": {
          "base_uri": "https://localhost:8080/"
        },
        "id": "78342a0b",
        "outputId": "2cb58e1c-5ae7-472d-f34b-3087202871d4"
      },
      "outputs": [
        {
          "output_type": "stream",
          "name": "stdout",
          "text": [
            "# users: 86614\n",
            "# users with at least 5 interactions: 14563\n"
          ]
        }
      ],
      "source": [
        "users_interactions_count_df = (\n",
        "    interactions_df.groupby([\"user_id\", \"item_id\"]).size().groupby(\"user_id\").size()\n",
        ")\n",
        "print(\"# users: %d\" % len(users_interactions_count_df))\n",
        "users_with_enough_interactions_df = users_interactions_count_df[\n",
        "    users_interactions_count_df >= 5\n",
        "].reset_index()[[\"user_id\"]]\n",
        "print(\"# users with at least 5 interactions: %d\" % len(users_with_enough_interactions_df))"
      ]
    },
    {
      "cell_type": "code",
      "execution_count": 6,
      "id": "0bd0d31d",
      "metadata": {
        "colab": {
          "base_uri": "https://localhost:8080/"
        },
        "id": "0bd0d31d",
        "outputId": "f7e4a13c-f7c2-427d-edad-300b676286b7"
      },
      "outputs": [
        {
          "output_type": "stream",
          "name": "stdout",
          "text": [
            "# of interactions: 263874\n",
            "# of interactions from users with at least 5 interactions: 142670\n"
          ]
        }
      ],
      "source": [
        "print(\"# of interactions: %d\" % len(interactions_df))\n",
        "interactions_from_selected_users_df = interactions_df.merge(\n",
        "    users_with_enough_interactions_df, how=\"right\", left_on=\"user_id\", right_on=\"user_id\"\n",
        ")\n",
        "print(\n",
        "    \"# of interactions from users with at least 5 interactions: %d\"\n",
        "    % len(interactions_from_selected_users_df)\n",
        ")"
      ]
    },
    {
      "cell_type": "code",
      "execution_count": 7,
      "id": "2df43577",
      "metadata": {
        "colab": {
          "base_uri": "https://localhost:8080/",
          "height": 381
        },
        "id": "2df43577",
        "outputId": "c6e73e88-2a53-47ce-80ec-5bd6efacd3c0"
      },
      "outputs": [
        {
          "output_type": "stream",
          "name": "stdout",
          "text": [
            "# of unique user/item interactions: 142670\n"
          ]
        },
        {
          "output_type": "execute_result",
          "data": {
            "text/plain": [
              "   user_id  item_id  watched_pct\n",
              "0       21      849     6.375039\n",
              "1       21     4345     6.658211\n",
              "2       21    10283     6.658211\n",
              "3       21    12261     6.658211\n",
              "4       21    15997     6.658211\n",
              "5       32      952     6.044394\n",
              "6       32     4382     4.954196\n",
              "7       32     4807     6.658211\n",
              "8       32    10436     6.658211\n",
              "9       32    12132     6.658211"
            ],
            "text/html": [
              "\n",
              "  <div id=\"df-6860c246-44a1-41f2-804d-4e5d57201dbd\" class=\"colab-df-container\">\n",
              "    <div>\n",
              "<style scoped>\n",
              "    .dataframe tbody tr th:only-of-type {\n",
              "        vertical-align: middle;\n",
              "    }\n",
              "\n",
              "    .dataframe tbody tr th {\n",
              "        vertical-align: top;\n",
              "    }\n",
              "\n",
              "    .dataframe thead th {\n",
              "        text-align: right;\n",
              "    }\n",
              "</style>\n",
              "<table border=\"1\" class=\"dataframe\">\n",
              "  <thead>\n",
              "    <tr style=\"text-align: right;\">\n",
              "      <th></th>\n",
              "      <th>user_id</th>\n",
              "      <th>item_id</th>\n",
              "      <th>watched_pct</th>\n",
              "    </tr>\n",
              "  </thead>\n",
              "  <tbody>\n",
              "    <tr>\n",
              "      <th>0</th>\n",
              "      <td>21</td>\n",
              "      <td>849</td>\n",
              "      <td>6.375039</td>\n",
              "    </tr>\n",
              "    <tr>\n",
              "      <th>1</th>\n",
              "      <td>21</td>\n",
              "      <td>4345</td>\n",
              "      <td>6.658211</td>\n",
              "    </tr>\n",
              "    <tr>\n",
              "      <th>2</th>\n",
              "      <td>21</td>\n",
              "      <td>10283</td>\n",
              "      <td>6.658211</td>\n",
              "    </tr>\n",
              "    <tr>\n",
              "      <th>3</th>\n",
              "      <td>21</td>\n",
              "      <td>12261</td>\n",
              "      <td>6.658211</td>\n",
              "    </tr>\n",
              "    <tr>\n",
              "      <th>4</th>\n",
              "      <td>21</td>\n",
              "      <td>15997</td>\n",
              "      <td>6.658211</td>\n",
              "    </tr>\n",
              "    <tr>\n",
              "      <th>5</th>\n",
              "      <td>32</td>\n",
              "      <td>952</td>\n",
              "      <td>6.044394</td>\n",
              "    </tr>\n",
              "    <tr>\n",
              "      <th>6</th>\n",
              "      <td>32</td>\n",
              "      <td>4382</td>\n",
              "      <td>4.954196</td>\n",
              "    </tr>\n",
              "    <tr>\n",
              "      <th>7</th>\n",
              "      <td>32</td>\n",
              "      <td>4807</td>\n",
              "      <td>6.658211</td>\n",
              "    </tr>\n",
              "    <tr>\n",
              "      <th>8</th>\n",
              "      <td>32</td>\n",
              "      <td>10436</td>\n",
              "      <td>6.658211</td>\n",
              "    </tr>\n",
              "    <tr>\n",
              "      <th>9</th>\n",
              "      <td>32</td>\n",
              "      <td>12132</td>\n",
              "      <td>6.658211</td>\n",
              "    </tr>\n",
              "  </tbody>\n",
              "</table>\n",
              "</div>\n",
              "    <div class=\"colab-df-buttons\">\n",
              "\n",
              "  <div class=\"colab-df-container\">\n",
              "    <button class=\"colab-df-convert\" onclick=\"convertToInteractive('df-6860c246-44a1-41f2-804d-4e5d57201dbd')\"\n",
              "            title=\"Convert this dataframe to an interactive table.\"\n",
              "            style=\"display:none;\">\n",
              "\n",
              "  <svg xmlns=\"http://www.w3.org/2000/svg\" height=\"24px\" viewBox=\"0 -960 960 960\">\n",
              "    <path d=\"M120-120v-720h720v720H120Zm60-500h600v-160H180v160Zm220 220h160v-160H400v160Zm0 220h160v-160H400v160ZM180-400h160v-160H180v160Zm440 0h160v-160H620v160ZM180-180h160v-160H180v160Zm440 0h160v-160H620v160Z\"/>\n",
              "  </svg>\n",
              "    </button>\n",
              "\n",
              "  <style>\n",
              "    .colab-df-container {\n",
              "      display:flex;\n",
              "      gap: 12px;\n",
              "    }\n",
              "\n",
              "    .colab-df-convert {\n",
              "      background-color: #E8F0FE;\n",
              "      border: none;\n",
              "      border-radius: 50%;\n",
              "      cursor: pointer;\n",
              "      display: none;\n",
              "      fill: #1967D2;\n",
              "      height: 32px;\n",
              "      padding: 0 0 0 0;\n",
              "      width: 32px;\n",
              "    }\n",
              "\n",
              "    .colab-df-convert:hover {\n",
              "      background-color: #E2EBFA;\n",
              "      box-shadow: 0px 1px 2px rgba(60, 64, 67, 0.3), 0px 1px 3px 1px rgba(60, 64, 67, 0.15);\n",
              "      fill: #174EA6;\n",
              "    }\n",
              "\n",
              "    .colab-df-buttons div {\n",
              "      margin-bottom: 4px;\n",
              "    }\n",
              "\n",
              "    [theme=dark] .colab-df-convert {\n",
              "      background-color: #3B4455;\n",
              "      fill: #D2E3FC;\n",
              "    }\n",
              "\n",
              "    [theme=dark] .colab-df-convert:hover {\n",
              "      background-color: #434B5C;\n",
              "      box-shadow: 0px 1px 3px 1px rgba(0, 0, 0, 0.15);\n",
              "      filter: drop-shadow(0px 1px 2px rgba(0, 0, 0, 0.3));\n",
              "      fill: #FFFFFF;\n",
              "    }\n",
              "  </style>\n",
              "\n",
              "    <script>\n",
              "      const buttonEl =\n",
              "        document.querySelector('#df-6860c246-44a1-41f2-804d-4e5d57201dbd button.colab-df-convert');\n",
              "      buttonEl.style.display =\n",
              "        google.colab.kernel.accessAllowed ? 'block' : 'none';\n",
              "\n",
              "      async function convertToInteractive(key) {\n",
              "        const element = document.querySelector('#df-6860c246-44a1-41f2-804d-4e5d57201dbd');\n",
              "        const dataTable =\n",
              "          await google.colab.kernel.invokeFunction('convertToInteractive',\n",
              "                                                    [key], {});\n",
              "        if (!dataTable) return;\n",
              "\n",
              "        const docLinkHtml = 'Like what you see? Visit the ' +\n",
              "          '<a target=\"_blank\" href=https://colab.research.google.com/notebooks/data_table.ipynb>data table notebook</a>'\n",
              "          + ' to learn more about interactive tables.';\n",
              "        element.innerHTML = '';\n",
              "        dataTable['output_type'] = 'display_data';\n",
              "        await google.colab.output.renderOutput(dataTable, element);\n",
              "        const docLink = document.createElement('div');\n",
              "        docLink.innerHTML = docLinkHtml;\n",
              "        element.appendChild(docLink);\n",
              "      }\n",
              "    </script>\n",
              "  </div>\n",
              "\n",
              "\n",
              "<div id=\"df-037e6bbe-c954-43e4-b693-8a1d5115a86d\">\n",
              "  <button class=\"colab-df-quickchart\" onclick=\"quickchart('df-037e6bbe-c954-43e4-b693-8a1d5115a86d')\"\n",
              "            title=\"Suggest charts\"\n",
              "            style=\"display:none;\">\n",
              "\n",
              "<svg xmlns=\"http://www.w3.org/2000/svg\" height=\"24px\"viewBox=\"0 0 24 24\"\n",
              "     width=\"24px\">\n",
              "    <g>\n",
              "        <path d=\"M19 3H5c-1.1 0-2 .9-2 2v14c0 1.1.9 2 2 2h14c1.1 0 2-.9 2-2V5c0-1.1-.9-2-2-2zM9 17H7v-7h2v7zm4 0h-2V7h2v10zm4 0h-2v-4h2v4z\"/>\n",
              "    </g>\n",
              "</svg>\n",
              "  </button>\n",
              "\n",
              "<style>\n",
              "  .colab-df-quickchart {\n",
              "      --bg-color: #E8F0FE;\n",
              "      --fill-color: #1967D2;\n",
              "      --hover-bg-color: #E2EBFA;\n",
              "      --hover-fill-color: #174EA6;\n",
              "      --disabled-fill-color: #AAA;\n",
              "      --disabled-bg-color: #DDD;\n",
              "  }\n",
              "\n",
              "  [theme=dark] .colab-df-quickchart {\n",
              "      --bg-color: #3B4455;\n",
              "      --fill-color: #D2E3FC;\n",
              "      --hover-bg-color: #434B5C;\n",
              "      --hover-fill-color: #FFFFFF;\n",
              "      --disabled-bg-color: #3B4455;\n",
              "      --disabled-fill-color: #666;\n",
              "  }\n",
              "\n",
              "  .colab-df-quickchart {\n",
              "    background-color: var(--bg-color);\n",
              "    border: none;\n",
              "    border-radius: 50%;\n",
              "    cursor: pointer;\n",
              "    display: none;\n",
              "    fill: var(--fill-color);\n",
              "    height: 32px;\n",
              "    padding: 0;\n",
              "    width: 32px;\n",
              "  }\n",
              "\n",
              "  .colab-df-quickchart:hover {\n",
              "    background-color: var(--hover-bg-color);\n",
              "    box-shadow: 0 1px 2px rgba(60, 64, 67, 0.3), 0 1px 3px 1px rgba(60, 64, 67, 0.15);\n",
              "    fill: var(--button-hover-fill-color);\n",
              "  }\n",
              "\n",
              "  .colab-df-quickchart-complete:disabled,\n",
              "  .colab-df-quickchart-complete:disabled:hover {\n",
              "    background-color: var(--disabled-bg-color);\n",
              "    fill: var(--disabled-fill-color);\n",
              "    box-shadow: none;\n",
              "  }\n",
              "\n",
              "  .colab-df-spinner {\n",
              "    border: 2px solid var(--fill-color);\n",
              "    border-color: transparent;\n",
              "    border-bottom-color: var(--fill-color);\n",
              "    animation:\n",
              "      spin 1s steps(1) infinite;\n",
              "  }\n",
              "\n",
              "  @keyframes spin {\n",
              "    0% {\n",
              "      border-color: transparent;\n",
              "      border-bottom-color: var(--fill-color);\n",
              "      border-left-color: var(--fill-color);\n",
              "    }\n",
              "    20% {\n",
              "      border-color: transparent;\n",
              "      border-left-color: var(--fill-color);\n",
              "      border-top-color: var(--fill-color);\n",
              "    }\n",
              "    30% {\n",
              "      border-color: transparent;\n",
              "      border-left-color: var(--fill-color);\n",
              "      border-top-color: var(--fill-color);\n",
              "      border-right-color: var(--fill-color);\n",
              "    }\n",
              "    40% {\n",
              "      border-color: transparent;\n",
              "      border-right-color: var(--fill-color);\n",
              "      border-top-color: var(--fill-color);\n",
              "    }\n",
              "    60% {\n",
              "      border-color: transparent;\n",
              "      border-right-color: var(--fill-color);\n",
              "    }\n",
              "    80% {\n",
              "      border-color: transparent;\n",
              "      border-right-color: var(--fill-color);\n",
              "      border-bottom-color: var(--fill-color);\n",
              "    }\n",
              "    90% {\n",
              "      border-color: transparent;\n",
              "      border-bottom-color: var(--fill-color);\n",
              "    }\n",
              "  }\n",
              "</style>\n",
              "\n",
              "  <script>\n",
              "    async function quickchart(key) {\n",
              "      const quickchartButtonEl =\n",
              "        document.querySelector('#' + key + ' button');\n",
              "      quickchartButtonEl.disabled = true;  // To prevent multiple clicks.\n",
              "      quickchartButtonEl.classList.add('colab-df-spinner');\n",
              "      try {\n",
              "        const charts = await google.colab.kernel.invokeFunction(\n",
              "            'suggestCharts', [key], {});\n",
              "      } catch (error) {\n",
              "        console.error('Error during call to suggestCharts:', error);\n",
              "      }\n",
              "      quickchartButtonEl.classList.remove('colab-df-spinner');\n",
              "      quickchartButtonEl.classList.add('colab-df-quickchart-complete');\n",
              "    }\n",
              "    (() => {\n",
              "      let quickchartButtonEl =\n",
              "        document.querySelector('#df-037e6bbe-c954-43e4-b693-8a1d5115a86d button');\n",
              "      quickchartButtonEl.style.display =\n",
              "        google.colab.kernel.accessAllowed ? 'block' : 'none';\n",
              "    })();\n",
              "  </script>\n",
              "</div>\n",
              "    </div>\n",
              "  </div>\n"
            ]
          },
          "metadata": {},
          "execution_count": 7
        }
      ],
      "source": [
        "def smooth_user_preference(x):\n",
        "    return math.log(1 + x, 2)\n",
        "\n",
        "\n",
        "interactions_full_df = (\n",
        "    interactions_from_selected_users_df.groupby([\"user_id\", \"item_id\"])[\"watched_pct\"]\n",
        "    .sum()\n",
        "    .apply(smooth_user_preference)\n",
        "    .reset_index()\n",
        ")\n",
        "print(\"# of unique user/item interactions: %d\" % len(interactions_full_df))\n",
        "interactions_full_df.head(10)"
      ]
    },
    {
      "cell_type": "code",
      "execution_count": 8,
      "id": "039e1442",
      "metadata": {
        "colab": {
          "base_uri": "https://localhost:8080/"
        },
        "id": "039e1442",
        "outputId": "a01cd988-2320-465b-c00d-1cf25a1b28a9"
      },
      "outputs": [
        {
          "output_type": "stream",
          "name": "stdout",
          "text": [
            "# interactions on Train set: 114136\n",
            "# interactions on Test set: 28534\n"
          ]
        }
      ],
      "source": [
        "interactions_train_df, interactions_test_df = train_test_split(\n",
        "    interactions_full_df, stratify=interactions_full_df[\"user_id\"], test_size=0.20, random_state=42\n",
        ")\n",
        "\n",
        "print(\"# interactions on Train set: %d\" % len(interactions_train_df))\n",
        "print(\"# interactions on Test set: %d\" % len(interactions_test_df))"
      ]
    },
    {
      "cell_type": "code",
      "execution_count": 9,
      "id": "0b38dea2",
      "metadata": {
        "id": "0b38dea2"
      },
      "outputs": [],
      "source": [
        "# Indexing by personId to speed up the searches during evaluation\n",
        "interactions_full_indexed_df = interactions_full_df.set_index(\"user_id\")\n",
        "interactions_train_indexed_df = interactions_train_df.set_index(\"user_id\")\n",
        "interactions_test_indexed_df = interactions_test_df.set_index(\"user_id\")"
      ]
    },
    {
      "cell_type": "code",
      "execution_count": 10,
      "id": "bbb9a04d",
      "metadata": {
        "id": "bbb9a04d"
      },
      "outputs": [],
      "source": [
        "def get_items_interacted(person_id, interactions_df):\n",
        "    # Get the user's data and merge in the movie information.\n",
        "    interacted_items = interactions_df.loc[person_id][\"item_id\"]\n",
        "    return set(interacted_items if type(interacted_items) == pd.Series else [interacted_items])"
      ]
    },
    {
      "cell_type": "markdown",
      "id": "H962QOt626R-",
      "metadata": {
        "id": "H962QOt626R-"
      },
      "source": [
        "# Train"
      ]
    },
    {
      "cell_type": "code",
      "execution_count": 11,
      "id": "03042d4a",
      "metadata": {
        "id": "03042d4a"
      },
      "outputs": [],
      "source": [
        "# Top-N accuracy metrics consts\n",
        "EVAL_RANDOM_SAMPLE_NON_INTERACTED_ITEMS = 100\n",
        "\n",
        "\n",
        "class ModelEvaluator:\n",
        "    def get_not_interacted_items_sample(self, person_id, sample_size, seed=42):\n",
        "        interacted_items = get_items_interacted(person_id, interactions_full_indexed_df)\n",
        "        all_items = set(articles_df[\"item_id\"])\n",
        "        non_interacted_items = all_items - interacted_items\n",
        "\n",
        "        random.seed(seed)\n",
        "        non_interacted_items_sample = random.sample(non_interacted_items, sample_size)\n",
        "        return set(non_interacted_items_sample)\n",
        "\n",
        "    def _verify_hit_top_n(self, item_id, recommended_items, topn):\n",
        "        try:\n",
        "            index = next(i for i, c in enumerate(recommended_items) if c == item_id)\n",
        "        except:\n",
        "            index = -1\n",
        "        hit = int(index in range(0, topn))\n",
        "        return hit, index\n",
        "\n",
        "    def evaluate_model_for_user(self, model, person_id):\n",
        "        # Getting the items in test set\n",
        "        interacted_values_testset = interactions_test_indexed_df.loc[person_id]\n",
        "        if type(interacted_values_testset[\"item_id\"]) == pd.Series:\n",
        "            person_interacted_items_testset = set(interacted_values_testset[\"item_id\"])\n",
        "        else:\n",
        "            person_interacted_items_testset = set([int(interacted_values_testset[\"item_id\"])])\n",
        "        interacted_items_count_testset = len(person_interacted_items_testset)\n",
        "\n",
        "        # Getting a ranked recommendation list from a model for a given user\n",
        "        person_recs_df = model.recommend_items(\n",
        "            person_id,\n",
        "            items_to_ignore=get_items_interacted(person_id, interactions_train_indexed_df),\n",
        "            topn=10000000000,\n",
        "        )\n",
        "\n",
        "        hits_at_5_count = 0\n",
        "        hits_at_10_count = 0\n",
        "        # For each item the user has interacted in test set\n",
        "        for item_id in person_interacted_items_testset:\n",
        "            # Getting a random sample (100) items the user has not interacted\n",
        "            # (to represent items that are assumed to be no relevant to the user)\n",
        "            non_interacted_items_sample = self.get_not_interacted_items_sample(\n",
        "                person_id,\n",
        "                sample_size=EVAL_RANDOM_SAMPLE_NON_INTERACTED_ITEMS,\n",
        "                seed=item_id % (2**32),\n",
        "            )\n",
        "\n",
        "            # Combining the current interacted item with the 100 random items\n",
        "            items_to_filter_recs = non_interacted_items_sample.union(set([item_id]))\n",
        "\n",
        "            # Filtering only recommendations that are either the interacted item or from a random sample of 100 non-interacted items\n",
        "            valid_recs_df = person_recs_df[person_recs_df[\"item_id\"].isin(items_to_filter_recs)]\n",
        "            valid_recs = valid_recs_df[\"item_id\"].values\n",
        "            # Verifying if the current interacted item is among the Top-N recommended items\n",
        "            hit_at_5, index_at_5 = self._verify_hit_top_n(item_id, valid_recs, 5)\n",
        "            hits_at_5_count += hit_at_5\n",
        "            hit_at_10, index_at_10 = self._verify_hit_top_n(item_id, valid_recs, 10)\n",
        "            hits_at_10_count += hit_at_10\n",
        "\n",
        "        # Recall is the rate of the interacted items that are ranked among the Top-N recommended items,\n",
        "        # when mixed with a set of non-relevant items\n",
        "        recall_at_5 = hits_at_5_count / float(interacted_items_count_testset)\n",
        "        recall_at_10 = hits_at_10_count / float(interacted_items_count_testset)\n",
        "\n",
        "        person_metrics = {\n",
        "            \"hits@5_count\": hits_at_5_count,\n",
        "            \"hits@10_count\": hits_at_10_count,\n",
        "            \"interacted_count\": interacted_items_count_testset,\n",
        "            \"recall@5\": recall_at_5,\n",
        "            \"recall@10\": recall_at_10,\n",
        "        }\n",
        "        return person_metrics\n",
        "\n",
        "    def evaluate_model(self, model):\n",
        "        # print('Running evaluation for users')\n",
        "        people_metrics = []\n",
        "        for idx, person_id in enumerate(\n",
        "            tqdm(list(interactions_test_indexed_df.index.unique().values))\n",
        "        ):\n",
        "            # if idx % 100 == 0 and idx > 0:\n",
        "            #    print('%d users processed' % idx)\n",
        "            person_metrics = self.evaluate_model_for_user(model, person_id)\n",
        "            person_metrics[\"user_id\"] = person_id\n",
        "            people_metrics.append(person_metrics)\n",
        "        print(\"%d users processed\" % idx)\n",
        "\n",
        "        detailed_results_df = pd.DataFrame(people_metrics).sort_values(\n",
        "            \"interacted_count\", ascending=False\n",
        "        )\n",
        "\n",
        "        global_recall_at_5 = detailed_results_df[\"hits@5_count\"].sum() / float(\n",
        "            detailed_results_df[\"interacted_count\"].sum()\n",
        "        )\n",
        "        global_recall_at_10 = detailed_results_df[\"hits@10_count\"].sum() / float(\n",
        "            detailed_results_df[\"interacted_count\"].sum()\n",
        "        )\n",
        "\n",
        "        global_metrics = {\n",
        "            \"modelName\": model.get_model_name(),\n",
        "            \"recall@5\": global_recall_at_5,\n",
        "            \"recall@10\": global_recall_at_10,\n",
        "        }\n",
        "        return global_metrics, detailed_results_df\n",
        "\n",
        "\n",
        "model_evaluator = ModelEvaluator()"
      ]
    },
    {
      "cell_type": "markdown",
      "id": "cS6115Lb3ndt",
      "metadata": {
        "id": "cS6115Lb3ndt"
      },
      "source": [
        "## Matrix"
      ]
    },
    {
      "cell_type": "code",
      "execution_count": 12,
      "id": "b47f52ce",
      "metadata": {
        "colab": {
          "base_uri": "https://localhost:8080/"
        },
        "id": "b47f52ce",
        "outputId": "52f19178-0a82-479d-fa39-270485338c33"
      },
      "outputs": [
        {
          "output_type": "stream",
          "name": "stderr",
          "text": [
            "<ipython-input-12-d1bef84dcca6>:1: FutureWarning: The frame.append method is deprecated and will be removed from pandas in a future version. Use pandas.concat instead.\n",
            "  total_df = interactions_train_df.append(interactions_test_indexed_df.reset_index())\n"
          ]
        }
      ],
      "source": [
        "total_df = interactions_train_df.append(interactions_test_indexed_df.reset_index())\n",
        "total_df[\"user_id\"], users_keys = total_df.user_id.factorize()\n",
        "total_df[\"item_id\"], items_keys = total_df.item_id.factorize()\n",
        "\n",
        "train_encoded = total_df.iloc[: len(interactions_train_df)].values\n",
        "test_encoded = total_df.iloc[len(interactions_train_df) :].values"
      ]
    },
    {
      "cell_type": "code",
      "execution_count": 13,
      "id": "27e538cd",
      "metadata": {
        "id": "27e538cd"
      },
      "outputs": [],
      "source": [
        "from scipy.sparse import csr_matrix\n",
        "\n",
        "shape = [int(total_df[\"user_id\"].max() + 1), int(total_df[\"item_id\"].max() + 1)]\n",
        "X_train = csr_matrix(\n",
        "    (train_encoded[:, 2], (train_encoded[:, 0], train_encoded[:, 1])), shape=shape\n",
        ").toarray()\n",
        "X_test = csr_matrix(\n",
        "    (test_encoded[:, 2], (test_encoded[:, 0], test_encoded[:, 1])), shape=shape\n",
        ").toarray()"
      ]
    },
    {
      "cell_type": "code",
      "execution_count": 14,
      "id": "89cc28b3",
      "metadata": {
        "id": "89cc28b3"
      },
      "outputs": [],
      "source": [
        "# Initialize the DataObject, which must return an element (features vector x and target value y)\n",
        "# for a given idx. This class must also have a length atribute\n",
        "class UserOrientedDataset(Dataset):\n",
        "    def __init__(self, X):\n",
        "        super().__init__()  # to initialize the parent class\n",
        "        self.X = X.astype(np.float32)\n",
        "        self.len = len(X)\n",
        "\n",
        "    def __len__(self):  # We use __func__ for implementing in-built python functions\n",
        "        return self.len\n",
        "\n",
        "    def __getitem__(self, index):\n",
        "        return self.X[index]"
      ]
    },
    {
      "cell_type": "code",
      "execution_count": 19,
      "id": "9039ffb8",
      "metadata": {
        "id": "9039ffb8"
      },
      "outputs": [],
      "source": [
        "# Constants\n",
        "SEED = 42  # random seed for reproducibility\n",
        "LR = 1e-3  # learning rate, controls the speed of the training\n",
        "WEIGHT_DECAY = 0.01  # lambda for L2 reg. ()\n",
        "NUM_EPOCHS = 200  # num training epochs (how many times each instance will be processed)\n",
        "GAMMA = 0.9995  # learning rate scheduler parameter\n",
        "BATCH_SIZE = 3000  # training batch size\n",
        "EVAL_BATCH_SIZE = 3000  # evaluation batch size.\n",
        "DEVICE = (\n",
        "    \"cuda\" if torch.cuda.is_available() else \"cpu\"\n",
        ")  #'cuda' # device to make the calculations on"
      ]
    },
    {
      "cell_type": "code",
      "execution_count": 20,
      "id": "0ee1dfe3",
      "metadata": {
        "id": "0ee1dfe3"
      },
      "outputs": [],
      "source": [
        "# Initialize DataLoaders - objects, which sample instances from DataObject-s\n",
        "train_dl = DataLoader(UserOrientedDataset(X_train), batch_size=BATCH_SIZE, shuffle=True)\n",
        "\n",
        "test_dl = DataLoader(UserOrientedDataset(X_test), batch_size=EVAL_BATCH_SIZE, shuffle=False)\n",
        "\n",
        "dls = {\"train\": train_dl, \"test\": test_dl}"
      ]
    },
    {
      "cell_type": "markdown",
      "id": "dZBzo5B633St",
      "metadata": {
        "id": "dZBzo5B633St"
      },
      "source": [
        "## Model"
      ]
    },
    {
      "cell_type": "code",
      "execution_count": 33,
      "id": "27054192",
      "metadata": {
        "id": "27054192"
      },
      "outputs": [],
      "source": [
        "class Model(nn.Module):\n",
        "    def __init__(self, in_and_out_features=8287):\n",
        "        super().__init__()\n",
        "        self.in_and_out_features = in_and_out_features\n",
        "\n",
        "        self.sequential = nn.Sequential(\n",
        "            nn.Linear(in_and_out_features, 512),\n",
        "            nn.LeakyReLU(),\n",
        "            nn.Linear(512, 256),\n",
        "            nn.LeakyReLU(),\n",
        "            nn.Linear(256, 64),\n",
        "            nn.LeakyReLU(),\n",
        "            nn.Linear(64, 256),\n",
        "            nn.LeakyReLU(),\n",
        "            nn.Linear(256, 512),\n",
        "            nn.LeakyReLU(),\n",
        "            nn.Linear(512, in_and_out_features),\n",
        "        )\n",
        "\n",
        "    def forward(\n",
        "        self, x\n",
        "    ):  # In the forward function, you define how your model runs, from input to output\n",
        "        x = self.sequential(x)\n",
        "        return x"
      ]
    },
    {
      "cell_type": "code",
      "execution_count": 34,
      "id": "2c95f9af",
      "metadata": {
        "id": "2c95f9af"
      },
      "outputs": [],
      "source": [
        "torch.manual_seed(SEED)  # Fix random seed to have reproducible weights of model layers\n",
        "\n",
        "model = Model()\n",
        "model.to(DEVICE)\n",
        "\n",
        "# Initialize GD method, which will update the weights of the model\n",
        "optimizer = torch.optim.AdamW(model.parameters(), lr=LR, weight_decay=WEIGHT_DECAY)\n",
        "# Initialize learning rate scheduler, which will decrease LR according to some rule\n",
        "scheduler = torch.optim.lr_scheduler.ExponentialLR(optimizer, gamma=GAMMA)\n",
        "\n",
        "\n",
        "def rmse_for_sparse(x_pred, x_true):\n",
        "    mask = x_true > 0\n",
        "    sq_diff = (x_pred * mask - x_true) ** 2\n",
        "    mse = sq_diff.sum() / mask.sum()\n",
        "    return mse ** (1 / 2)"
      ]
    },
    {
      "cell_type": "markdown",
      "id": "G41ZGkpL36pY",
      "metadata": {
        "id": "G41ZGkpL36pY"
      },
      "source": [
        "## Train loop"
      ]
    },
    {
      "cell_type": "code",
      "execution_count": 35,
      "id": "e9cdaf94",
      "metadata": {
        "colab": {
          "base_uri": "https://localhost:8080/",
          "height": 424
        },
        "id": "e9cdaf94",
        "outputId": "4699cf51-64ea-472d-b64d-2cfe2c566a9b"
      },
      "outputs": [
        {
          "output_type": "display_data",
          "data": {
            "text/plain": [
              "     Epoch  Train RMSE  Test RMSE\n",
              "0        0    2.329532   2.313182\n",
              "1        1    2.229282   2.171816\n",
              "2        2    2.016636   2.094059\n",
              "3        3    1.841834   2.100723\n",
              "4        4    1.741552   1.923125\n",
              "..     ...         ...        ...\n",
              "195    195    0.446250   1.369317\n",
              "196    196    0.450094   1.362324\n",
              "197    197    0.441648   1.362782\n",
              "198    198    0.432306   1.371587\n",
              "199    199    0.453068   1.365466\n",
              "\n",
              "[200 rows x 3 columns]"
            ],
            "text/html": [
              "\n",
              "  <div id=\"df-0620fa50-6407-423f-b8ae-ce30eab5b3c7\" class=\"colab-df-container\">\n",
              "    <div>\n",
              "<style scoped>\n",
              "    .dataframe tbody tr th:only-of-type {\n",
              "        vertical-align: middle;\n",
              "    }\n",
              "\n",
              "    .dataframe tbody tr th {\n",
              "        vertical-align: top;\n",
              "    }\n",
              "\n",
              "    .dataframe thead th {\n",
              "        text-align: right;\n",
              "    }\n",
              "</style>\n",
              "<table border=\"1\" class=\"dataframe\">\n",
              "  <thead>\n",
              "    <tr style=\"text-align: right;\">\n",
              "      <th></th>\n",
              "      <th>Epoch</th>\n",
              "      <th>Train RMSE</th>\n",
              "      <th>Test RMSE</th>\n",
              "    </tr>\n",
              "  </thead>\n",
              "  <tbody>\n",
              "    <tr>\n",
              "      <th>0</th>\n",
              "      <td>0</td>\n",
              "      <td>2.329532</td>\n",
              "      <td>2.313182</td>\n",
              "    </tr>\n",
              "    <tr>\n",
              "      <th>1</th>\n",
              "      <td>1</td>\n",
              "      <td>2.229282</td>\n",
              "      <td>2.171816</td>\n",
              "    </tr>\n",
              "    <tr>\n",
              "      <th>2</th>\n",
              "      <td>2</td>\n",
              "      <td>2.016636</td>\n",
              "      <td>2.094059</td>\n",
              "    </tr>\n",
              "    <tr>\n",
              "      <th>3</th>\n",
              "      <td>3</td>\n",
              "      <td>1.841834</td>\n",
              "      <td>2.100723</td>\n",
              "    </tr>\n",
              "    <tr>\n",
              "      <th>4</th>\n",
              "      <td>4</td>\n",
              "      <td>1.741552</td>\n",
              "      <td>1.923125</td>\n",
              "    </tr>\n",
              "    <tr>\n",
              "      <th>...</th>\n",
              "      <td>...</td>\n",
              "      <td>...</td>\n",
              "      <td>...</td>\n",
              "    </tr>\n",
              "    <tr>\n",
              "      <th>195</th>\n",
              "      <td>195</td>\n",
              "      <td>0.446250</td>\n",
              "      <td>1.369317</td>\n",
              "    </tr>\n",
              "    <tr>\n",
              "      <th>196</th>\n",
              "      <td>196</td>\n",
              "      <td>0.450094</td>\n",
              "      <td>1.362324</td>\n",
              "    </tr>\n",
              "    <tr>\n",
              "      <th>197</th>\n",
              "      <td>197</td>\n",
              "      <td>0.441648</td>\n",
              "      <td>1.362782</td>\n",
              "    </tr>\n",
              "    <tr>\n",
              "      <th>198</th>\n",
              "      <td>198</td>\n",
              "      <td>0.432306</td>\n",
              "      <td>1.371587</td>\n",
              "    </tr>\n",
              "    <tr>\n",
              "      <th>199</th>\n",
              "      <td>199</td>\n",
              "      <td>0.453068</td>\n",
              "      <td>1.365466</td>\n",
              "    </tr>\n",
              "  </tbody>\n",
              "</table>\n",
              "<p>200 rows × 3 columns</p>\n",
              "</div>\n",
              "    <div class=\"colab-df-buttons\">\n",
              "\n",
              "  <div class=\"colab-df-container\">\n",
              "    <button class=\"colab-df-convert\" onclick=\"convertToInteractive('df-0620fa50-6407-423f-b8ae-ce30eab5b3c7')\"\n",
              "            title=\"Convert this dataframe to an interactive table.\"\n",
              "            style=\"display:none;\">\n",
              "\n",
              "  <svg xmlns=\"http://www.w3.org/2000/svg\" height=\"24px\" viewBox=\"0 -960 960 960\">\n",
              "    <path d=\"M120-120v-720h720v720H120Zm60-500h600v-160H180v160Zm220 220h160v-160H400v160Zm0 220h160v-160H400v160ZM180-400h160v-160H180v160Zm440 0h160v-160H620v160ZM180-180h160v-160H180v160Zm440 0h160v-160H620v160Z\"/>\n",
              "  </svg>\n",
              "    </button>\n",
              "\n",
              "  <style>\n",
              "    .colab-df-container {\n",
              "      display:flex;\n",
              "      gap: 12px;\n",
              "    }\n",
              "\n",
              "    .colab-df-convert {\n",
              "      background-color: #E8F0FE;\n",
              "      border: none;\n",
              "      border-radius: 50%;\n",
              "      cursor: pointer;\n",
              "      display: none;\n",
              "      fill: #1967D2;\n",
              "      height: 32px;\n",
              "      padding: 0 0 0 0;\n",
              "      width: 32px;\n",
              "    }\n",
              "\n",
              "    .colab-df-convert:hover {\n",
              "      background-color: #E2EBFA;\n",
              "      box-shadow: 0px 1px 2px rgba(60, 64, 67, 0.3), 0px 1px 3px 1px rgba(60, 64, 67, 0.15);\n",
              "      fill: #174EA6;\n",
              "    }\n",
              "\n",
              "    .colab-df-buttons div {\n",
              "      margin-bottom: 4px;\n",
              "    }\n",
              "\n",
              "    [theme=dark] .colab-df-convert {\n",
              "      background-color: #3B4455;\n",
              "      fill: #D2E3FC;\n",
              "    }\n",
              "\n",
              "    [theme=dark] .colab-df-convert:hover {\n",
              "      background-color: #434B5C;\n",
              "      box-shadow: 0px 1px 3px 1px rgba(0, 0, 0, 0.15);\n",
              "      filter: drop-shadow(0px 1px 2px rgba(0, 0, 0, 0.3));\n",
              "      fill: #FFFFFF;\n",
              "    }\n",
              "  </style>\n",
              "\n",
              "    <script>\n",
              "      const buttonEl =\n",
              "        document.querySelector('#df-0620fa50-6407-423f-b8ae-ce30eab5b3c7 button.colab-df-convert');\n",
              "      buttonEl.style.display =\n",
              "        google.colab.kernel.accessAllowed ? 'block' : 'none';\n",
              "\n",
              "      async function convertToInteractive(key) {\n",
              "        const element = document.querySelector('#df-0620fa50-6407-423f-b8ae-ce30eab5b3c7');\n",
              "        const dataTable =\n",
              "          await google.colab.kernel.invokeFunction('convertToInteractive',\n",
              "                                                    [key], {});\n",
              "        if (!dataTable) return;\n",
              "\n",
              "        const docLinkHtml = 'Like what you see? Visit the ' +\n",
              "          '<a target=\"_blank\" href=https://colab.research.google.com/notebooks/data_table.ipynb>data table notebook</a>'\n",
              "          + ' to learn more about interactive tables.';\n",
              "        element.innerHTML = '';\n",
              "        dataTable['output_type'] = 'display_data';\n",
              "        await google.colab.output.renderOutput(dataTable, element);\n",
              "        const docLink = document.createElement('div');\n",
              "        docLink.innerHTML = docLinkHtml;\n",
              "        element.appendChild(docLink);\n",
              "      }\n",
              "    </script>\n",
              "  </div>\n",
              "\n",
              "\n",
              "<div id=\"df-ffb20fee-ccc2-4653-b93a-c0bbd1203e13\">\n",
              "  <button class=\"colab-df-quickchart\" onclick=\"quickchart('df-ffb20fee-ccc2-4653-b93a-c0bbd1203e13')\"\n",
              "            title=\"Suggest charts\"\n",
              "            style=\"display:none;\">\n",
              "\n",
              "<svg xmlns=\"http://www.w3.org/2000/svg\" height=\"24px\"viewBox=\"0 0 24 24\"\n",
              "     width=\"24px\">\n",
              "    <g>\n",
              "        <path d=\"M19 3H5c-1.1 0-2 .9-2 2v14c0 1.1.9 2 2 2h14c1.1 0 2-.9 2-2V5c0-1.1-.9-2-2-2zM9 17H7v-7h2v7zm4 0h-2V7h2v10zm4 0h-2v-4h2v4z\"/>\n",
              "    </g>\n",
              "</svg>\n",
              "  </button>\n",
              "\n",
              "<style>\n",
              "  .colab-df-quickchart {\n",
              "      --bg-color: #E8F0FE;\n",
              "      --fill-color: #1967D2;\n",
              "      --hover-bg-color: #E2EBFA;\n",
              "      --hover-fill-color: #174EA6;\n",
              "      --disabled-fill-color: #AAA;\n",
              "      --disabled-bg-color: #DDD;\n",
              "  }\n",
              "\n",
              "  [theme=dark] .colab-df-quickchart {\n",
              "      --bg-color: #3B4455;\n",
              "      --fill-color: #D2E3FC;\n",
              "      --hover-bg-color: #434B5C;\n",
              "      --hover-fill-color: #FFFFFF;\n",
              "      --disabled-bg-color: #3B4455;\n",
              "      --disabled-fill-color: #666;\n",
              "  }\n",
              "\n",
              "  .colab-df-quickchart {\n",
              "    background-color: var(--bg-color);\n",
              "    border: none;\n",
              "    border-radius: 50%;\n",
              "    cursor: pointer;\n",
              "    display: none;\n",
              "    fill: var(--fill-color);\n",
              "    height: 32px;\n",
              "    padding: 0;\n",
              "    width: 32px;\n",
              "  }\n",
              "\n",
              "  .colab-df-quickchart:hover {\n",
              "    background-color: var(--hover-bg-color);\n",
              "    box-shadow: 0 1px 2px rgba(60, 64, 67, 0.3), 0 1px 3px 1px rgba(60, 64, 67, 0.15);\n",
              "    fill: var(--button-hover-fill-color);\n",
              "  }\n",
              "\n",
              "  .colab-df-quickchart-complete:disabled,\n",
              "  .colab-df-quickchart-complete:disabled:hover {\n",
              "    background-color: var(--disabled-bg-color);\n",
              "    fill: var(--disabled-fill-color);\n",
              "    box-shadow: none;\n",
              "  }\n",
              "\n",
              "  .colab-df-spinner {\n",
              "    border: 2px solid var(--fill-color);\n",
              "    border-color: transparent;\n",
              "    border-bottom-color: var(--fill-color);\n",
              "    animation:\n",
              "      spin 1s steps(1) infinite;\n",
              "  }\n",
              "\n",
              "  @keyframes spin {\n",
              "    0% {\n",
              "      border-color: transparent;\n",
              "      border-bottom-color: var(--fill-color);\n",
              "      border-left-color: var(--fill-color);\n",
              "    }\n",
              "    20% {\n",
              "      border-color: transparent;\n",
              "      border-left-color: var(--fill-color);\n",
              "      border-top-color: var(--fill-color);\n",
              "    }\n",
              "    30% {\n",
              "      border-color: transparent;\n",
              "      border-left-color: var(--fill-color);\n",
              "      border-top-color: var(--fill-color);\n",
              "      border-right-color: var(--fill-color);\n",
              "    }\n",
              "    40% {\n",
              "      border-color: transparent;\n",
              "      border-right-color: var(--fill-color);\n",
              "      border-top-color: var(--fill-color);\n",
              "    }\n",
              "    60% {\n",
              "      border-color: transparent;\n",
              "      border-right-color: var(--fill-color);\n",
              "    }\n",
              "    80% {\n",
              "      border-color: transparent;\n",
              "      border-right-color: var(--fill-color);\n",
              "      border-bottom-color: var(--fill-color);\n",
              "    }\n",
              "    90% {\n",
              "      border-color: transparent;\n",
              "      border-bottom-color: var(--fill-color);\n",
              "    }\n",
              "  }\n",
              "</style>\n",
              "\n",
              "  <script>\n",
              "    async function quickchart(key) {\n",
              "      const quickchartButtonEl =\n",
              "        document.querySelector('#' + key + ' button');\n",
              "      quickchartButtonEl.disabled = true;  // To prevent multiple clicks.\n",
              "      quickchartButtonEl.classList.add('colab-df-spinner');\n",
              "      try {\n",
              "        const charts = await google.colab.kernel.invokeFunction(\n",
              "            'suggestCharts', [key], {});\n",
              "      } catch (error) {\n",
              "        console.error('Error during call to suggestCharts:', error);\n",
              "      }\n",
              "      quickchartButtonEl.classList.remove('colab-df-spinner');\n",
              "      quickchartButtonEl.classList.add('colab-df-quickchart-complete');\n",
              "    }\n",
              "    (() => {\n",
              "      let quickchartButtonEl =\n",
              "        document.querySelector('#df-ffb20fee-ccc2-4653-b93a-c0bbd1203e13 button');\n",
              "      quickchartButtonEl.style.display =\n",
              "        google.colab.kernel.accessAllowed ? 'block' : 'none';\n",
              "    })();\n",
              "  </script>\n",
              "</div>\n",
              "    </div>\n",
              "  </div>\n"
            ]
          },
          "metadata": {}
        }
      ],
      "source": [
        "# Training loop\n",
        "metrics_dict = {\n",
        "    \"Epoch\": [],\n",
        "    \"Train RMSE\": [],\n",
        "    \"Test RMSE\": [],\n",
        "}\n",
        "\n",
        "# Train loop\n",
        "for epoch in range(NUM_EPOCHS):\n",
        "    metrics_dict[\"Epoch\"].append(epoch)\n",
        "    for stage in [\"train\", \"test\"]:\n",
        "        with torch.set_grad_enabled(\n",
        "            stage == \"train\"\n",
        "        ):  # Whether to start building a graph for a backward pass\n",
        "            if stage == \"train\":\n",
        "                model.train()  # Enable some \"special\" layers (will speak about later)\n",
        "            else:\n",
        "                model.eval()  # Disable some \"special\" layers (will speak about later)\n",
        "\n",
        "            loss_at_stage = 0\n",
        "            for batch in dls[stage]:\n",
        "                batch = batch.to(DEVICE)\n",
        "                x_pred = model(batch)  # forward pass: model(x_batch) -> calls forward()\n",
        "                loss = rmse_for_sparse(x_pred, batch)  # ¡Important! y_pred is always the first arg\n",
        "                if stage == \"train\":\n",
        "                    loss.backward()  # Calculate the gradients of all the parameters wrt loss\n",
        "                    optimizer.step()  # Update the parameters\n",
        "                    scheduler.step()\n",
        "                    optimizer.zero_grad()  # Zero the saved gradient\n",
        "                loss_at_stage += loss.item() * len(batch)\n",
        "            rmse_at_stage = (loss_at_stage / len(dls[stage].dataset)) ** (1 / 2)\n",
        "            metrics_dict[f\"{stage.title()} RMSE\"].append(rmse_at_stage)\n",
        "\n",
        "    if (epoch == NUM_EPOCHS - 1) or epoch % 10 == 5:\n",
        "        clear_output(wait=True)\n",
        "        display(pd.DataFrame(metrics_dict))"
      ]
    },
    {
      "cell_type": "markdown",
      "id": "i5fHcQW54Aqj",
      "metadata": {
        "id": "i5fHcQW54Aqj"
      },
      "source": [
        "# Compute metrics"
      ]
    },
    {
      "cell_type": "code",
      "execution_count": 30,
      "id": "a9bf9546",
      "metadata": {
        "colab": {
          "base_uri": "https://localhost:8080/"
        },
        "id": "a9bf9546",
        "outputId": "ca4358d9-e8b1-4360-cb91-51192a937ad3"
      },
      "outputs": [
        {
          "output_type": "execute_result",
          "data": {
            "text/plain": [
              "tensor([[ 3.6314,  5.3786,  3.1180,  ...,  0.1486,  1.3616, -1.2914],\n",
              "        [ 1.2582,  1.9715,  1.4766,  ..., -0.2271,  0.3393,  0.4056],\n",
              "        [ 3.3783,  4.9898,  1.3296,  ...,  0.0404,  0.7788,  0.2440],\n",
              "        ...,\n",
              "        [ 3.2210,  2.1725,  0.8240,  ...,  0.0420,  0.3119,  0.6721],\n",
              "        [ 3.3753,  4.3161,  2.9380,  ...,  0.0590,  0.5081,  0.6016],\n",
              "        [ 4.3163,  4.0991,  4.4564,  ...,  0.5755,  1.1335, -0.2056]],\n",
              "       device='cuda:0')"
            ]
          },
          "metadata": {},
          "execution_count": 30
        }
      ],
      "source": [
        "with torch.no_grad():\n",
        "    X_pred = model(torch.Tensor(torch.Tensor(X_test).to(DEVICE)))\n",
        "X_pred"
      ]
    },
    {
      "cell_type": "code",
      "execution_count": 31,
      "id": "3bca32fb",
      "metadata": {
        "id": "3bca32fb"
      },
      "outputs": [],
      "source": [
        "class AERecommender:\n",
        "    MODEL_NAME = \"Autoencoder\"\n",
        "\n",
        "    def __init__(self, X_preds, X_train_and_val, X_test):\n",
        "        self.X_preds = X_preds.cpu().detach().numpy()\n",
        "        self.X_train_and_val = X_train_and_val\n",
        "        self.X_test = X_test\n",
        "\n",
        "    def get_model_name(self):\n",
        "        return self.MODEL_NAME\n",
        "\n",
        "    def recommend_items(self, user_id, items_to_select_idx, topn=10, verbose=False):\n",
        "        user_preds = self.X_preds[user_id][items_to_select_idx]\n",
        "        items_idx = items_to_select_idx[np.argsort(-user_preds)[:topn]]\n",
        "\n",
        "        # Recommend the highest predicted rating movies that the user hasn't seen yet.\n",
        "        return items_idx\n",
        "\n",
        "    def evaluate(self, size=100):\n",
        "        X_total = self.X_train_and_val + self.X_test\n",
        "\n",
        "        true_5 = []\n",
        "        true_10 = []\n",
        "\n",
        "        for user_id in range(len(X_test)):\n",
        "            non_zero = np.argwhere(self.X_test[user_id] > 0).ravel()\n",
        "            all_nonzero = np.argwhere(X_total[user_id] > 0).ravel()\n",
        "            select_from = np.setdiff1d(np.arange(X_total.shape[1]), all_nonzero)\n",
        "\n",
        "            for non_zero_idx in non_zero:\n",
        "                random_non_interacted_100_items = np.random.choice(\n",
        "                    select_from, size=20, replace=False\n",
        "                )\n",
        "                preds = self.recommend_items(\n",
        "                    user_id, np.append(random_non_interacted_100_items, non_zero_idx), topn=10\n",
        "                )\n",
        "                true_5.append(non_zero_idx in preds[:5])\n",
        "                true_10.append(non_zero_idx in preds)\n",
        "\n",
        "        return {\"recall@5\": np.mean(true_5), \"recall@10\": np.mean(true_10)}\n",
        "\n",
        "\n",
        "ae_recommender_model = AERecommender(X_pred, X_train, X_train)"
      ]
    },
    {
      "cell_type": "code",
      "execution_count": 32,
      "id": "5WyiXNnzYvzF",
      "metadata": {
        "colab": {
          "base_uri": "https://localhost:8080/"
        },
        "id": "5WyiXNnzYvzF",
        "outputId": "2115407b-8aec-4326-e4ad-a6b5a5f83613"
      },
      "outputs": [
        {
          "output_type": "execute_result",
          "data": {
            "text/plain": [
              "{'recall@5': 0.20518396442606804, 'recall@10': 0.4597891698440715}"
            ]
          },
          "metadata": {},
          "execution_count": 32
        }
      ],
      "source": [
        "ae_global_metrics = ae_recommender_model.evaluate()\n",
        "ae_global_metrics"
      ]
    },
    {
      "cell_type": "markdown",
      "id": "kR_6EdG-4ILn",
      "metadata": {
        "id": "kR_6EdG-4ILn"
      },
      "source": [
        "# Save predictions"
      ]
    },
    {
      "cell_type": "code",
      "execution_count": 36,
      "id": "HMCYu8SHowSq",
      "metadata": {
        "id": "HMCYu8SHowSq"
      },
      "outputs": [],
      "source": [
        "full_data = total_df.values\n",
        "shape = [int(total_df[\"user_id\"].max() + 1), int(total_df[\"item_id\"].max() + 1)]\n",
        "X = csr_matrix(\n",
        "    (full_data[:, 2], (full_data[:, 0], full_data[:, 1])), shape=shape\n",
        ").toarray()"
      ]
    },
    {
      "cell_type": "code",
      "execution_count": 37,
      "id": "4d846334",
      "metadata": {
        "colab": {
          "base_uri": "https://localhost:8080/"
        },
        "id": "4d846334",
        "outputId": "222309e2-a165-401c-adab-29a34d6a1f84"
      },
      "outputs": [
        {
          "output_type": "execute_result",
          "data": {
            "text/plain": [
              "tensor([[ 9.3902,  7.8573,  0.9574,  ...,  0.5189,  1.9293, -0.3938],\n",
              "        [ 6.6886,  6.6545,  6.1248,  ...,  0.1369,  1.6708,  0.3392],\n",
              "        [ 4.8048,  5.5170,  6.5592,  ...,  0.7058,  1.5594,  0.0154],\n",
              "        ...,\n",
              "        [ 3.6297,  2.2704,  1.1494,  ...,  0.2335,  0.3653,  0.2007],\n",
              "        [ 4.5786,  5.7081,  5.1777,  ...,  0.3708,  1.2185, -0.1780],\n",
              "        [ 4.1028,  4.8718,  2.8562,  ...,  0.2731,  0.7409, -0.1965]],\n",
              "       device='cuda:0')"
            ]
          },
          "metadata": {},
          "execution_count": 37
        }
      ],
      "source": [
        "with torch.no_grad():\n",
        "    X_pred = model(torch.Tensor(torch.Tensor(X).to(DEVICE)))\n",
        "X_pred"
      ]
    },
    {
      "cell_type": "code",
      "execution_count": 40,
      "id": "fxCKNXMJprEw",
      "metadata": {
        "id": "fxCKNXMJprEw"
      },
      "outputs": [],
      "source": [
        "def recommend_items(user_id, predictions, topn=10):\n",
        "    all_nonzero = np.argwhere(X[user_id] > 0).ravel()\n",
        "    select_from = np.setdiff1d(np.arange(X.shape[1]), all_nonzero)\n",
        "    random_non_interacted_100_items = np.random.choice(select_from, size=20, replace=False)\n",
        "\n",
        "    user_preds = predictions[user_id][random_non_interacted_100_items].cpu()\n",
        "    items_idx = random_non_interacted_100_items[np.argsort(-user_preds)[:topn]]\n",
        "    return items_idx"
      ]
    },
    {
      "cell_type": "code",
      "execution_count": 41,
      "id": "od3kyhhemih7",
      "metadata": {
        "id": "od3kyhhemih7"
      },
      "outputs": [],
      "source": [
        "recos = {}\n",
        "users = interactions_full_indexed_df.index.unique().tolist()\n",
        "for i, user_id in enumerate(users):\n",
        "    recos_for_user = recommend_items(i, X_pred)\n",
        "    recos.update({user_id: recos_for_user.tolist()})"
      ]
    },
    {
      "cell_type": "code",
      "execution_count": 42,
      "id": "vQJwdSzamU8U",
      "metadata": {
        "id": "vQJwdSzamU8U"
      },
      "outputs": [],
      "source": [
        "with open(\"/content/drive/MyDrive/autoencoder.json\", \"w\") as f:\n",
        "    json.dump(recos, f)"
      ]
    }
  ],
  "metadata": {
    "accelerator": "GPU",
    "colab": {
      "gpuType": "T4",
      "provenance": [],
      "toc_visible": true
    },
    "kernelspec": {
      "display_name": "Python 3 (ipykernel)",
      "language": "python",
      "name": "python3"
    },
    "language_info": {
      "codemirror_mode": {
        "name": "ipython",
        "version": 3
      },
      "file_extension": ".py",
      "mimetype": "text/x-python",
      "name": "python",
      "nbconvert_exporter": "python",
      "pygments_lexer": "ipython3",
      "version": "3.10.12"
    }
  },
  "nbformat": 4,
  "nbformat_minor": 5
}