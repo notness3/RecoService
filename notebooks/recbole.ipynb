{
  "cells": [
    {
      "cell_type": "code",
      "execution_count": null,
      "id": "HFFesPwlIMNk",
      "metadata": {
        "id": "HFFesPwlIMNk"
      },
      "outputs": [],
      "source": [
        "%%capture\n",
        "!pip install kmeans_pytorch ray recbole"
      ]
    },
    {
      "cell_type": "code",
      "execution_count": 5,
      "id": "y6-NYSo2H1rf",
      "metadata": {
        "colab": {
          "base_uri": "https://localhost:8080/"
        },
        "id": "y6-NYSo2H1rf",
        "outputId": "e100311a-4cb4-45e4-aa62-19aa1e1d556f"
      },
      "outputs": [
        {
          "output_type": "stream",
          "name": "stdout",
          "text": [
            "Mounted at /content/drive\n"
          ]
        }
      ],
      "source": [
        "drive.mount(\"/content/drive\")"
      ]
    },
    {
      "cell_type": "code",
      "execution_count": 3,
      "id": "6de2c8bc",
      "metadata": {
        "id": "6de2c8bc"
      },
      "outputs": [],
      "source": [
        "import ast\n",
        "import json\n",
        "import logging\n",
        "import os\n",
        "import pickle\n",
        "import time\n",
        "import warnings\n",
        "from collections import Counter\n",
        "from logging import getLogger\n",
        "from pathlib import Path\n",
        "from random import randint, random\n",
        "\n",
        "import matplotlib.pyplot as plt\n",
        "import numpy as np\n",
        "import pandas as pd\n",
        "import torch\n",
        "from google.colab import drive\n",
        "from recbole.config import Config\n",
        "from recbole.data import create_dataset, data_preparation\n",
        "from recbole.data.interaction import Interaction\n",
        "from recbole.model.sequential_recommender import Caser, GRU4Rec\n",
        "from recbole.quick_start import run_recbole\n",
        "from recbole.trainer import Trainer\n",
        "from recbole.utils import init_logger, init_seed\n",
        "from scipy.sparse import coo_matrix, hstack\n",
        "from sklearn.metrics.pairwise import (\n",
        "    cosine_distances,\n",
        "    cosine_similarity,\n",
        "    euclidean_distances,\n",
        ")"
      ]
    },
    {
      "cell_type": "code",
      "execution_count": 4,
      "id": "c54b3e92",
      "metadata": {
        "id": "c54b3e92"
      },
      "outputs": [],
      "source": [
        "warnings.filterwarnings(\"ignore\")"
      ]
    },
    {
      "cell_type": "markdown",
      "id": "5sMKNxVljuGs",
      "metadata": {
        "id": "5sMKNxVljuGs"
      },
      "source": [
        "# Load data"
      ]
    },
    {
      "cell_type": "code",
      "execution_count": 6,
      "id": "9052ce21",
      "metadata": {
        "id": "9052ce21"
      },
      "outputs": [],
      "source": [
        "interactions_df = pd.read_csv('/content/drive/MyDrive/data_original/interactions_processed_kion.csv')\n",
        "users_df = pd.read_csv('/content/drive/MyDrive/data_original/users_processed_kion.csv')\n",
        "items_df = pd.read_csv('/content/drive/MyDrive/data_original/items_processed_kion.csv')"
      ]
    },
    {
      "cell_type": "code",
      "execution_count": 7,
      "id": "0b371b15",
      "metadata": {
        "id": "0b371b15"
      },
      "outputs": [],
      "source": [
        "interactions_df[\"t_dat\"] = pd.to_datetime(interactions_df[\"last_watch_dt\"], format=\"%Y-%m-%d\")\n",
        "interactions_df[\"timestamp\"] = interactions_df.t_dat.values.astype(np.int64) // 10**9"
      ]
    },
    {
      "cell_type": "code",
      "execution_count": 8,
      "id": "7f075c88",
      "metadata": {
        "id": "7f075c88"
      },
      "outputs": [],
      "source": [
        "df = interactions_df[[\"user_id\", \"item_id\", \"timestamp\"]].rename(\n",
        "    columns={\"user_id\": \"user_id:token\", \"item_id\": \"item_id:token\", \"timestamp\": \"timestamp:float\"}\n",
        ")"
      ]
    },
    {
      "cell_type": "code",
      "execution_count": 9,
      "id": "aab347ea",
      "metadata": {
        "id": "aab347ea"
      },
      "outputs": [],
      "source": [
        "!mkdir recbox_data"
      ]
    },
    {
      "cell_type": "code",
      "execution_count": 10,
      "id": "dff1fa1b",
      "metadata": {
        "id": "dff1fa1b"
      },
      "outputs": [],
      "source": [
        "df.to_csv(\"recbox_data/recbox_data.inter\", index=False, sep=\"\\t\")"
      ]
    },
    {
      "cell_type": "markdown",
      "id": "QII-AFy9j6Ea",
      "metadata": {
        "id": "QII-AFy9j6Ea"
      },
      "source": [
        "# Обучение моделей"
      ]
    },
    {
      "cell_type": "code",
      "execution_count": 11,
      "id": "a4b97bdc",
      "metadata": {
        "colab": {
          "base_uri": "https://localhost:8080/"
        },
        "id": "a4b97bdc",
        "outputId": "26853721-86eb-4514-ecb1-16232c3ae440"
      },
      "outputs": [
        {
          "output_type": "stream",
          "name": "stderr",
          "text": [
            "WARNING:root:command line args [-f /root/.local/share/jupyter/runtime/kernel-448bdf4a-8481-485c-b525-87157a440bc9.json] will not be used in RecBole\n"
          ]
        }
      ],
      "source": [
        "parameter_dict = {\n",
        "    \"data_path\": \"\",\n",
        "    \"USER_ID_FIELD\": \"user_id\",\n",
        "    \"ITEM_ID_FIELD\": \"item_id\",\n",
        "    \"TIME_FIELD\": \"timestamp\",\n",
        "    \"device\": \"GPU\",\n",
        "    \"user_inter_num_interval\": \"[40,inf)\",\n",
        "    \"item_inter_num_interval\": \"[40,inf)\",\n",
        "    \"load_col\": {\"inter\": [\"user_id\", \"item_id\", \"timestamp\"]},\n",
        "    \"neg_sampling\": None,\n",
        "    \"epochs\": 10,\n",
        "    \"eval_args\": {\"split\": {\"RS\": [9, 0, 1]}, \"group_by\": \"user\", \"order\": \"TO\", \"mode\": \"full\"},\n",
        "}\n",
        "config = Config(model=\"MultiVAE\", dataset=\"recbox_data\", config_dict=parameter_dict)\n",
        "\n",
        "# init random seed\n",
        "init_seed(config[\"seed\"], config[\"reproducibility\"])\n",
        "\n",
        "# logger initialization\n",
        "init_logger(config)\n",
        "logger = getLogger()\n",
        "# Create handlers\n",
        "c_handler = logging.StreamHandler()\n",
        "c_handler.setLevel(logging.INFO)\n",
        "logger.addHandler(c_handler)\n",
        "\n",
        "# write config info into log\n",
        "# logger.info(config)"
      ]
    },
    {
      "cell_type": "code",
      "execution_count": 12,
      "id": "d6d18eea",
      "metadata": {
        "id": "d6d18eea"
      },
      "outputs": [],
      "source": [
        "dataset = create_dataset(config)\n",
        "logger.info(dataset)"
      ]
    },
    {
      "cell_type": "code",
      "execution_count": 13,
      "id": "66706c2e",
      "metadata": {
        "id": "66706c2e"
      },
      "outputs": [],
      "source": [
        "# dataset splitting\n",
        "train_data, valid_data, test_data = data_preparation(config, dataset)"
      ]
    },
    {
      "cell_type": "markdown",
      "id": "x9Q47VvIkKZ6",
      "metadata": {
        "id": "x9Q47VvIkKZ6"
      },
      "source": [
        "## Выбор архитектуры"
      ]
    },
    {
      "cell_type": "code",
      "execution_count": 14,
      "id": "5f5ae775",
      "metadata": {
        "colab": {
          "base_uri": "https://localhost:8080/"
        },
        "id": "5f5ae775",
        "outputId": "eff13fa6-acba-4080-bbb3-a1647d364ec4",
        "scrolled": true
      },
      "outputs": [
        {
          "output_type": "stream",
          "name": "stdout",
          "text": [
            "running MultiVAE...\n"
          ]
        },
        {
          "output_type": "stream",
          "name": "stderr",
          "text": [
            "WARNING:root:command line args [-f /root/.local/share/jupyter/runtime/kernel-448bdf4a-8481-485c-b525-87157a440bc9.json] will not be used in RecBole\n",
            "command line args [-f /root/.local/share/jupyter/runtime/kernel-448bdf4a-8481-485c-b525-87157a440bc9.json] will not be used in RecBole\n",
            "WARNING:root:Max value of user's history interaction records has reached 20.9471766848816% of the total.\n",
            "Max value of user's history interaction records has reached 20.9471766848816% of the total.\n",
            "Train     0: 100%|███████████████████████████| 7/7 [00:00<00:00, 12.79it/s, GPU RAM: 0.38 G/14.75 G]\n",
            "Train     1: 100%|███████████████████████████| 7/7 [00:00<00:00, 14.85it/s, GPU RAM: 0.38 G/14.75 G]\n",
            "Train     2: 100%|███████████████████████████| 7/7 [00:00<00:00, 14.05it/s, GPU RAM: 0.38 G/14.75 G]\n",
            "Train     3: 100%|███████████████████████████| 7/7 [00:00<00:00, 15.07it/s, GPU RAM: 0.38 G/14.75 G]\n",
            "Train     4: 100%|███████████████████████████| 7/7 [00:00<00:00, 15.53it/s, GPU RAM: 0.38 G/14.75 G]\n",
            "Train     5: 100%|███████████████████████████| 7/7 [00:00<00:00, 15.14it/s, GPU RAM: 0.38 G/14.75 G]\n",
            "Train     6: 100%|███████████████████████████| 7/7 [00:00<00:00, 14.06it/s, GPU RAM: 0.38 G/14.75 G]\n",
            "Train     7: 100%|███████████████████████████| 7/7 [00:00<00:00, 15.58it/s, GPU RAM: 0.38 G/14.75 G]\n",
            "Train     8: 100%|███████████████████████████| 7/7 [00:00<00:00, 16.34it/s, GPU RAM: 0.38 G/14.75 G]\n",
            "Train     9: 100%|███████████████████████████| 7/7 [00:00<00:00, 18.57it/s, GPU RAM: 0.38 G/14.75 G]\n",
            "Evaluate   : 100%|███████████████████| 13354/13354 [02:14<00:00, 99.07it/s, GPU RAM: 0.38 G/14.75 G]\n"
          ]
        },
        {
          "output_type": "stream",
          "name": "stdout",
          "text": [
            "It took 3.33 mins\n",
            "{'best_valid_score': -inf, 'valid_score_bigger': True, 'best_valid_result': None, 'test_result': OrderedDict([('recall@10', 0.0834), ('mrr@10', 0.1671), ('ndcg@10', 0.0816), ('hit@10', 0.3466), ('precision@10', 0.0462)])}\n",
            "running MultiDAE...\n"
          ]
        },
        {
          "output_type": "stream",
          "name": "stderr",
          "text": [
            "WARNING:root:command line args [-f /root/.local/share/jupyter/runtime/kernel-448bdf4a-8481-485c-b525-87157a440bc9.json] will not be used in RecBole\n",
            "command line args [-f /root/.local/share/jupyter/runtime/kernel-448bdf4a-8481-485c-b525-87157a440bc9.json] will not be used in RecBole\n",
            "WARNING:root:Max value of user's history interaction records has reached 20.9471766848816% of the total.\n",
            "Max value of user's history interaction records has reached 20.9471766848816% of the total.\n",
            "Train     0: 100%|███████████████████████████| 7/7 [00:00<00:00,  8.75it/s, GPU RAM: 0.38 G/14.75 G]\n",
            "Train     1: 100%|███████████████████████████| 7/7 [00:00<00:00, 15.04it/s, GPU RAM: 0.38 G/14.75 G]\n",
            "Train     2: 100%|███████████████████████████| 7/7 [00:00<00:00, 12.46it/s, GPU RAM: 0.38 G/14.75 G]\n",
            "Train     3: 100%|███████████████████████████| 7/7 [00:00<00:00,  7.12it/s, GPU RAM: 0.38 G/14.75 G]\n",
            "Train     4: 100%|███████████████████████████| 7/7 [00:00<00:00,  7.06it/s, GPU RAM: 0.38 G/14.75 G]\n",
            "Train     5: 100%|███████████████████████████| 7/7 [00:00<00:00, 12.36it/s, GPU RAM: 0.38 G/14.75 G]\n",
            "Train     6: 100%|███████████████████████████| 7/7 [00:00<00:00,  8.09it/s, GPU RAM: 0.38 G/14.75 G]\n",
            "Train     7: 100%|███████████████████████████| 7/7 [00:00<00:00, 13.10it/s, GPU RAM: 0.38 G/14.75 G]\n",
            "Train     8: 100%|███████████████████████████| 7/7 [00:04<00:00,  1.51it/s, GPU RAM: 0.38 G/14.75 G]\n",
            "Train     9: 100%|███████████████████████████| 7/7 [00:00<00:00, 10.27it/s, GPU RAM: 0.38 G/14.75 G]\n",
            "Evaluate   : 100%|███████████████████| 13354/13354 [02:33<00:00, 87.10it/s, GPU RAM: 0.38 G/14.75 G]\n"
          ]
        },
        {
          "output_type": "stream",
          "name": "stdout",
          "text": [
            "It took 4.46 mins\n",
            "{'best_valid_score': -inf, 'valid_score_bigger': True, 'best_valid_result': None, 'test_result': OrderedDict([('recall@10', 0.0837), ('mrr@10', 0.1657), ('ndcg@10', 0.0814), ('hit@10', 0.3466), ('precision@10', 0.0463)])}\n",
            "running MacridVAE...\n"
          ]
        },
        {
          "output_type": "stream",
          "name": "stderr",
          "text": [
            "WARNING:root:command line args [-f /root/.local/share/jupyter/runtime/kernel-448bdf4a-8481-485c-b525-87157a440bc9.json] will not be used in RecBole\n",
            "command line args [-f /root/.local/share/jupyter/runtime/kernel-448bdf4a-8481-485c-b525-87157a440bc9.json] will not be used in RecBole\n",
            "WARNING:root:Max value of user's history interaction records has reached 20.9471766848816% of the total.\n",
            "Max value of user's history interaction records has reached 20.9471766848816% of the total.\n",
            "Train     0: 100%|███████████████████████████| 7/7 [00:07<00:00,  1.08s/it, GPU RAM: 0.95 G/14.75 G]\n",
            "Train     1: 100%|███████████████████████████| 7/7 [00:24<00:00,  3.45s/it, GPU RAM: 0.95 G/14.75 G]\n",
            "Train     2: 100%|███████████████████████████| 7/7 [00:05<00:00,  1.21it/s, GPU RAM: 0.95 G/14.75 G]\n",
            "Train     3: 100%|███████████████████████████| 7/7 [00:01<00:00,  3.67it/s, GPU RAM: 0.95 G/14.75 G]\n",
            "Train     4: 100%|███████████████████████████| 7/7 [00:01<00:00,  3.66it/s, GPU RAM: 0.95 G/14.75 G]\n",
            "Train     5: 100%|███████████████████████████| 7/7 [00:01<00:00,  3.63it/s, GPU RAM: 0.95 G/14.75 G]\n",
            "Train     6: 100%|███████████████████████████| 7/7 [00:01<00:00,  3.68it/s, GPU RAM: 0.95 G/14.75 G]\n",
            "Train     7: 100%|███████████████████████████| 7/7 [00:02<00:00,  3.24it/s, GPU RAM: 0.95 G/14.75 G]\n",
            "Train     8: 100%|███████████████████████████| 7/7 [00:02<00:00,  2.52it/s, GPU RAM: 0.95 G/14.75 G]\n",
            "Train     9: 100%|███████████████████████████| 7/7 [00:02<00:00,  2.67it/s, GPU RAM: 0.95 G/14.75 G]\n",
            "Evaluate   : 100%|███████████████████| 13354/13354 [06:27<00:00, 34.44it/s, GPU RAM: 0.95 G/14.75 G]\n"
          ]
        },
        {
          "output_type": "stream",
          "name": "stdout",
          "text": [
            "It took 9.06 mins\n",
            "{'best_valid_score': -inf, 'valid_score_bigger': True, 'best_valid_result': None, 'test_result': OrderedDict([('recall@10', 0.0827), ('mrr@10', 0.1548), ('ndcg@10', 0.0775), ('hit@10', 0.3469), ('precision@10', 0.0455)])}\n",
            "running NeuMF...\n"
          ]
        },
        {
          "output_type": "stream",
          "name": "stderr",
          "text": [
            "WARNING:root:command line args [-f /root/.local/share/jupyter/runtime/kernel-448bdf4a-8481-485c-b525-87157a440bc9.json] will not be used in RecBole\n",
            "command line args [-f /root/.local/share/jupyter/runtime/kernel-448bdf4a-8481-485c-b525-87157a440bc9.json] will not be used in RecBole\n",
            "Train     0: 100%|███████████████████████| 755/755 [00:36<00:00, 20.50it/s, GPU RAM: 0.95 G/14.75 G]\n",
            "Train     1: 100%|███████████████████████| 755/755 [00:36<00:00, 20.84it/s, GPU RAM: 0.95 G/14.75 G]\n",
            "Train     2: 100%|███████████████████████| 755/755 [00:37<00:00, 20.37it/s, GPU RAM: 0.95 G/14.75 G]\n",
            "Train     3: 100%|███████████████████████| 755/755 [00:37<00:00, 20.20it/s, GPU RAM: 0.95 G/14.75 G]\n",
            "Train     4: 100%|███████████████████████| 755/755 [00:36<00:00, 20.65it/s, GPU RAM: 0.95 G/14.75 G]\n",
            "Train     5: 100%|███████████████████████| 755/755 [00:36<00:00, 20.89it/s, GPU RAM: 0.95 G/14.75 G]\n",
            "Train     6: 100%|███████████████████████| 755/755 [00:36<00:00, 20.82it/s, GPU RAM: 0.95 G/14.75 G]\n",
            "Train     7: 100%|███████████████████████| 755/755 [00:35<00:00, 21.05it/s, GPU RAM: 0.95 G/14.75 G]\n",
            "Train     8: 100%|███████████████████████| 755/755 [00:36<00:00, 20.74it/s, GPU RAM: 0.95 G/14.75 G]\n",
            "Train     9: 100%|███████████████████████| 755/755 [00:36<00:00, 20.50it/s, GPU RAM: 0.95 G/14.75 G]\n",
            "Evaluate   : 100%|███████████████████| 13354/13354 [03:44<00:00, 59.57it/s, GPU RAM: 0.95 G/14.75 G]\n"
          ]
        },
        {
          "output_type": "stream",
          "name": "stdout",
          "text": [
            "It took 10.59 mins\n",
            "{'best_valid_score': -inf, 'valid_score_bigger': True, 'best_valid_result': None, 'test_result': OrderedDict([('recall@10', 0.0687), ('mrr@10', 0.1181), ('ndcg@10', 0.0607), ('hit@10', 0.3008), ('precision@10', 0.038)])}\n",
            "CPU times: user 23min 27s, sys: 1min 31s, total: 24min 58s\n",
            "Wall time: 27min 27s\n"
          ]
        }
      ],
      "source": [
        "%%time\n",
        "model_list = [\"MultiVAE\", \"MultiDAE\", \"MacridVAE\", \"NeuMF\"]\n",
        "\n",
        "for model_name in model_list:\n",
        "    print(f\"running {model_name}...\")\n",
        "    start = time.time()\n",
        "    result = run_recbole(model=model_name, dataset=\"recbox_data\", config_dict=parameter_dict)\n",
        "    t = time.time() - start\n",
        "    print(f\"It took {t/60:.2f} mins\")\n",
        "    print(result)"
      ]
    },
    {
      "cell_type": "markdown",
      "id": "d3H19uvGkOqS",
      "metadata": {
        "id": "d3H19uvGkOqS"
      },
      "source": [
        "# Получение предсказаний для оффлайн инференса"
      ]
    },
    {
      "cell_type": "markdown",
      "id": "du1VJoOrjIb8",
      "metadata": {
        "id": "du1VJoOrjIb8"
      },
      "source": [
        "Лучшей моделью по метрикам и скорости оказалась `MultiVAE`."
      ]
    },
    {
      "cell_type": "code",
      "source": [
        "from recbole.model.general_recommender.multivae import MultiVAE"
      ],
      "metadata": {
        "id": "Ro45hcGMCdH4"
      },
      "id": "Ro45hcGMCdH4",
      "execution_count": 18,
      "outputs": []
    },
    {
      "cell_type": "code",
      "execution_count": 20,
      "id": "02f721d5",
      "metadata": {
        "colab": {
          "base_uri": "https://localhost:8080/"
        },
        "id": "02f721d5",
        "outputId": "c1da352e-99ed-4558-fe45-f91821d4ebb1"
      },
      "outputs": [
        {
          "output_type": "stream",
          "name": "stderr",
          "text": [
            "WARNING:root:command line args [-f /root/.local/share/jupyter/runtime/kernel-448bdf4a-8481-485c-b525-87157a440bc9.json] will not be used in RecBole\n",
            "command line args [-f /root/.local/share/jupyter/runtime/kernel-448bdf4a-8481-485c-b525-87157a440bc9.json] will not be used in RecBole\n",
            "WARNING:root:Max value of user's history interaction records has reached 20.9471766848816% of the total.\n",
            "Max value of user's history interaction records has reached 20.9471766848816% of the total.\n",
            "Train     0: 100%|███████████████████████████| 7/7 [00:00<00:00, 12.64it/s, GPU RAM: 1.25 G/14.75 G]\n",
            "Train     1: 100%|███████████████████████████| 7/7 [00:00<00:00, 14.43it/s, GPU RAM: 1.25 G/14.75 G]\n",
            "Train     2: 100%|███████████████████████████| 7/7 [00:00<00:00, 14.02it/s, GPU RAM: 1.25 G/14.75 G]\n",
            "Train     3: 100%|███████████████████████████| 7/7 [00:00<00:00, 13.39it/s, GPU RAM: 1.25 G/14.75 G]\n",
            "Train     4: 100%|███████████████████████████| 7/7 [00:00<00:00, 13.64it/s, GPU RAM: 1.25 G/14.75 G]\n",
            "Train     5: 100%|███████████████████████████| 7/7 [00:00<00:00, 14.39it/s, GPU RAM: 1.25 G/14.75 G]\n",
            "Train     6: 100%|███████████████████████████| 7/7 [00:00<00:00, 14.52it/s, GPU RAM: 1.25 G/14.75 G]\n",
            "Train     7: 100%|███████████████████████████| 7/7 [00:00<00:00, 13.94it/s, GPU RAM: 1.25 G/14.75 G]\n",
            "Train     8: 100%|███████████████████████████| 7/7 [00:00<00:00, 14.09it/s, GPU RAM: 1.25 G/14.75 G]\n",
            "Train     9: 100%|███████████████████████████| 7/7 [00:00<00:00, 13.87it/s, GPU RAM: 1.25 G/14.75 G]\n",
            "Evaluate   : 100%|███████████████████| 13354/13354 [05:35<00:00, 39.82it/s, GPU RAM: 1.25 G/14.75 G]\n"
          ]
        }
      ],
      "source": [
        "result = run_recbole(model=\"MultiVAE\", dataset=\"recbox_data\", config_dict=parameter_dict)"
      ]
    },
    {
      "cell_type": "code",
      "execution_count": 16,
      "id": "D8UDPOWjkVIq",
      "metadata": {
        "colab": {
          "base_uri": "https://localhost:8080/"
        },
        "id": "D8UDPOWjkVIq",
        "outputId": "dbe6b773-53ce-4d49-ca1d-8745c4e69a22",
        "scrolled": true
      },
      "outputs": [
        {
          "output_type": "execute_result",
          "data": {
            "text/plain": [
              "{'best_valid_score': -inf,\n",
              " 'valid_score_bigger': True,\n",
              " 'best_valid_result': None,\n",
              " 'test_result': OrderedDict([('recall@10', 0.0837),\n",
              "              ('mrr@10', 0.1657),\n",
              "              ('ndcg@10', 0.0814),\n",
              "              ('hit@10', 0.3466),\n",
              "              ('precision@10', 0.0463)])}"
            ]
          },
          "metadata": {},
          "execution_count": 16
        }
      ],
      "source": [
        "result"
      ]
    },
    {
      "cell_type": "code",
      "execution_count": 19,
      "id": "GRtv4mOKo3BD",
      "metadata": {
        "colab": {
          "base_uri": "https://localhost:8080/"
        },
        "id": "GRtv4mOKo3BD",
        "outputId": "af27cc21-e747-4155-c583-32c99c7b74c8"
      },
      "outputs": [
        {
          "output_type": "stream",
          "name": "stderr",
          "text": [
            "WARNING:root:Max value of user's history interaction records has reached 23.254401942926535% of the total.\n",
            "Max value of user's history interaction records has reached 23.254401942926535% of the total.\n"
          ]
        },
        {
          "output_type": "execute_result",
          "data": {
            "text/plain": [
              "<All keys matched successfully>"
            ]
          },
          "metadata": {},
          "execution_count": 19
        }
      ],
      "source": [
        "model = MultiVAE(config, dataset=dataset)\n",
        "checkpoint = torch.load(\"/content/saved/MultiVAE-Dec-13-2023_06-39-39.pth\")\n",
        "model.load_state_dict(checkpoint[\"state_dict\"])"
      ]
    },
    {
      "cell_type": "code",
      "source": [
        "model.to(config[\"device\"])"
      ],
      "metadata": {
        "colab": {
          "base_uri": "https://localhost:8080/"
        },
        "id": "gGRu13nxEn9P",
        "outputId": "ebb07327-f9a0-47ff-a439-cb6c904a5d2e"
      },
      "id": "gGRu13nxEn9P",
      "execution_count": 23,
      "outputs": [
        {
          "output_type": "execute_result",
          "data": {
            "text/plain": [
              "MultiVAE(\n",
              "  (encoder): Sequential(\n",
              "    (0): Linear(in_features=3294, out_features=600, bias=True)\n",
              "    (1): Tanh()\n",
              "    (2): Linear(in_features=600, out_features=128, bias=True)\n",
              "  )\n",
              "  (decoder): Sequential(\n",
              "    (0): Linear(in_features=64, out_features=600, bias=True)\n",
              "    (1): Tanh()\n",
              "    (2): Linear(in_features=600, out_features=3294, bias=True)\n",
              "  )\n",
              ")"
            ]
          },
          "metadata": {},
          "execution_count": 23
        }
      ]
    },
    {
      "cell_type": "code",
      "execution_count": 24,
      "id": "w3LfAKjBqavv",
      "metadata": {
        "id": "w3LfAKjBqavv"
      },
      "outputs": [],
      "source": [
        "def recommend_item(external_user_id, dataset, model):\n",
        "    if (\n",
        "        external_user_id in dataset.field2token_id[dataset.uid_field]\n",
        "        and external_user_id != \"[PAD]\"\n",
        "    ):\n",
        "        model.eval()\n",
        "        with torch.no_grad():\n",
        "            uid_series = dataset.token2id(dataset.uid_field, [external_user_id])\n",
        "            index = np.isin(dataset[dataset.uid_field].numpy(), uid_series)\n",
        "            new_inter = dataset[index]\n",
        "            new_inter = new_inter.to(config[\"device\"])\n",
        "            new_scores = model.full_sort_predict(new_inter)\n",
        "            new_scores = new_scores.view(-1, test_data.dataset.item_num)\n",
        "            new_scores[:, 0] = -np.inf\n",
        "            recommended_item_indices = torch.topk(new_scores, 10).indices[0].tolist()\n",
        "            recos = dataset.id2token(dataset.iid_field, [recommended_item_indices]).tolist()\n",
        "        return recos\n",
        "    return []"
      ]
    },
    {
      "cell_type": "code",
      "source": [
        "from tqdm.notebook import tqdm"
      ],
      "metadata": {
        "id": "19riC2WfFiSf"
      },
      "id": "19riC2WfFiSf",
      "execution_count": 26,
      "outputs": []
    },
    {
      "cell_type": "code",
      "execution_count": 27,
      "id": "nZLGysaspRau",
      "metadata": {
        "id": "nZLGysaspRau",
        "colab": {
          "base_uri": "https://localhost:8080/",
          "height": 49,
          "referenced_widgets": [
            "0fe6b55eee5344268012d4ca3d2df559",
            "e84e4333c5e945d0a1bb92988d981127",
            "1eafaa7de7e2443184ada56c2c681fac",
            "72a727e0778c4c6b9af622d1525c7e60",
            "9e3878969f7446bd8b68f61bc6087a48",
            "e412a9c040404384b1308f62c89ce8fd",
            "52b831b2dc924f01a08dac1a7dd48769",
            "95449010c7634daa95029ad111754260",
            "f048b3cdd34545de8750411425e974bc",
            "c20a393d76db4813982608d5f3d80e33",
            "558513f94f32438ea6b8e03a2851e7f3"
          ]
        },
        "outputId": "4d929f55-f277-4975-98a3-8f387f26d3ae"
      },
      "outputs": [
        {
          "output_type": "display_data",
          "data": {
            "text/plain": [
              "  0%|          | 0/13355 [00:00<?, ?it/s]"
            ],
            "application/vnd.jupyter.widget-view+json": {
              "version_major": 2,
              "version_minor": 0,
              "model_id": "0fe6b55eee5344268012d4ca3d2df559"
            }
          },
          "metadata": {}
        }
      ],
      "source": [
        "recos = {}\n",
        "users = dataset.field2token_id[dataset.uid_field]\n",
        "for user_id in tqdm(users):\n",
        "    recos_for_user = recommend_item(user_id, dataset, model)\n",
        "    if recos_for_user:\n",
        "        recos[user_id] = recos_for_user[0]"
      ]
    },
    {
      "cell_type": "code",
      "execution_count": 29,
      "id": "F5KRkUQYxqyU",
      "metadata": {
        "id": "F5KRkUQYxqyU"
      },
      "outputs": [],
      "source": [
        "with open(\"/content/drive/MyDrive/recbone.json\", \"w\") as f:\n",
        "    json.dump(recos, f)"
      ]
    },
    {
      "cell_type": "code",
      "source": [],
      "metadata": {
        "id": "Yu-wyc-9j3CU"
      },
      "id": "Yu-wyc-9j3CU",
      "execution_count": null,
      "outputs": []
    }
  ],
  "metadata": {
    "colab": {
      "collapsed_sections": [
        "x9Q47VvIkKZ6"
      ],
      "provenance": [],
      "gpuType": "T4"
    },
    "kernelspec": {
      "display_name": "Python 3",
      "name": "python3"
    },
    "language_info": {
      "codemirror_mode": {
        "name": "ipython",
        "version": 3
      },
      "file_extension": ".py",
      "mimetype": "text/x-python",
      "name": "python",
      "nbconvert_exporter": "python",
      "pygments_lexer": "ipython3",
      "version": "3.10.12"
    },
    "papermill": {
      "default_parameters": {},
      "duration": 27491.154881,
      "end_time": "2022-11-28T00:11:27.624787",
      "environment_variables": {},
      "exception": null,
      "input_path": "__notebook__.ipynb",
      "output_path": "__notebook__.ipynb",
      "parameters": {},
      "start_time": "2022-11-27T16:33:16.469906",
      "version": "2.3.4"
    },
    "accelerator": "GPU",
    "widgets": {
      "application/vnd.jupyter.widget-state+json": {
        "0fe6b55eee5344268012d4ca3d2df559": {
          "model_module": "@jupyter-widgets/controls",
          "model_name": "HBoxModel",
          "model_module_version": "1.5.0",
          "state": {
            "_dom_classes": [],
            "_model_module": "@jupyter-widgets/controls",
            "_model_module_version": "1.5.0",
            "_model_name": "HBoxModel",
            "_view_count": null,
            "_view_module": "@jupyter-widgets/controls",
            "_view_module_version": "1.5.0",
            "_view_name": "HBoxView",
            "box_style": "",
            "children": [
              "IPY_MODEL_e84e4333c5e945d0a1bb92988d981127",
              "IPY_MODEL_1eafaa7de7e2443184ada56c2c681fac",
              "IPY_MODEL_72a727e0778c4c6b9af622d1525c7e60"
            ],
            "layout": "IPY_MODEL_9e3878969f7446bd8b68f61bc6087a48"
          }
        },
        "e84e4333c5e945d0a1bb92988d981127": {
          "model_module": "@jupyter-widgets/controls",
          "model_name": "HTMLModel",
          "model_module_version": "1.5.0",
          "state": {
            "_dom_classes": [],
            "_model_module": "@jupyter-widgets/controls",
            "_model_module_version": "1.5.0",
            "_model_name": "HTMLModel",
            "_view_count": null,
            "_view_module": "@jupyter-widgets/controls",
            "_view_module_version": "1.5.0",
            "_view_name": "HTMLView",
            "description": "",
            "description_tooltip": null,
            "layout": "IPY_MODEL_e412a9c040404384b1308f62c89ce8fd",
            "placeholder": "​",
            "style": "IPY_MODEL_52b831b2dc924f01a08dac1a7dd48769",
            "value": "100%"
          }
        },
        "1eafaa7de7e2443184ada56c2c681fac": {
          "model_module": "@jupyter-widgets/controls",
          "model_name": "FloatProgressModel",
          "model_module_version": "1.5.0",
          "state": {
            "_dom_classes": [],
            "_model_module": "@jupyter-widgets/controls",
            "_model_module_version": "1.5.0",
            "_model_name": "FloatProgressModel",
            "_view_count": null,
            "_view_module": "@jupyter-widgets/controls",
            "_view_module_version": "1.5.0",
            "_view_name": "ProgressView",
            "bar_style": "success",
            "description": "",
            "description_tooltip": null,
            "layout": "IPY_MODEL_95449010c7634daa95029ad111754260",
            "max": 13355,
            "min": 0,
            "orientation": "horizontal",
            "style": "IPY_MODEL_f048b3cdd34545de8750411425e974bc",
            "value": 13355
          }
        },
        "72a727e0778c4c6b9af622d1525c7e60": {
          "model_module": "@jupyter-widgets/controls",
          "model_name": "HTMLModel",
          "model_module_version": "1.5.0",
          "state": {
            "_dom_classes": [],
            "_model_module": "@jupyter-widgets/controls",
            "_model_module_version": "1.5.0",
            "_model_name": "HTMLModel",
            "_view_count": null,
            "_view_module": "@jupyter-widgets/controls",
            "_view_module_version": "1.5.0",
            "_view_name": "HTMLView",
            "description": "",
            "description_tooltip": null,
            "layout": "IPY_MODEL_c20a393d76db4813982608d5f3d80e33",
            "placeholder": "​",
            "style": "IPY_MODEL_558513f94f32438ea6b8e03a2851e7f3",
            "value": " 13355/13355 [2:11:21&lt;00:00,  2.12it/s]"
          }
        },
        "9e3878969f7446bd8b68f61bc6087a48": {
          "model_module": "@jupyter-widgets/base",
          "model_name": "LayoutModel",
          "model_module_version": "1.2.0",
          "state": {
            "_model_module": "@jupyter-widgets/base",
            "_model_module_version": "1.2.0",
            "_model_name": "LayoutModel",
            "_view_count": null,
            "_view_module": "@jupyter-widgets/base",
            "_view_module_version": "1.2.0",
            "_view_name": "LayoutView",
            "align_content": null,
            "align_items": null,
            "align_self": null,
            "border": null,
            "bottom": null,
            "display": null,
            "flex": null,
            "flex_flow": null,
            "grid_area": null,
            "grid_auto_columns": null,
            "grid_auto_flow": null,
            "grid_auto_rows": null,
            "grid_column": null,
            "grid_gap": null,
            "grid_row": null,
            "grid_template_areas": null,
            "grid_template_columns": null,
            "grid_template_rows": null,
            "height": null,
            "justify_content": null,
            "justify_items": null,
            "left": null,
            "margin": null,
            "max_height": null,
            "max_width": null,
            "min_height": null,
            "min_width": null,
            "object_fit": null,
            "object_position": null,
            "order": null,
            "overflow": null,
            "overflow_x": null,
            "overflow_y": null,
            "padding": null,
            "right": null,
            "top": null,
            "visibility": null,
            "width": null
          }
        },
        "e412a9c040404384b1308f62c89ce8fd": {
          "model_module": "@jupyter-widgets/base",
          "model_name": "LayoutModel",
          "model_module_version": "1.2.0",
          "state": {
            "_model_module": "@jupyter-widgets/base",
            "_model_module_version": "1.2.0",
            "_model_name": "LayoutModel",
            "_view_count": null,
            "_view_module": "@jupyter-widgets/base",
            "_view_module_version": "1.2.0",
            "_view_name": "LayoutView",
            "align_content": null,
            "align_items": null,
            "align_self": null,
            "border": null,
            "bottom": null,
            "display": null,
            "flex": null,
            "flex_flow": null,
            "grid_area": null,
            "grid_auto_columns": null,
            "grid_auto_flow": null,
            "grid_auto_rows": null,
            "grid_column": null,
            "grid_gap": null,
            "grid_row": null,
            "grid_template_areas": null,
            "grid_template_columns": null,
            "grid_template_rows": null,
            "height": null,
            "justify_content": null,
            "justify_items": null,
            "left": null,
            "margin": null,
            "max_height": null,
            "max_width": null,
            "min_height": null,
            "min_width": null,
            "object_fit": null,
            "object_position": null,
            "order": null,
            "overflow": null,
            "overflow_x": null,
            "overflow_y": null,
            "padding": null,
            "right": null,
            "top": null,
            "visibility": null,
            "width": null
          }
        },
        "52b831b2dc924f01a08dac1a7dd48769": {
          "model_module": "@jupyter-widgets/controls",
          "model_name": "DescriptionStyleModel",
          "model_module_version": "1.5.0",
          "state": {
            "_model_module": "@jupyter-widgets/controls",
            "_model_module_version": "1.5.0",
            "_model_name": "DescriptionStyleModel",
            "_view_count": null,
            "_view_module": "@jupyter-widgets/base",
            "_view_module_version": "1.2.0",
            "_view_name": "StyleView",
            "description_width": ""
          }
        },
        "95449010c7634daa95029ad111754260": {
          "model_module": "@jupyter-widgets/base",
          "model_name": "LayoutModel",
          "model_module_version": "1.2.0",
          "state": {
            "_model_module": "@jupyter-widgets/base",
            "_model_module_version": "1.2.0",
            "_model_name": "LayoutModel",
            "_view_count": null,
            "_view_module": "@jupyter-widgets/base",
            "_view_module_version": "1.2.0",
            "_view_name": "LayoutView",
            "align_content": null,
            "align_items": null,
            "align_self": null,
            "border": null,
            "bottom": null,
            "display": null,
            "flex": null,
            "flex_flow": null,
            "grid_area": null,
            "grid_auto_columns": null,
            "grid_auto_flow": null,
            "grid_auto_rows": null,
            "grid_column": null,
            "grid_gap": null,
            "grid_row": null,
            "grid_template_areas": null,
            "grid_template_columns": null,
            "grid_template_rows": null,
            "height": null,
            "justify_content": null,
            "justify_items": null,
            "left": null,
            "margin": null,
            "max_height": null,
            "max_width": null,
            "min_height": null,
            "min_width": null,
            "object_fit": null,
            "object_position": null,
            "order": null,
            "overflow": null,
            "overflow_x": null,
            "overflow_y": null,
            "padding": null,
            "right": null,
            "top": null,
            "visibility": null,
            "width": null
          }
        },
        "f048b3cdd34545de8750411425e974bc": {
          "model_module": "@jupyter-widgets/controls",
          "model_name": "ProgressStyleModel",
          "model_module_version": "1.5.0",
          "state": {
            "_model_module": "@jupyter-widgets/controls",
            "_model_module_version": "1.5.0",
            "_model_name": "ProgressStyleModel",
            "_view_count": null,
            "_view_module": "@jupyter-widgets/base",
            "_view_module_version": "1.2.0",
            "_view_name": "StyleView",
            "bar_color": null,
            "description_width": ""
          }
        },
        "c20a393d76db4813982608d5f3d80e33": {
          "model_module": "@jupyter-widgets/base",
          "model_name": "LayoutModel",
          "model_module_version": "1.2.0",
          "state": {
            "_model_module": "@jupyter-widgets/base",
            "_model_module_version": "1.2.0",
            "_model_name": "LayoutModel",
            "_view_count": null,
            "_view_module": "@jupyter-widgets/base",
            "_view_module_version": "1.2.0",
            "_view_name": "LayoutView",
            "align_content": null,
            "align_items": null,
            "align_self": null,
            "border": null,
            "bottom": null,
            "display": null,
            "flex": null,
            "flex_flow": null,
            "grid_area": null,
            "grid_auto_columns": null,
            "grid_auto_flow": null,
            "grid_auto_rows": null,
            "grid_column": null,
            "grid_gap": null,
            "grid_row": null,
            "grid_template_areas": null,
            "grid_template_columns": null,
            "grid_template_rows": null,
            "height": null,
            "justify_content": null,
            "justify_items": null,
            "left": null,
            "margin": null,
            "max_height": null,
            "max_width": null,
            "min_height": null,
            "min_width": null,
            "object_fit": null,
            "object_position": null,
            "order": null,
            "overflow": null,
            "overflow_x": null,
            "overflow_y": null,
            "padding": null,
            "right": null,
            "top": null,
            "visibility": null,
            "width": null
          }
        },
        "558513f94f32438ea6b8e03a2851e7f3": {
          "model_module": "@jupyter-widgets/controls",
          "model_name": "DescriptionStyleModel",
          "model_module_version": "1.5.0",
          "state": {
            "_model_module": "@jupyter-widgets/controls",
            "_model_module_version": "1.5.0",
            "_model_name": "DescriptionStyleModel",
            "_view_count": null,
            "_view_module": "@jupyter-widgets/base",
            "_view_module_version": "1.2.0",
            "_view_name": "StyleView",
            "description_width": ""
          }
        }
      }
    }
  },
  "nbformat": 4,
  "nbformat_minor": 5
}