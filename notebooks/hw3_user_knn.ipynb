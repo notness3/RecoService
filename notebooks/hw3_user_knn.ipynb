{
 "cells": [
  {
   "cell_type": "code",
   "execution_count": 86,
   "id": "edb1a4df",
   "metadata": {},
   "outputs": [],
   "source": [
    "import copy\n",
    "import pickle\n",
    "import pandas as pd\n",
    "import numpy as np\n",
    "import requests\n",
    "from tqdm.auto import tqdm\n",
    "from scipy.stats import mode \n",
    "from pprint import pprint\n",
    "from implicit.nearest_neighbours import BM25Recommender, CosineRecommender, TFIDFRecommender\n",
    "\n",
    "from rectools import Columns\n",
    "from rectools.dataset import Dataset, Interactions\n",
    "from rectools.metrics import MAP, MeanInvUserFreq, calc_metrics\n",
    "from rectools.models import PopularModel\n",
    "from rectools.model_selection import TimeRangeSplitter\n",
    "\n",
    "warnings.filterwarnings(\"ignore\")\n",
    "pd.set_option('display.max_columns', None)\n",
    "pd.set_option('display.max_colwidth', 200)"
   ]
  },
  {
   "cell_type": "code",
   "execution_count": 43,
   "id": "704e9ecb",
   "metadata": {},
   "outputs": [],
   "source": [
    "class UserKnn():\n",
    "    \"\"\"Class for fit-perdict UserKNN model \n",
    "       based on ItemKNN model from implicit.nearest_neighbours\n",
    "    \"\"\"\n",
    "    \n",
    "    def __init__(self, model: ItemItemRecommender, N_users: int = 50):\n",
    "        self.N_users = N_users\n",
    "        self.model = model\n",
    "        self.is_fitted = False\n",
    "        \n",
    "    def get_mappings(self, train):\n",
    "        self.users_inv_mapping = dict(enumerate(train['user_id'].unique()))\n",
    "        self.users_mapping = {v: k for k, v in self.users_inv_mapping.items()}\n",
    "        \n",
    "        self.items_inv_mapping = dict(enumerate(train['item_id'].unique()))\n",
    "        self.items_mapping = {v: k for k, v in self.items_inv_mapping.items()}\n",
    "    \n",
    "    def get_matrix(self, df: pd.DataFrame, \n",
    "                   user_col: str = 'user_id', \n",
    "                   item_col: str = 'item_id', \n",
    "                   weight_col: str = None, \n",
    "                   users_mapping: Dict[int, int] = None, \n",
    "                   items_mapping: Dict[int, int] = None):\n",
    "    \n",
    "        if weight_col:\n",
    "            weights = df[weight_col].astype(np.float32)\n",
    "        else:\n",
    "            weights = np.ones(len(df), dtype=np.float32)\n",
    "\n",
    "        self.interaction_matrix = sp.sparse.coo_matrix((\n",
    "            weights, \n",
    "            (\n",
    "                df[item_col].map(self.items_mapping.get),\n",
    "                df[user_col].map(self.users_mapping.get)\n",
    "            )\n",
    "            ))\n",
    "        \n",
    "        self.watched = df\\\n",
    "            .groupby(user_col, as_index=False)\\\n",
    "            .agg({item_col: list})\\\n",
    "            .rename(columns={user_col: 'sim_user_id'})\n",
    "        \n",
    "        return self.interaction_matrix\n",
    "        \n",
    "    def idf(self, n: int, x: float):\n",
    "        return np.log((1 + n) / (1 + x) + 1)\n",
    "        \n",
    "    def _count_item_idf(self, df: pd.DataFrame):\n",
    "        item_cnt = Counter(df['item_id'].values)\n",
    "        item_idf = pd.DataFrame.from_dict(item_cnt, orient='index', \n",
    "                                          columns=['doc_freq']).reset_index()\n",
    "        item_idf['idf'] = item_idf['doc_freq'].apply(lambda x: self.idf(self.n, x))\n",
    "        self.item_idf = item_idf \n",
    "    \n",
    "    def fit(self, train: pd.DataFrame):\n",
    "        self.user_knn = self.model\n",
    "        self.get_mappings(train)\n",
    "        self.weights_matrix = self.get_matrix(train, \n",
    "                                              users_mapping=self.users_mapping, \n",
    "                                              items_mapping=self.items_mapping)\n",
    "        \n",
    "        self.n = train.shape[0]\n",
    "        self._count_item_idf(train)\n",
    "        \n",
    "        self.user_knn.fit(self.weights_matrix)\n",
    "        self.is_fitted = True\n",
    "\n",
    "    def _generate_recs_mapper(self, model: ItemItemRecommender, user_mapping: Dict[int, int], \n",
    "                              user_inv_mapping: Dict[int, int], N: int):\n",
    "        def _recs_mapper(user):\n",
    "            user_id = self.users_mapping[user]\n",
    "            users, sim = model.similar_items(user_id, N=N)\n",
    "            return [self.users_inv_mapping[user] for user in users], sim\n",
    "        return _recs_mapper\n",
    "    \n",
    "    def predict(self, test: pd.DataFrame, N_recs: int = 10):\n",
    "        \n",
    "        if not self.is_fitted:\n",
    "            raise ValueError(\"Please call fit before predict\")\n",
    "        \n",
    "        mapper = self._generate_recs_mapper(\n",
    "            model=self.user_knn, \n",
    "            user_mapping=self.users_mapping,\n",
    "            user_inv_mapping=self.users_inv_mapping,\n",
    "            N=self.N_users\n",
    "        )\n",
    "\n",
    "        recs = pd.DataFrame({'user_id': test['user_id'].unique()})\n",
    "        recs['sim_user_id'], recs['sim'] = zip(*recs['user_id'].map(mapper))\n",
    "        recs = recs.set_index('user_id').apply(pd.Series.explode).reset_index()\n",
    "        \n",
    "        recs = recs[~(recs['user_id'] == recs['sim_user_id'])]\\\n",
    "            .merge(self.watched, on=['sim_user_id'], how='left')\\\n",
    "            .explode('item_id')\\\n",
    "            .sort_values(['user_id', 'sim'], ascending=False)\\\n",
    "            .drop_duplicates(['user_id', 'item_id'], keep='first')\\\n",
    "            .merge(self.item_idf, left_on='item_id', right_on='index', how='left')\n",
    "        \n",
    "        recs['score'] = recs['sim'] * recs['idf']\n",
    "        recs = recs.sort_values(['user_id', 'score'], ascending=False)\n",
    "        recs['rank'] = recs.groupby('user_id').cumcount() + 1 \n",
    "        return recs[recs['rank'] <= N_recs][['user_id', 'item_id', 'score', 'rank']]\n",
    "    "
   ]
  },
  {
   "cell_type": "markdown",
   "id": "982878cb",
   "metadata": {},
   "source": [
    "# Загрузка датасета"
   ]
  },
  {
   "cell_type": "code",
   "execution_count": 6,
   "id": "3f0c1d52",
   "metadata": {},
   "outputs": [
    {
     "data": {
      "application/vnd.jupyter.widget-view+json": {
       "model_id": "0fc668246a244f899c2d80c039e165c8",
       "version_major": 2,
       "version_minor": 0
      },
      "text/plain": [
       "Downloading the kion dataset...:   0%|          | 0.00/78.8M [00:00<?, ?iB/s]"
      ]
     },
     "metadata": {},
     "output_type": "display_data"
    }
   ],
   "source": [
    "url = 'https://github.com/irsafilo/KION_DATASET/raw/f69775be31fa5779907cf0a92ddedb70037fb5ae/data_original.zip'\n",
    "req = requests.get(url, stream=True)\n",
    "\n",
    "with open('kion_train.zip', \"wb\") as fd:\n",
    "    total_size_in_bytes = int(req.headers.get('Content-Length', 0))\n",
    "    progress_bar = tqdm(desc='Downloading the kion dataset...', \n",
    "                        total=total_size_in_bytes, \n",
    "                        unit='iB', unit_scale=True)\n",
    "    for chunk in req.iter_content(chunk_size=2 ** 20):\n",
    "        progress_bar.update(len(chunk))\n",
    "        fd.write(chunk)"
   ]
  },
  {
   "cell_type": "code",
   "execution_count": 7,
   "id": "c20f6dee",
   "metadata": {},
   "outputs": [
    {
     "name": "stdout",
     "output_type": "stream",
     "text": [
      "Archive:  kion_train.zip\n",
      "replace data_original/interactions.csv? [y]es, [n]o, [A]ll, [N]one, [r]ename: ^C\n"
     ]
    }
   ],
   "source": [
    "!unzip kion_train.zip -x '__MACOSX/*'"
   ]
  },
  {
   "cell_type": "code",
   "execution_count": 65,
   "id": "cde29b48",
   "metadata": {},
   "outputs": [
    {
     "data": {
      "text/html": [
       "<div>\n",
       "<style scoped>\n",
       "    .dataframe tbody tr th:only-of-type {\n",
       "        vertical-align: middle;\n",
       "    }\n",
       "\n",
       "    .dataframe tbody tr th {\n",
       "        vertical-align: top;\n",
       "    }\n",
       "\n",
       "    .dataframe thead th {\n",
       "        text-align: right;\n",
       "    }\n",
       "</style>\n",
       "<table border=\"1\" class=\"dataframe\">\n",
       "  <thead>\n",
       "    <tr style=\"text-align: right;\">\n",
       "      <th></th>\n",
       "      <th>user_id</th>\n",
       "      <th>item_id</th>\n",
       "      <th>datetime</th>\n",
       "      <th>weight</th>\n",
       "      <th>watched_pct</th>\n",
       "    </tr>\n",
       "  </thead>\n",
       "  <tbody>\n",
       "    <tr>\n",
       "      <th>0</th>\n",
       "      <td>176549</td>\n",
       "      <td>9506</td>\n",
       "      <td>2021-05-11</td>\n",
       "      <td>4250.0</td>\n",
       "      <td>72.0</td>\n",
       "    </tr>\n",
       "    <tr>\n",
       "      <th>1</th>\n",
       "      <td>699317</td>\n",
       "      <td>1659</td>\n",
       "      <td>2021-05-29</td>\n",
       "      <td>8317.0</td>\n",
       "      <td>100.0</td>\n",
       "    </tr>\n",
       "    <tr>\n",
       "      <th>2</th>\n",
       "      <td>656683</td>\n",
       "      <td>7107</td>\n",
       "      <td>2021-05-09</td>\n",
       "      <td>10.0</td>\n",
       "      <td>0.0</td>\n",
       "    </tr>\n",
       "    <tr>\n",
       "      <th>3</th>\n",
       "      <td>864613</td>\n",
       "      <td>7638</td>\n",
       "      <td>2021-07-05</td>\n",
       "      <td>14483.0</td>\n",
       "      <td>100.0</td>\n",
       "    </tr>\n",
       "    <tr>\n",
       "      <th>4</th>\n",
       "      <td>964868</td>\n",
       "      <td>9506</td>\n",
       "      <td>2021-04-30</td>\n",
       "      <td>6725.0</td>\n",
       "      <td>100.0</td>\n",
       "    </tr>\n",
       "  </tbody>\n",
       "</table>\n",
       "</div>"
      ],
      "text/plain": [
       "   user_id  item_id   datetime   weight  watched_pct\n",
       "0   176549     9506 2021-05-11   4250.0         72.0\n",
       "1   699317     1659 2021-05-29   8317.0        100.0\n",
       "2   656683     7107 2021-05-09     10.0          0.0\n",
       "3   864613     7638 2021-07-05  14483.0        100.0\n",
       "4   964868     9506 2021-04-30   6725.0        100.0"
      ]
     },
     "execution_count": 65,
     "metadata": {},
     "output_type": "execute_result"
    }
   ],
   "source": [
    "interactions_df = pd.read_csv('data_original/interactions.csv')\n",
    "users = pd.read_csv('data_original/users.csv')\n",
    "items = pd.read_csv('data_original/items.csv')\n",
    "\n",
    "interactions_df.rename(columns={'last_watch_dt': Columns.Datetime,\n",
    "                                'total_dur': Columns.Weight}, inplace=True) \n",
    "# will cast types and save new pd.DataFrame inside in Interactions.df\n",
    "interactions = Interactions(interactions_df)    \n",
    "\n",
    "interactions.df.head()"
   ]
  },
  {
   "cell_type": "markdown",
   "id": "98ce7dc1",
   "metadata": {},
   "source": [
    "## Задаем фолды для кросс-валидации"
   ]
  },
  {
   "cell_type": "code",
   "execution_count": 35,
   "id": "600cc87b",
   "metadata": {},
   "outputs": [],
   "source": [
    "N_SPLITS = 4\n",
    "TEST_SIZE = '7D'"
   ]
  },
  {
   "cell_type": "code",
   "execution_count": 36,
   "id": "89845347",
   "metadata": {},
   "outputs": [],
   "source": [
    "# Init generator of folds\n",
    "cv = TimeRangeSplitter(\n",
    "    test_size=TEST_SIZE,\n",
    "    n_splits=N_SPLITS,\n",
    "    filter_already_seen=True,\n",
    "    filter_cold_items=True,\n",
    "    filter_cold_users=True,\n",
    ")"
   ]
  },
  {
   "cell_type": "code",
   "execution_count": 37,
   "id": "b6ed0214",
   "metadata": {},
   "outputs": [
    {
     "data": {
      "text/plain": [
       "[(Timestamp('2021-07-26 00:00:00', freq='7D'),\n",
       "  Timestamp('2021-08-02 00:00:00', freq='7D')),\n",
       " (Timestamp('2021-08-02 00:00:00', freq='7D'),\n",
       "  Timestamp('2021-08-09 00:00:00', freq='7D')),\n",
       " (Timestamp('2021-08-09 00:00:00', freq='7D'),\n",
       "  Timestamp('2021-08-16 00:00:00', freq='7D')),\n",
       " (Timestamp('2021-08-16 00:00:00', freq='7D'),\n",
       "  Timestamp('2021-08-23 00:00:00', freq='7D'))]"
      ]
     },
     "execution_count": 37,
     "metadata": {},
     "output_type": "execute_result"
    }
   ],
   "source": [
    "cv.get_test_fold_borders(interactions)"
   ]
  },
  {
   "cell_type": "markdown",
   "id": "633b2e23",
   "metadata": {},
   "source": [
    "## Задаем метрики и модели, по которым будем делать CV"
   ]
  },
  {
   "cell_type": "code",
   "execution_count": 44,
   "id": "2bf27294",
   "metadata": {},
   "outputs": [],
   "source": [
    "# calculate several classic (precision@k and recall@k) and \"beyond accuracy\" metrics\n",
    "metrics = {\n",
    "    'map@10': MAP(k=10),\n",
    "    'novelty': MeanInvUserFreq(k=10),\n",
    "}\n",
    "\n",
    "# few simple models to compare\n",
    "models = {\n",
    "    'cosine_userknn': CosineRecommender(), # implicit \n",
    "    'tfidf_userknn': TFIDFRecommender(),\n",
    "    'bm25': BM25Recommender()\n",
    "    \n",
    "}"
   ]
  },
  {
   "cell_type": "code",
   "execution_count": 45,
   "id": "8613a532",
   "metadata": {},
   "outputs": [
    {
     "name": "stdout",
     "output_type": "stream",
     "text": [
      "\n",
      "==================== Fold 0\n",
      "{'end': Timestamp('2021-08-02 00:00:00', freq='7D'),\n",
      " 'i_split': 0,\n",
      " 'start': Timestamp('2021-07-26 00:00:00', freq='7D'),\n",
      " 'test': 254565,\n",
      " 'test_items': 6650,\n",
      " 'test_users': 94910,\n",
      " 'train': 3892558,\n",
      " 'train_items': 15085,\n",
      " 'train_users': 742256}\n"
     ]
    },
    {
     "data": {
      "application/vnd.jupyter.widget-view+json": {
       "model_id": "20c12a3fabf842ff8c43e20bcf75e558",
       "version_major": 2,
       "version_minor": 0
      },
      "text/plain": [
       "  0%|          | 0/742256 [00:00<?, ?it/s]"
      ]
     },
     "metadata": {},
     "output_type": "display_data"
    },
    {
     "data": {
      "application/vnd.jupyter.widget-view+json": {
       "model_id": "420058cef05847638e9a8eb55dcca747",
       "version_major": 2,
       "version_minor": 0
      },
      "text/plain": [
       "  0%|          | 0/742256 [00:00<?, ?it/s]"
      ]
     },
     "metadata": {},
     "output_type": "display_data"
    },
    {
     "data": {
      "application/vnd.jupyter.widget-view+json": {
       "model_id": "be5ef195f2a7458db3e380cf3ae1e952",
       "version_major": 2,
       "version_minor": 0
      },
      "text/plain": [
       "  0%|          | 0/742256 [00:00<?, ?it/s]"
      ]
     },
     "metadata": {},
     "output_type": "display_data"
    },
    {
     "name": "stdout",
     "output_type": "stream",
     "text": [
      "\n",
      "==================== Fold 1\n",
      "{'end': Timestamp('2021-08-09 00:00:00', freq='7D'),\n",
      " 'i_split': 1,\n",
      " 'start': Timestamp('2021-08-02 00:00:00', freq='7D'),\n",
      " 'test': 263681,\n",
      " 'test_items': 6602,\n",
      " 'test_users': 98184,\n",
      " 'train': 4266013,\n",
      " 'train_items': 15237,\n",
      " 'train_users': 797423}\n"
     ]
    },
    {
     "data": {
      "application/vnd.jupyter.widget-view+json": {
       "model_id": "c8c021c840e34797bde77f43d60a8bb5",
       "version_major": 2,
       "version_minor": 0
      },
      "text/plain": [
       "  0%|          | 0/797423 [00:00<?, ?it/s]"
      ]
     },
     "metadata": {},
     "output_type": "display_data"
    },
    {
     "data": {
      "application/vnd.jupyter.widget-view+json": {
       "model_id": "a330c9f68921432c918936362cba1e91",
       "version_major": 2,
       "version_minor": 0
      },
      "text/plain": [
       "  0%|          | 0/797423 [00:00<?, ?it/s]"
      ]
     },
     "metadata": {},
     "output_type": "display_data"
    },
    {
     "data": {
      "application/vnd.jupyter.widget-view+json": {
       "model_id": "24091bb71e2c4ddcbbfee07ad7e3efac",
       "version_major": 2,
       "version_minor": 0
      },
      "text/plain": [
       "  0%|          | 0/797423 [00:00<?, ?it/s]"
      ]
     },
     "metadata": {},
     "output_type": "display_data"
    },
    {
     "name": "stdout",
     "output_type": "stream",
     "text": [
      "\n",
      "==================== Fold 2\n",
      "{'end': Timestamp('2021-08-16 00:00:00', freq='7D'),\n",
      " 'i_split': 2,\n",
      " 'start': Timestamp('2021-08-09 00:00:00', freq='7D'),\n",
      " 'test': 279422,\n",
      " 'test_items': 6698,\n",
      " 'test_users': 103511,\n",
      " 'train': 4649162,\n",
      " 'train_items': 15415,\n",
      " 'train_users': 850489}\n"
     ]
    },
    {
     "data": {
      "application/vnd.jupyter.widget-view+json": {
       "model_id": "8d5e08a23e07408cb8ddae0b73b4caed",
       "version_major": 2,
       "version_minor": 0
      },
      "text/plain": [
       "  0%|          | 0/850489 [00:00<?, ?it/s]"
      ]
     },
     "metadata": {},
     "output_type": "display_data"
    },
    {
     "data": {
      "application/vnd.jupyter.widget-view+json": {
       "model_id": "9f7eb5692e3449cf8db7aca4637879de",
       "version_major": 2,
       "version_minor": 0
      },
      "text/plain": [
       "  0%|          | 0/850489 [00:00<?, ?it/s]"
      ]
     },
     "metadata": {},
     "output_type": "display_data"
    },
    {
     "data": {
      "application/vnd.jupyter.widget-view+json": {
       "model_id": "dd72862505d24a7e92ba6b3e6aba8b53",
       "version_major": 2,
       "version_minor": 0
      },
      "text/plain": [
       "  0%|          | 0/850489 [00:00<?, ?it/s]"
      ]
     },
     "metadata": {},
     "output_type": "display_data"
    },
    {
     "name": "stdout",
     "output_type": "stream",
     "text": [
      "\n",
      "==================== Fold 3\n",
      "{'end': Timestamp('2021-08-23 00:00:00', freq='7D'),\n",
      " 'i_split': 3,\n",
      " 'start': Timestamp('2021-08-16 00:00:00', freq='7D'),\n",
      " 'test': 298878,\n",
      " 'test_items': 6679,\n",
      " 'test_users': 110076,\n",
      " 'train': 5051815,\n",
      " 'train_items': 15577,\n",
      " 'train_users': 906071}\n"
     ]
    },
    {
     "data": {
      "application/vnd.jupyter.widget-view+json": {
       "model_id": "82840af9def5483eb4ccf2a82f85e7e3",
       "version_major": 2,
       "version_minor": 0
      },
      "text/plain": [
       "  0%|          | 0/906071 [00:00<?, ?it/s]"
      ]
     },
     "metadata": {},
     "output_type": "display_data"
    },
    {
     "data": {
      "application/vnd.jupyter.widget-view+json": {
       "model_id": "2c121d6d168d4601abce802a019a7e0b",
       "version_major": 2,
       "version_minor": 0
      },
      "text/plain": [
       "  0%|          | 0/906071 [00:00<?, ?it/s]"
      ]
     },
     "metadata": {},
     "output_type": "display_data"
    },
    {
     "data": {
      "application/vnd.jupyter.widget-view+json": {
       "model_id": "5de91ba89d55480aa9613ba632e1cb9d",
       "version_major": 2,
       "version_minor": 0
      },
      "text/plain": [
       "  0%|          | 0/906071 [00:00<?, ?it/s]"
      ]
     },
     "metadata": {},
     "output_type": "display_data"
    },
    {
     "name": "stdout",
     "output_type": "stream",
     "text": [
      "CPU times: user 2h 46min 23s, sys: 51.8 s, total: 2h 47min 15s\n",
      "Wall time: 11h 33min 27s\n"
     ]
    }
   ],
   "source": [
    "%%time\n",
    "\n",
    "results = []\n",
    "\n",
    "fold_iterator = cv.split(interactions, collect_fold_stats=True)\n",
    "\n",
    "for i_fold, (train_ids, test_ids, fold_info) in enumerate(fold_iterator):\n",
    "    print(f\"\\n==================== Fold {i_fold}\")\n",
    "    pprint(fold_info)\n",
    "\n",
    "    df_train = interactions.df.iloc[train_ids].copy()\n",
    "    df_test = interactions.df.iloc[test_ids][Columns.UserItem].copy()\n",
    "\n",
    "    catalog = df_train[Columns.Item].unique()\n",
    "    \n",
    "    for model_name, model in models.items():\n",
    "        userknn_model = UserKnn(model=model, N_users=50)\n",
    "        userknn_model.fit(df_train)\n",
    "    \n",
    "        recos = userknn_model.predict(df_test)\n",
    "    \n",
    "        metric_values = calc_metrics(\n",
    "            metrics,\n",
    "            reco=recos,\n",
    "            interactions=df_test,\n",
    "            prev_interactions=df_train,\n",
    "            catalog=catalog,\n",
    "        )\n",
    "    \n",
    "        fold = {\"fold\": i_fold, \"model\": model_name}\n",
    "        fold.update(metric_values)\n",
    "        results.append(fold)\n",
    "        "
   ]
  },
  {
   "cell_type": "markdown",
   "id": "bf961914",
   "metadata": {},
   "source": [
    "# Метрики качества по фолдам "
   ]
  },
  {
   "cell_type": "code",
   "execution_count": 47,
   "id": "d58ee1ca",
   "metadata": {},
   "outputs": [
    {
     "data": {
      "text/html": [
       "<div>\n",
       "<style scoped>\n",
       "    .dataframe tbody tr th:only-of-type {\n",
       "        vertical-align: middle;\n",
       "    }\n",
       "\n",
       "    .dataframe tbody tr th {\n",
       "        vertical-align: top;\n",
       "    }\n",
       "\n",
       "    .dataframe thead th {\n",
       "        text-align: right;\n",
       "    }\n",
       "</style>\n",
       "<table border=\"1\" class=\"dataframe\">\n",
       "  <thead>\n",
       "    <tr style=\"text-align: right;\">\n",
       "      <th></th>\n",
       "      <th>fold</th>\n",
       "      <th>model</th>\n",
       "      <th>map@10</th>\n",
       "      <th>novelty</th>\n",
       "    </tr>\n",
       "  </thead>\n",
       "  <tbody>\n",
       "    <tr>\n",
       "      <th>0</th>\n",
       "      <td>0</td>\n",
       "      <td>cosine_userknn</td>\n",
       "      <td>0.004339</td>\n",
       "      <td>7.421055</td>\n",
       "    </tr>\n",
       "    <tr>\n",
       "      <th>1</th>\n",
       "      <td>0</td>\n",
       "      <td>tfidf_userknn</td>\n",
       "      <td>0.006852</td>\n",
       "      <td>7.539561</td>\n",
       "    </tr>\n",
       "    <tr>\n",
       "      <th>2</th>\n",
       "      <td>0</td>\n",
       "      <td>bm25</td>\n",
       "      <td>0.002793</td>\n",
       "      <td>9.157852</td>\n",
       "    </tr>\n",
       "    <tr>\n",
       "      <th>3</th>\n",
       "      <td>1</td>\n",
       "      <td>cosine_userknn</td>\n",
       "      <td>0.004246</td>\n",
       "      <td>7.476357</td>\n",
       "    </tr>\n",
       "    <tr>\n",
       "      <th>4</th>\n",
       "      <td>1</td>\n",
       "      <td>tfidf_userknn</td>\n",
       "      <td>0.006773</td>\n",
       "      <td>7.573736</td>\n",
       "    </tr>\n",
       "    <tr>\n",
       "      <th>5</th>\n",
       "      <td>1</td>\n",
       "      <td>bm25</td>\n",
       "      <td>0.002784</td>\n",
       "      <td>9.199335</td>\n",
       "    </tr>\n",
       "    <tr>\n",
       "      <th>6</th>\n",
       "      <td>2</td>\n",
       "      <td>cosine_userknn</td>\n",
       "      <td>0.003785</td>\n",
       "      <td>7.531878</td>\n",
       "    </tr>\n",
       "    <tr>\n",
       "      <th>7</th>\n",
       "      <td>2</td>\n",
       "      <td>tfidf_userknn</td>\n",
       "      <td>0.006279</td>\n",
       "      <td>7.631293</td>\n",
       "    </tr>\n",
       "    <tr>\n",
       "      <th>8</th>\n",
       "      <td>2</td>\n",
       "      <td>bm25</td>\n",
       "      <td>0.002679</td>\n",
       "      <td>9.285580</td>\n",
       "    </tr>\n",
       "    <tr>\n",
       "      <th>9</th>\n",
       "      <td>3</td>\n",
       "      <td>cosine_userknn</td>\n",
       "      <td>0.003685</td>\n",
       "      <td>7.614235</td>\n",
       "    </tr>\n",
       "    <tr>\n",
       "      <th>10</th>\n",
       "      <td>3</td>\n",
       "      <td>tfidf_userknn</td>\n",
       "      <td>0.005949</td>\n",
       "      <td>7.710766</td>\n",
       "    </tr>\n",
       "    <tr>\n",
       "      <th>11</th>\n",
       "      <td>3</td>\n",
       "      <td>bm25</td>\n",
       "      <td>0.002633</td>\n",
       "      <td>9.364591</td>\n",
       "    </tr>\n",
       "  </tbody>\n",
       "</table>\n",
       "</div>"
      ],
      "text/plain": [
       "    fold           model    map@10   novelty\n",
       "0      0  cosine_userknn  0.004339  7.421055\n",
       "1      0   tfidf_userknn  0.006852  7.539561\n",
       "2      0            bm25  0.002793  9.157852\n",
       "3      1  cosine_userknn  0.004246  7.476357\n",
       "4      1   tfidf_userknn  0.006773  7.573736\n",
       "5      1            bm25  0.002784  9.199335\n",
       "6      2  cosine_userknn  0.003785  7.531878\n",
       "7      2   tfidf_userknn  0.006279  7.631293\n",
       "8      2            bm25  0.002679  9.285580\n",
       "9      3  cosine_userknn  0.003685  7.614235\n",
       "10     3   tfidf_userknn  0.005949  7.710766\n",
       "11     3            bm25  0.002633  9.364591"
      ]
     },
     "execution_count": 47,
     "metadata": {},
     "output_type": "execute_result"
    }
   ],
   "source": [
    "df_metrics = pd.DataFrame(results)\n",
    "df_metrics"
   ]
  },
  {
   "cell_type": "markdown",
   "id": "2ee9b2cd",
   "metadata": {},
   "source": [
    "## Metrics mean "
   ]
  },
  {
   "cell_type": "markdown",
   "id": "765a53cd",
   "metadata": {},
   "source": [
    "Best model (without hyperparams tuning) based on map@10 metric is tfidf userknn"
   ]
  },
  {
   "cell_type": "code",
   "execution_count": 48,
   "id": "ceed60b5",
   "metadata": {},
   "outputs": [
    {
     "data": {
      "text/html": [
       "<div>\n",
       "<style scoped>\n",
       "    .dataframe tbody tr th:only-of-type {\n",
       "        vertical-align: middle;\n",
       "    }\n",
       "\n",
       "    .dataframe tbody tr th {\n",
       "        vertical-align: top;\n",
       "    }\n",
       "\n",
       "    .dataframe thead th {\n",
       "        text-align: right;\n",
       "    }\n",
       "</style>\n",
       "<table border=\"1\" class=\"dataframe\">\n",
       "  <thead>\n",
       "    <tr style=\"text-align: right;\">\n",
       "      <th></th>\n",
       "      <th>map@10</th>\n",
       "      <th>novelty</th>\n",
       "    </tr>\n",
       "    <tr>\n",
       "      <th>model</th>\n",
       "      <th></th>\n",
       "      <th></th>\n",
       "    </tr>\n",
       "  </thead>\n",
       "  <tbody>\n",
       "    <tr>\n",
       "      <th>bm25</th>\n",
       "      <td>0.002722</td>\n",
       "      <td>9.251839</td>\n",
       "    </tr>\n",
       "    <tr>\n",
       "      <th>cosine_userknn</th>\n",
       "      <td>0.004014</td>\n",
       "      <td>7.510881</td>\n",
       "    </tr>\n",
       "    <tr>\n",
       "      <th>tfidf_userknn</th>\n",
       "      <td>0.006463</td>\n",
       "      <td>7.613839</td>\n",
       "    </tr>\n",
       "  </tbody>\n",
       "</table>\n",
       "</div>"
      ],
      "text/plain": [
       "                  map@10   novelty\n",
       "model                             \n",
       "bm25            0.002722  9.251839\n",
       "cosine_userknn  0.004014  7.510881\n",
       "tfidf_userknn   0.006463  7.613839"
      ]
     },
     "execution_count": 48,
     "metadata": {},
     "output_type": "execute_result"
    }
   ],
   "source": [
    "df_metrics.groupby('model').mean()[metrics.keys()]"
   ]
  },
  {
   "cell_type": "markdown",
   "id": "370f6773",
   "metadata": {},
   "source": [
    "# Учим TFIDFRecommender на всех данных и сохраняем в pickle и json для инференса"
   ]
  },
  {
   "cell_type": "code",
   "execution_count": 50,
   "id": "75798452",
   "metadata": {},
   "outputs": [],
   "source": [
    "model = TFIDFRecommender()"
   ]
  },
  {
   "cell_type": "code",
   "execution_count": 51,
   "id": "5fcdb0d1",
   "metadata": {},
   "outputs": [],
   "source": [
    "userknn_model = UserKnn(model=model, N_users=50)"
   ]
  },
  {
   "cell_type": "code",
   "execution_count": 52,
   "id": "c6f15c97",
   "metadata": {},
   "outputs": [
    {
     "data": {
      "application/vnd.jupyter.widget-view+json": {
       "model_id": "4ba2c34fa11f47a4b2a4c903eabbbe76",
       "version_major": 2,
       "version_minor": 0
      },
      "text/plain": [
       "  0%|          | 0/962179 [00:00<?, ?it/s]"
      ]
     },
     "metadata": {},
     "output_type": "display_data"
    }
   ],
   "source": [
    "userknn_model.fit(interactions.df)"
   ]
  },
  {
   "cell_type": "code",
   "execution_count": 54,
   "id": "4f3637f3",
   "metadata": {},
   "outputs": [],
   "source": [
    "with open('user_knn.pickle', 'wb') as f:\n",
    "    pickle.dump(userknn_model, f)"
   ]
  },
  {
   "cell_type": "code",
   "execution_count": 55,
   "id": "ecb028b5",
   "metadata": {},
   "outputs": [],
   "source": [
    "with open('user_knn.pickle', 'rb') as f:\n",
    "    model = pickle.load(f)"
   ]
  },
  {
   "cell_type": "code",
   "execution_count": 57,
   "id": "30b7bb4b",
   "metadata": {},
   "outputs": [],
   "source": [
    "part = interactions.df.iloc[:5]"
   ]
  },
  {
   "cell_type": "code",
   "execution_count": 59,
   "id": "20d21e47",
   "metadata": {},
   "outputs": [
    {
     "name": "stdout",
     "output_type": "stream",
     "text": [
      "CPU times: user 158 ms, sys: 46.5 ms, total: 204 ms\n",
      "Wall time: 213 ms\n"
     ]
    }
   ],
   "source": [
    "%%time\n",
    "\n",
    "recos = model.predict(part)"
   ]
  },
  {
   "cell_type": "code",
   "execution_count": 71,
   "id": "803881bb",
   "metadata": {},
   "outputs": [
    {
     "data": {
      "text/html": [
       "<div>\n",
       "<style scoped>\n",
       "    .dataframe tbody tr th:only-of-type {\n",
       "        vertical-align: middle;\n",
       "    }\n",
       "\n",
       "    .dataframe tbody tr th {\n",
       "        vertical-align: top;\n",
       "    }\n",
       "\n",
       "    .dataframe thead th {\n",
       "        text-align: right;\n",
       "    }\n",
       "</style>\n",
       "<table border=\"1\" class=\"dataframe\">\n",
       "  <thead>\n",
       "    <tr style=\"text-align: right;\">\n",
       "      <th></th>\n",
       "      <th>user_id</th>\n",
       "      <th>item_id</th>\n",
       "      <th>score</th>\n",
       "      <th>rank</th>\n",
       "    </tr>\n",
       "  </thead>\n",
       "  <tbody>\n",
       "    <tr>\n",
       "      <th>258</th>\n",
       "      <td>699317</td>\n",
       "      <td>8886</td>\n",
       "      <td>2.48107</td>\n",
       "      <td>8</td>\n",
       "    </tr>\n",
       "    <tr>\n",
       "      <th>4</th>\n",
       "      <td>864613</td>\n",
       "      <td>10440</td>\n",
       "      <td>1.689577</td>\n",
       "      <td>10</td>\n",
       "    </tr>\n",
       "    <tr>\n",
       "      <th>1</th>\n",
       "      <td>864613</td>\n",
       "      <td>7638</td>\n",
       "      <td>4.652534</td>\n",
       "      <td>1</td>\n",
       "    </tr>\n",
       "    <tr>\n",
       "      <th>3</th>\n",
       "      <td>864613</td>\n",
       "      <td>12192</td>\n",
       "      <td>2.519292</td>\n",
       "      <td>7</td>\n",
       "    </tr>\n",
       "    <tr>\n",
       "      <th>8</th>\n",
       "      <td>864613</td>\n",
       "      <td>13668</td>\n",
       "      <td>3.856327</td>\n",
       "      <td>4</td>\n",
       "    </tr>\n",
       "  </tbody>\n",
       "</table>\n",
       "</div>"
      ],
      "text/plain": [
       "     user_id item_id     score  rank\n",
       "258   699317    8886   2.48107     8\n",
       "4     864613   10440  1.689577    10\n",
       "1     864613    7638  4.652534     1\n",
       "3     864613   12192  2.519292     7\n",
       "8     864613   13668  3.856327     4"
      ]
     },
     "execution_count": 71,
     "metadata": {},
     "output_type": "execute_result"
    }
   ],
   "source": [
    "recos.iloc[:10]"
   ]
  },
  {
   "cell_type": "code",
   "execution_count": 72,
   "id": "a522876e",
   "metadata": {},
   "outputs": [],
   "source": [
    "whole_recos = model.predict(interactions.df)"
   ]
  },
  {
   "cell_type": "code",
   "execution_count": 74,
   "id": "e1b64231",
   "metadata": {},
   "outputs": [],
   "source": [
    "#save model for offline validation\n",
    "import json\n",
    "\n",
    "with open(\"userknn_model.json\", \"w\") as f:\n",
    "    json.dump(whole_recos.groupby(\"user_id\")[\"item_id\"].agg(list).to_dict(), f)"
   ]
  },
  {
   "cell_type": "markdown",
   "id": "007d57cf",
   "metadata": {},
   "source": [
    "# Cчитаем метрики на cross validation для PopularModel"
   ]
  },
  {
   "cell_type": "code",
   "execution_count": 88,
   "id": "bf59e959",
   "metadata": {},
   "outputs": [],
   "source": [
    "# Init generator of folds\n",
    "cv = TimeRangeSplitter(\n",
    "    test_size=TEST_SIZE,\n",
    "    n_splits=N_SPLITS,\n",
    "    filter_already_seen=True,\n",
    "    filter_cold_items=True,\n",
    "    filter_cold_users=True,\n",
    ")"
   ]
  },
  {
   "cell_type": "code",
   "execution_count": 89,
   "id": "985b4229",
   "metadata": {},
   "outputs": [],
   "source": [
    "class RecoService:\n",
    "    def __init__(self, \n",
    "                 interactions: pd.DataFrame,\n",
    "                 models: dict,\n",
    "                 metrics: dict,\n",
    "                 splitter: TimeRangeSplitter,\n",
    "                 k: int,\n",
    "                 n_splits: int = N_SPLITS    \n",
    "                ):\n",
    "        self.interactions = interactions\n",
    "        \n",
    "        self.models = models\n",
    "        self.metrics = metrics\n",
    "        \n",
    "        self.splitter = splitter\n",
    "        self.n_splits = n_splits\n",
    "        \n",
    "        self.k = k\n",
    "    \n",
    "    def train(self):\n",
    "        results, last_models = list(), dict()\n",
    "        \n",
    "        cv = self.splitter.split(self.interactions)\n",
    "        \n",
    "        for train_ids, test_ids, fold_info in tqdm((cv), total=self.n_splits):\n",
    "            print(f\"\\n==================== Fold {fold_info['i_split']}\")\n",
    "            print(fold_info)\n",
    "            \n",
    "            df_train = self.interactions.df.iloc[train_ids]\n",
    "            dataset = Dataset.construct(df_train)\n",
    "\n",
    "            df_test = self.interactions.df.iloc[test_ids][Columns.UserItem]\n",
    "            test_users = np.unique(df_test[Columns.User])\n",
    "\n",
    "            # Catalog is set of items that we recommend.\n",
    "            # Sometimes we recommend not all items from train.\n",
    "            catalog = df_train[Columns.Item].unique()\n",
    "\n",
    "            for model_name, model in self.models.items():\n",
    "                model = copy.deepcopy(model)\n",
    "                model.fit(dataset)\n",
    "                \n",
    "                recos = model.recommend(\n",
    "                    users=test_users,\n",
    "                    dataset=dataset,\n",
    "                    k=self.k,\n",
    "                    filter_viewed=True,\n",
    "                )\n",
    "                \n",
    "                metric_values = calc_metrics(\n",
    "                    self.metrics,\n",
    "                    reco=recos,\n",
    "                    interactions=df_test,\n",
    "                    prev_interactions=df_train,\n",
    "                    catalog=catalog,\n",
    "                )\n",
    "                res = {\"fold\": fold_info[\"i_split\"], \"model\": model_name}\n",
    "                res.update(metric_values)\n",
    "                results.append(res)\n",
    "                last_models[model_name] = model\n",
    "        \n",
    "        pivot_results = pd.DataFrame(results).drop(columns=\"fold\").groupby([\"model\"], sort=False).agg(\"mean\")\n",
    "        \n",
    "        return {\n",
    "                'results': pivot_results,\n",
    "                'models': last_models\n",
    "        }\n",
    "    "
   ]
  },
  {
   "cell_type": "code",
   "execution_count": 90,
   "id": "0a66c65f",
   "metadata": {},
   "outputs": [],
   "source": [
    "pop_models = {'Popular': PopularModel()}"
   ]
  },
  {
   "cell_type": "code",
   "execution_count": 92,
   "id": "483688e6",
   "metadata": {},
   "outputs": [],
   "source": [
    "rec_service = RecoService(\n",
    "        interactions = interactions,\n",
    "        models = pop_models,\n",
    "        metrics = metrics,\n",
    "        splitter = cv,\n",
    "        k=10\n",
    ")"
   ]
  },
  {
   "cell_type": "code",
   "execution_count": 93,
   "id": "978b22e0",
   "metadata": {},
   "outputs": [
    {
     "data": {
      "application/vnd.jupyter.widget-view+json": {
       "model_id": "de191f5664a64446a6cbc7cb92f0237e",
       "version_major": 2,
       "version_minor": 0
      },
      "text/plain": [
       "  0%|          | 0/4 [00:00<?, ?it/s]"
      ]
     },
     "metadata": {},
     "output_type": "display_data"
    },
    {
     "name": "stdout",
     "output_type": "stream",
     "text": [
      "\n",
      "==================== Fold 0\n",
      "{'i_split': 0, 'start': Timestamp('2021-07-26 00:00:00', freq='7D'), 'end': Timestamp('2021-08-02 00:00:00', freq='7D')}\n",
      "\n",
      "==================== Fold 1\n",
      "{'i_split': 1, 'start': Timestamp('2021-08-02 00:00:00', freq='7D'), 'end': Timestamp('2021-08-09 00:00:00', freq='7D')}\n",
      "\n",
      "==================== Fold 2\n",
      "{'i_split': 2, 'start': Timestamp('2021-08-09 00:00:00', freq='7D'), 'end': Timestamp('2021-08-16 00:00:00', freq='7D')}\n",
      "\n",
      "==================== Fold 3\n",
      "{'i_split': 3, 'start': Timestamp('2021-08-16 00:00:00', freq='7D'), 'end': Timestamp('2021-08-23 00:00:00', freq='7D')}\n"
     ]
    }
   ],
   "source": [
    "results = rec_service.train()"
   ]
  },
  {
   "cell_type": "code",
   "execution_count": 94,
   "id": "07a7f0b1",
   "metadata": {},
   "outputs": [
    {
     "data": {
      "text/html": [
       "<div>\n",
       "<style scoped>\n",
       "    .dataframe tbody tr th:only-of-type {\n",
       "        vertical-align: middle;\n",
       "    }\n",
       "\n",
       "    .dataframe tbody tr th {\n",
       "        vertical-align: top;\n",
       "    }\n",
       "\n",
       "    .dataframe thead th {\n",
       "        text-align: right;\n",
       "    }\n",
       "</style>\n",
       "<table border=\"1\" class=\"dataframe\">\n",
       "  <thead>\n",
       "    <tr style=\"text-align: right;\">\n",
       "      <th></th>\n",
       "      <th>map@10</th>\n",
       "      <th>novelty</th>\n",
       "    </tr>\n",
       "    <tr>\n",
       "      <th>model</th>\n",
       "      <th></th>\n",
       "      <th></th>\n",
       "    </tr>\n",
       "  </thead>\n",
       "  <tbody>\n",
       "    <tr>\n",
       "      <th>Popular</th>\n",
       "      <td>0.085682</td>\n",
       "      <td>3.715195</td>\n",
       "    </tr>\n",
       "  </tbody>\n",
       "</table>\n",
       "</div>"
      ],
      "text/plain": [
       "           map@10   novelty\n",
       "model                      \n",
       "Popular  0.085682  3.715195"
      ]
     },
     "execution_count": 94,
     "metadata": {},
     "output_type": "execute_result"
    }
   ],
   "source": [
    "results['results']"
   ]
  },
  {
   "cell_type": "markdown",
   "id": "291e52ab",
   "metadata": {},
   "source": [
    "# Учим Popular Model на всех данных и сохраняем в json для инференса"
   ]
  },
  {
   "cell_type": "code",
   "execution_count": 91,
   "id": "ab12af6f",
   "metadata": {},
   "outputs": [],
   "source": [
    "dataset = Dataset.construct(interactions_df)"
   ]
  },
  {
   "cell_type": "code",
   "execution_count": 96,
   "id": "96eec942",
   "metadata": {},
   "outputs": [],
   "source": [
    "popular_model = PopularModel()"
   ]
  },
  {
   "cell_type": "code",
   "execution_count": 97,
   "id": "4bf86d62",
   "metadata": {},
   "outputs": [
    {
     "data": {
      "text/plain": [
       "<rectools.models.popular.PopularModel at 0x346316370>"
      ]
     },
     "execution_count": 97,
     "metadata": {},
     "output_type": "execute_result"
    }
   ],
   "source": [
    "popular_model.fit(dataset)"
   ]
  },
  {
   "cell_type": "code",
   "execution_count": 101,
   "id": "68055e39",
   "metadata": {},
   "outputs": [],
   "source": [
    "user_ids = interactions.df.user_id.unique()"
   ]
  },
  {
   "cell_type": "code",
   "execution_count": 102,
   "id": "34eec752",
   "metadata": {},
   "outputs": [],
   "source": [
    "whole_recos = popular_model.recommend(\n",
    "                    users=user_ids,\n",
    "                    dataset=dataset,\n",
    "                    k=10,\n",
    "                    filter_viewed=True,\n",
    "                )"
   ]
  },
  {
   "cell_type": "code",
   "execution_count": 105,
   "id": "f02ddebd",
   "metadata": {},
   "outputs": [],
   "source": [
    "#save model for offline validation\n",
    "import json\n",
    "\n",
    "with open(\"popular_model.json\", \"w\") as f:\n",
    "    json.dump(whole_recos.groupby(\"user_id\")[\"item_id\"].agg(list).to_dict(), f)"
   ]
  }
 ],
 "metadata": {
  "kernelspec": {
   "display_name": "Python 3 (ipykernel)",
   "language": "python",
   "name": "python3"
  },
  "language_info": {
   "codemirror_mode": {
    "name": "ipython",
    "version": 3
   },
   "file_extension": ".py",
   "mimetype": "text/x-python",
   "name": "python",
   "nbconvert_exporter": "python",
   "pygments_lexer": "ipython3",
   "version": "3.9.12"
  }
 },
 "nbformat": 4,
 "nbformat_minor": 5
}
